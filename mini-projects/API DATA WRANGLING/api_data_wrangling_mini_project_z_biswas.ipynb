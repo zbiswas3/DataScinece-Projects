{
 "cells": [
  {
   "cell_type": "markdown",
   "metadata": {},
   "source": [
    "#             Springboard Mini Project: Data Wrangling Using API\n",
    "\n",
    "**STUDENT: ZAHIDUZZAMAN BISWAS**"
   ]
  },
  {
   "cell_type": "markdown",
   "metadata": {
    "deletable": true,
    "editable": true
   },
   "source": [
    "This exercise will require you to pull some data from the Qunadl API. Qaundl is currently the most widely used aggregator of financial market data."
   ]
  },
  {
   "cell_type": "markdown",
   "metadata": {
    "deletable": true,
    "editable": true
   },
   "source": [
    "As a first step, you will need to register a free account on the http://www.quandl.com website."
   ]
  },
  {
   "cell_type": "markdown",
   "metadata": {
    "deletable": true,
    "editable": true
   },
   "source": [
    "After you register, you will be provided with a unique API key, that you should store:"
   ]
  },
  {
   "cell_type": "code",
   "execution_count": 311,
   "metadata": {
    "collapsed": true,
    "deletable": true,
    "editable": true
   },
   "outputs": [],
   "source": [
    "# Store the API key as a string - according to PEP8, constants are always named in all upper case\n",
    "API_KEY = 'yGKskGiqGkyVqUdRU4fX'"
   ]
  },
  {
   "cell_type": "markdown",
   "metadata": {
    "deletable": true,
    "editable": true
   },
   "source": [
    "Qaundl has a large number of data sources, but, unfortunately, most of them require a Premium subscription. Still, there are also a good number of free datasets."
   ]
  },
  {
   "cell_type": "markdown",
   "metadata": {
    "deletable": true,
    "editable": true
   },
   "source": [
    "For this mini project, we will focus on equities data from the Frankfurt Stock Exhange (FSE), which is available for free. We'll try and analyze the stock prices of a company called Carl Zeiss Meditec, which manufactures tools for eye examinations, as well as medical lasers for laser eye surgery: https://www.zeiss.com/meditec/int/home.html. The company is listed under the stock ticker AFX_X."
   ]
  },
  {
   "cell_type": "markdown",
   "metadata": {
    "deletable": true,
    "editable": true
   },
   "source": [
    "You can find the detailed Quandl API instructions here: https://docs.quandl.com/docs/time-series"
   ]
  },
  {
   "cell_type": "markdown",
   "metadata": {
    "deletable": true,
    "editable": true
   },
   "source": [
    "While there is a dedicated Python package for connecting to the Quandl API, we would prefer that you use the *requests* package, which can be easily downloaded using *pip* or *conda*. You can find the documentation for the package here: http://docs.python-requests.org/en/master/ "
   ]
  },
  {
   "cell_type": "markdown",
   "metadata": {
    "deletable": true,
    "editable": true
   },
   "source": [
    "Finally, apart from the *requests* package, you are encouraged to not use any third party Python packages, such as *pandas*, and instead focus on what's available in the Python Standard Library (the *collections* module might come in handy: https://pymotw.com/3/collections/).\n",
    "Also, since you won't have access to DataFrames, you are encouraged to us Python's native data structures - preferably dictionaries, though some questions can also be answered using lists.\n",
    "You can read more on these data structures here: https://docs.python.org/3/tutorial/datastructures.html"
   ]
  },
  {
   "cell_type": "markdown",
   "metadata": {
    "deletable": true,
    "editable": true
   },
   "source": [
    "Keep in mind that the JSON responses you will be getting from the API map almost one-to-one to Python's dictionaries. Unfortunately, they can be very nested, so make sure you read up on indexing dictionaries in the documentation provided above."
   ]
  },
  {
   "cell_type": "code",
   "execution_count": 312,
   "metadata": {
    "collapsed": false,
    "deletable": true,
    "editable": true
   },
   "outputs": [],
   "source": [
    "# First, import the relevant modules\n",
    "import requests as re\n",
    "#!pip install quandl\n",
    "import quandl"
   ]
  },
  {
   "cell_type": "code",
   "execution_count": 313,
   "metadata": {
    "collapsed": false
   },
   "outputs": [],
   "source": [
    "quandl.ApiConfig.api_key = API_KEY\n"
   ]
  },
  {
   "cell_type": "code",
   "execution_count": 314,
   "metadata": {
    "collapsed": false,
    "deletable": true,
    "editable": true
   },
   "outputs": [],
   "source": [
    "# Now, call the Quandl API and pull out a small sample of the data (only one day) to get a glimpse\n",
    "# into the JSON structure that will be returned\n",
    "quandl.ApiConfig.api_key = API_KEY\n",
    "r = re.get('https://www.quandl.com/api/v3/datasets/FSE/AFX_X.json?api_key=yGKskGiqGkyVqUdRU4fX&start_date=2012-11-01&end_date=2012-11-12&rows=1')"
   ]
  },
  {
   "cell_type": "code",
   "execution_count": 315,
   "metadata": {
    "collapsed": false,
    "scrolled": true
   },
   "outputs": [
    {
     "data": {
      "text/plain": [
       "{'dataset': {'collapse': None,\n",
       "  'column_index': None,\n",
       "  'column_names': ['Date',\n",
       "   'Open',\n",
       "   'High',\n",
       "   'Low',\n",
       "   'Close',\n",
       "   'Change',\n",
       "   'Traded Volume',\n",
       "   'Turnover',\n",
       "   'Last Price of the Day',\n",
       "   'Daily Traded Units',\n",
       "   'Daily Turnover'],\n",
       "  'data': [['2012-11-12',\n",
       "    22.04,\n",
       "    22.66,\n",
       "    22.04,\n",
       "    22.6,\n",
       "    None,\n",
       "    91621.0,\n",
       "    2052850.0,\n",
       "    None,\n",
       "    None,\n",
       "    None]],\n",
       "  'database_code': 'FSE',\n",
       "  'database_id': 6129,\n",
       "  'dataset_code': 'AFX_X',\n",
       "  'description': 'Stock Prices for Carl Zeiss Meditec (AFX) from the Frankfurt Stock Exchange.<br><br>Trading System: Xetra<br><br>ISIN: DE0005313704',\n",
       "  'end_date': '2012-11-12',\n",
       "  'frequency': 'daily',\n",
       "  'id': 10095370,\n",
       "  'limit': 1,\n",
       "  'name': 'Carl Zeiss Meditec (AFX_X)',\n",
       "  'newest_available_date': '2018-09-14',\n",
       "  'oldest_available_date': '2000-06-07',\n",
       "  'order': None,\n",
       "  'premium': False,\n",
       "  'refreshed_at': '2018-09-14T22:30:30.323Z',\n",
       "  'start_date': '2012-11-01',\n",
       "  'transform': None,\n",
       "  'type': 'Time Series'}}"
      ]
     },
     "execution_count": 315,
     "metadata": {},
     "output_type": "execute_result"
    }
   ],
   "source": [
    "# Inspect the JSON structure of the object you created, and take note of how nested it is,\n",
    "# as well as the overall structure\n",
    "mydata = r.json()\n",
    "mydata"
   ]
  },
  {
   "cell_type": "code",
   "execution_count": 316,
   "metadata": {
    "collapsed": false,
    "scrolled": true
   },
   "outputs": [
    {
     "data": {
      "text/plain": [
       "{'Change': {Timestamp('2017-12-29 00:00:00'): None},\n",
       " 'Close': {Timestamp('2017-12-29 00:00:00'): 51.759999999999998},\n",
       " 'Daily Traded Units': {Timestamp('2017-12-29 00:00:00'): None},\n",
       " 'Daily Turnover': {Timestamp('2017-12-29 00:00:00'): None},\n",
       " 'High': {Timestamp('2017-12-29 00:00:00'): 51.939999999999998},\n",
       " 'Last Price of the Day': {Timestamp('2017-12-29 00:00:00'): None},\n",
       " 'Low': {Timestamp('2017-12-29 00:00:00'): 51.450000000000003},\n",
       " 'Open': {Timestamp('2017-12-29 00:00:00'): 51.759999999999998},\n",
       " 'Traded Volume': {Timestamp('2017-12-29 00:00:00'): 34640.0},\n",
       " 'Turnover': {Timestamp('2017-12-29 00:00:00'): 1792304.0}}"
      ]
     },
     "execution_count": 316,
     "metadata": {},
     "output_type": "execute_result"
    }
   ],
   "source": [
    "# Using Quandl api directly \n",
    "data = quandl.get('FSE/AFX_X',start_date='2017-01-01',end_date='2017-12-31',rows =1)\n",
    "data.to_dict()"
   ]
  },
  {
   "cell_type": "markdown",
   "metadata": {
    "deletable": true,
    "editable": true
   },
   "source": [
    "These are your tasks for this mini project:\n",
    "\n",
    "1. Collect data from the Franfurt Stock Exchange, for the ticker AFX_X, for the whole year 2017 (keep in mind that the date format is YYYY-MM-DD).\n",
    "2. Convert the returned JSON object into a Python dictionary.\n",
    "3. Calculate what the highest and lowest opening prices were for the stock in this period.\n",
    "4. What was the largest change in any one day (based on High and Low price)?\n",
    "5. What was the largest change between any two days (based on Closing Price)?\n",
    "6. What was the average daily trading volume during this year?\n",
    "7. (Optional) What was the median trading volume during this year. (Note: you may need to implement your own function for calculating the median.)"
   ]
  },
  {
   "cell_type": "markdown",
   "metadata": {
    "collapsed": true,
    "deletable": true,
    "editable": true
   },
   "source": [
    "# 1. Collect data from the Franfurt Stock Exchange for the whole year 2017"
   ]
  },
  {
   "cell_type": "code",
   "execution_count": 317,
   "metadata": {
    "collapsed": true
   },
   "outputs": [],
   "source": [
    "# Using the request package and Quandle api call, data for 2017 is below\n",
    "\n",
    "url  = 'https://www.quandl.com/api/v3/datasets/FSE/AFX_X.json'\n",
    "afx_re = re.get(url+'?'+API_KEY+'&start_date=2017-01-01&end_date=2017-12-31')"
   ]
  },
  {
   "cell_type": "markdown",
   "metadata": {},
   "source": [
    " # 2. Convert the returned JSON object into a Python dictionary."
   ]
  },
  {
   "cell_type": "code",
   "execution_count": 318,
   "metadata": {
    "collapsed": true
   },
   "outputs": [],
   "source": [
    "# Extract the required dataset from the loaded json data\n",
    "afx_data = afx_re.json()['dataset']"
   ]
  },
  {
   "cell_type": "code",
   "execution_count": 319,
   "metadata": {
    "collapsed": false
   },
   "outputs": [],
   "source": [
    "# Pre-process the collected data and convert it into the dictionary \n",
    "converted_data = {}\n",
    "for i in range(len(afx_data['data'][1])):\n",
    "    converted_data[afx_data['column_names'][i]]=[item[i] for item in afx_data['data']]"
   ]
  },
  {
   "cell_type": "markdown",
   "metadata": {},
   "source": [
    "# 3. Calculate what the highest and lowest opening prices were for the stock in this period."
   ]
  },
  {
   "cell_type": "code",
   "execution_count": 320,
   "metadata": {
    "collapsed": false
   },
   "outputs": [
    {
     "name": "stdout",
     "output_type": "stream",
     "text": [
      "Highest opening price within the given period:  53.11\n"
     ]
    }
   ],
   "source": [
    "# Highest opening price for the period\n",
    "highest_opening_price = max(x for x in converted_data['Open'] if x is not None)\n",
    "print('Highest opening price within the given period: ',highest_opening_price)"
   ]
  },
  {
   "cell_type": "code",
   "execution_count": 321,
   "metadata": {
    "collapsed": false
   },
   "outputs": [
    {
     "name": "stdout",
     "output_type": "stream",
     "text": [
      "Lowest opening price within the given period:  34.0\n"
     ]
    }
   ],
   "source": [
    "# Lowest opening price for the period\n",
    "lowest_opening_price = min(x for x in converted_data['Open'] if x is not None)\n",
    "print('Lowest opening price within the given period: ',lowest_opening_price)"
   ]
  },
  {
   "cell_type": "markdown",
   "metadata": {},
   "source": [
    "# 4. What was the largest change in any one day (based on High and Low price)?"
   ]
  },
  {
   "cell_type": "code",
   "execution_count": 322,
   "metadata": {
    "collapsed": false
   },
   "outputs": [
    {
     "name": "stdout",
     "output_type": "stream",
     "text": [
      "Maximum Change in any one day:  2.8100000000000023\n"
     ]
    }
   ],
   "source": [
    "# Maximum change in any one day \n",
    "change_per_day = [a - b for a, b in zip(converted_data['High'],converted_data['Low'])]\n",
    "print('Maximum Change in any one day: ',max(change_per_day))"
   ]
  },
  {
   "cell_type": "markdown",
   "metadata": {},
   "source": [
    "# 5. What was the largest change between any two days (based on Closing Price)?"
   ]
  },
  {
   "cell_type": "code",
   "execution_count": 323,
   "metadata": {
    "collapsed": false
   },
   "outputs": [
    {
     "name": "stdout",
     "output_type": "stream",
     "text": [
      "Maximum Change in any two days:  2.559999999999995\n"
     ]
    }
   ],
   "source": [
    "# Maximum change in any two days\n",
    "change_per_two_day = [ abs(b-a) for a, b in zip(converted_data['Close'][:],converted_data['Close'][1:])]\n",
    "print('Maximum Change in any two days: ',max(change_per_two_day))"
   ]
  },
  {
   "cell_type": "markdown",
   "metadata": {},
   "source": [
    "# 6. What was the average daily trading volume during this year?"
   ]
  },
  {
   "cell_type": "code",
   "execution_count": 324,
   "metadata": {
    "collapsed": false
   },
   "outputs": [
    {
     "name": "stdout",
     "output_type": "stream",
     "text": [
      "Average Daily Traded Volume :  89124.33725490196\n"
     ]
    }
   ],
   "source": [
    "daily_traded_volume = converted_data.get('Traded Volume', 'Wrong syntax')\n",
    "average_daily_traded_volume = sum(daily_traded_volume)/float(len(daily_traded_volume))\n",
    "print('Average Daily Traded Volume : ', average_daily_traded_volume)"
   ]
  },
  {
   "cell_type": "markdown",
   "metadata": {},
   "source": [
    "# 7. (Optional) What was the median trading volume during this year. (Note: you may need to implement your own function for calculating the median.)"
   ]
  },
  {
   "cell_type": "code",
   "execution_count": 332,
   "metadata": {
    "collapsed": false
   },
   "outputs": [
    {
     "name": "stdout",
     "output_type": "stream",
     "text": [
      "Median Traded Volume during this year:  76286.0\n"
     ]
    }
   ],
   "source": [
    "# Since there are 255 elements in the list, median would be the 128th element indexed at 127 \n",
    "sorted_Traded_volume = sorted(converted_data['Traded Volume'])\n",
    "median_traded_volume = sorted_Traded_volume[int((len(sorted_Traded_volume)-1)/2)]\n",
    "print('Median Traded Volume during this year: ',median_traded_volume)"
   ]
  }
 ],
 "metadata": {
  "kernelspec": {
   "display_name": "Python 3",
   "language": "python",
   "name": "python3"
  },
  "language_info": {
   "codemirror_mode": {
    "name": "ipython",
    "version": 3
   },
   "file_extension": ".py",
   "mimetype": "text/x-python",
   "name": "python",
   "nbconvert_exporter": "python",
   "pygments_lexer": "ipython3",
   "version": "3.5.2"
  }
 },
 "nbformat": 4,
 "nbformat_minor": 2
}
