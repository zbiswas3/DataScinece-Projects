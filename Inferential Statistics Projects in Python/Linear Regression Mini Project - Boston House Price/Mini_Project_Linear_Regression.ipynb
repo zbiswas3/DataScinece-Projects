{
 "cells": [
  {
   "cell_type": "markdown",
   "metadata": {},
   "source": [
    "# Regression in Python\n",
    "\n",
    "***\n",
    "This is a very quick run-through of some basic statistical concepts, adapted from [Lab 4 in Harvard's CS109](https://github.com/cs109/2015lab4) course. Please feel free to try the original lab if you're feeling ambitious :-) The CS109 git repository also has the solutions if you're stuck.\n",
    "\n",
    "* Linear Regression Models\n",
    "* Prediction using linear regression\n",
    "\n",
    "Linear regression is used to model and predict continuous outcomes with normal random errors. There are nearly an infinite number of different types of regression models and each regression model is typically defined by the distribution of the prediction errors (called \"residuals\") of the type of data. Logistic regression is used to model binary outcomes whereas Poisson regression is used to predict counts. In this exercise, we'll see some examples of linear regression as well as Train-test splits.\n",
    "\n",
    "The packages we'll cover are: `statsmodels`, `seaborn`, and `scikit-learn`. While we don't explicitly teach `statsmodels` and `seaborn` in the Springboard workshop, those are great libraries to know.\n",
    "***"
   ]
  },
  {
   "cell_type": "markdown",
   "metadata": {},
   "source": [
    "<img width=600 height=300 src=\"https://imgs.xkcd.com/comics/sustainable.png\"/>\n",
    "***"
   ]
  },
  {
   "cell_type": "code",
   "execution_count": 2,
   "metadata": {},
   "outputs": [],
   "source": [
    "# special IPython command to prepare the notebook for matplotlib and other libraries\n",
    "%matplotlib inline \n",
    "\n",
    "import numpy as np\n",
    "import pandas as pd\n",
    "import scipy.stats as stats\n",
    "import matplotlib.pyplot as plt\n",
    "import sklearn\n",
    "\n",
    "import seaborn as sns\n",
    "\n",
    "# special matplotlib argument for improved plots\n",
    "from matplotlib import rcParams\n",
    "sns.set_style(\"whitegrid\")\n",
    "sns.set_context(\"poster\")\n"
   ]
  },
  {
   "cell_type": "markdown",
   "metadata": {},
   "source": [
    "***\n",
    "# Part 1: Introduction to Linear Regression\n",
    "### Purpose of linear regression\n",
    "***\n",
    "<div class=\"span5 alert alert-info\">\n",
    "\n",
    "<p> Given a dataset containing predictor variables $X$ and outcome/response variable $Y$, linear regression can be used to: </p>\n",
    "<ul>\n",
    "  <li> Build a <b>predictive model</b> to predict future values of $\\hat{Y}$, using new data $X^*$ where $Y$ is unknown.</li>\n",
    "  <li> Model the <b>strength of the relationship</b> between each independent variable $X_i$ and $Y$</li>\n",
    "    <ul>\n",
    "      <li> Many times, only a subset of independent variables $X_i$ will have a linear relationship with $Y$</li>\n",
    "      <li> Need to figure out which $X_i$ contributes most information to predict $Y$ </li>\n",
    "    </ul>\n",
    "   <li>It is in many cases, the first pass prediction algorithm for continuous outcomes. </li>\n",
    "</ul>\n",
    "</div>\n",
    "\n",
    "### A Brief Mathematical Recap\n",
    "***\n",
    "\n",
    "[Linear Regression](http://en.wikipedia.org/wiki/Linear_regression) is a method to model the relationship between a set of independent variables $X$ (also knowns as explanatory variables, features, predictors) and a dependent variable $Y$.  This method assumes the relationship between each predictor $X$ is **linearly** related to the dependent variable $Y$. The most basic linear regression model contains one independent variable $X$, we'll call this the simple model. \n",
    "\n",
    "$$ Y = \\beta_0 + \\beta_1 X + \\epsilon$$\n",
    "\n",
    "where $\\epsilon$ is considered as an unobservable random variable that adds noise to the linear relationship. In linear regression, $\\epsilon$ is assumed to be normally distributed with a mean of 0. In other words, what this means is that on average, if we know $Y$, a roughly equal number of predictions $\\hat{Y}$ will be above $Y$ and others will be below $Y$. That is, on average, the error is zero. The residuals, $\\epsilon$ are also assumed to be \"i.i.d.\": independently and identically distributed. Independence means that the residuals are not correlated -- the residual from one prediction has no effect on the residual from another prediction. Correlated errors are common in time series analysis and spatial analyses.\n",
    "\n",
    "* $\\beta_0$ is the intercept of the linear model and represents the average of $Y$ when all independent variables $X$ are set to 0.\n",
    "\n",
    "* $\\beta_1$ is the slope of the line associated with the regression model and represents the average effect of a one-unit increase in $X$ on $Y$.\n",
    "\n",
    "* Back to the simple model. The model in linear regression is the *conditional mean* of $Y$ given the values in $X$ is expressed a linear function.  \n",
    "\n",
    "$$ y = f(x) = E(Y | X = x)$$ \n",
    "\n",
    "![conditional mean](images/conditionalmean.png)\n",
    "http://www.learner.org/courses/againstallodds/about/glossary.html\n",
    "\n",
    "* The goal is to estimate the coefficients (e.g. $\\beta_0$ and $\\beta_1$). We represent the estimates of the coefficients with a \"hat\" on top of the letter.  \n",
    "\n",
    "$$ \\hat{\\beta}_0, \\hat{\\beta}_1 $$\n",
    "\n",
    "* Once we estimate the coefficients $\\hat{\\beta}_0$ and $\\hat{\\beta}_1$, we can use these to predict new values of $Y$ given new data $X$.\n",
    "\n",
    "$$\\hat{y} = \\hat{\\beta}_0 + \\hat{\\beta}_1 x_1$$\n",
    "\n",
    "* Multiple linear regression is when you have more than one independent variable and the estimation involves matrices\n",
    "    * $X_1$, $X_2$, $X_3$, $\\ldots$\n",
    "\n",
    "\n",
    "* How do you estimate the coefficients? \n",
    "    * There are many ways to fit a linear regression model\n",
    "    * The method called **least squares** is the most common methods\n",
    "    * We will discuss least squares\n",
    "\n",
    "$$ Y = \\beta_0 + \\beta_1 X_1 + \\ldots + \\beta_p X_p + \\epsilon$$ \n",
    "    \n",
    "### Estimating $\\hat\\beta$: Least squares\n",
    "***\n",
    "[Least squares](http://en.wikipedia.org/wiki/Least_squares) is a method that can estimate the coefficients of a linear model by minimizing the squared residuals: \n",
    "\n",
    "$$ \\mathscr{L} = \\sum_{i=1}^N \\epsilon_i^2 = \\sum_{i=1}^N \\left( y_i - \\hat{y}_i \\right)^2  = \\sum_{i=1}^N \\left(y_i - \\left(\\beta_0 + \\beta_1 x_i\\right)\\right)^2 $$\n",
    "\n",
    "where $N$ is the number of observations and $\\epsilon$ represents a residual or error, ACTUAL - PREDICTED.  \n",
    "\n",
    "#### Estimating the intercept $\\hat{\\beta_0}$ for the simple linear model\n",
    "\n",
    "We want to minimize the squared residuals and solve for $\\hat{\\beta_0}$ so we take the partial derivative of $\\mathscr{L}$ with respect to $\\hat{\\beta_0}$ "
   ]
  },
  {
   "cell_type": "markdown",
   "metadata": {},
   "source": [
    "$\n",
    "\\begin{align}\n",
    "\\frac{\\partial \\mathscr{L}}{\\partial \\hat{\\beta_0}} &= \\frac{\\partial}{\\partial \\hat{\\beta_0}} \\sum_{i=1}^N \\epsilon^2 \\\\\n",
    "&= \\frac{\\partial}{\\partial \\hat{\\beta_0}} \\sum_{i=1}^N \\left( y_i - \\hat{y}_i \\right)^2 \\\\\n",
    "&= \\frac{\\partial}{\\partial \\hat{\\beta_0}} \\sum_{i=1}^N \\left( y_i - \\left( \\hat{\\beta}_0 + \\hat{\\beta}_1 x_i \\right) \\right)^2 \\\\\n",
    "&= -2 \\sum_{i=1}^N \\left( y_i - \\left( \\hat{\\beta}_0 + \\hat{\\beta}_1 x_i \\right) \\right) \\hspace{25mm} \\mbox{(by chain rule)} \\\\\n",
    "&= -2 \\sum_{i=1}^N (y_i - \\hat{\\beta}_0 - \\hat{\\beta}_1 x_i) \\\\\n",
    "&= -2 \\left[ \\left( \\sum_{i=1}^N y_i \\right) - N \\hat{\\beta_0} - \\hat{\\beta}_1 \\left( \\sum_{i=1}^N x_i\n",
    "\\right) \\right] \\\\\n",
    "& 2 \\left[ N \\hat{\\beta}_0 + \\hat{\\beta}_1 \\sum_{i=1}^N x_i - \\sum_{i=1}^N y_i \\right] = 0 \\hspace{20mm} \\mbox{(Set equal to 0 and solve for $\\hat{\\beta}_0$)} \\\\\n",
    "& N \\hat{\\beta}_0 + \\hat{\\beta}_1 \\sum_{i=1}^N x_i - \\sum_{i=1}^N y_i = 0 \\\\\n",
    "& N \\hat{\\beta}_0 = \\sum_{i=1}^N y_i - \\hat{\\beta}_1 \\sum_{i=1}^N x_i \\\\\n",
    "& \\hat{\\beta}_0 = \\frac{\\sum_{i=1}^N y_i - \\hat{\\beta}_1 \\sum_{i=1}^N x_i}{N} \\\\\n",
    "& \\hat{\\beta}_0 = \\frac{\\sum_{i=1}^N y_i}{N} - \\hat{\\beta}_1 \\frac{\\sum_{i=1}^N x_i}{N} \\\\\n",
    "& \\boxed{\\hat{\\beta}_0 = \\bar{y} - \\hat{\\beta}_1 \\bar{x}}\n",
    "\\end{align}\n",
    "$"
   ]
  },
  {
   "cell_type": "markdown",
   "metadata": {},
   "source": [
    "Using this new information, we can compute the estimate for $\\hat{\\beta}_1$ by taking the partial derivative of $\\mathscr{L}$ with respect to $\\hat{\\beta}_1$."
   ]
  },
  {
   "cell_type": "markdown",
   "metadata": {},
   "source": [
    "$\n",
    "\\begin{align}\n",
    "\\frac{\\partial \\mathscr{L}}{\\partial \\hat{\\beta_1}} &= \\frac{\\partial}{\\partial \\hat{\\beta_1}} \\sum_{i=1}^N \\epsilon^2 \\\\\n",
    "&= \\frac{\\partial}{\\partial \\hat{\\beta_1}} \\sum_{i=1}^N \\left( y_i - \\hat{y}_i \\right)^2 \\\\\n",
    "&= \\frac{\\partial}{\\partial \\hat{\\beta_1}} \\sum_{i=1}^N \\left( y_i - \\left( \\hat{\\beta}_0 + \\hat{\\beta}_1 x_i \\right) \\right)^2 \\\\\n",
    "&= 2 \\sum_{i=1}^N \\left( y_i - \\left( \\hat{\\beta}_0 + \\hat{\\beta}_1 x_i \\right) \\right) \\left( -x_i \\right) \\hspace{25mm}\\mbox{(by chain rule)} \\\\\n",
    "&= -2 \\sum_{i=1}^N x_i \\left( y_i - \\hat{\\beta}_0 - \\hat{\\beta}_1 x_i \\right) \\\\\n",
    "&= -2 \\sum_{i=1}^N x_i (y_i - \\hat{\\beta}_0 x_i - \\hat{\\beta}_1 x_i^2) \\\\\n",
    "&= -2 \\sum_{i=1}^N x_i (y_i - \\left( \\bar{y} - \\hat{\\beta}_1 \\bar{x} \\right) x_i - \\hat{\\beta}_1 x_i^2) \\\\\n",
    "&= -2 \\sum_{i=1}^N (x_i y_i - \\bar{y}x_i + \\hat{\\beta}_1\\bar{x}x_i - \\hat{\\beta}_1 x_i^2) \\\\\n",
    "&= -2 \\left[ \\sum_{i=1}^N x_i y_i - \\bar{y} \\sum_{i=1}^N x_i + \\hat{\\beta}_1\\bar{x}\\sum_{i=1}^N x_i - \\hat{\\beta}_1 \\sum_{i=1}^N x_i^2 \\right] \\\\\n",
    "&= -2 \\left[ \\hat{\\beta}_1 \\left\\{ \\bar{x} \\sum_{i=1}^N x_i - \\sum_{i=1}^N x_i^2 \\right\\} + \\left\\{ \\sum_{i=1}^N x_i y_i - \\bar{y} \\sum_{i=1}^N x_i \\right\\}\\right] \\\\\n",
    "& 2 \\left[ \\hat{\\beta}_1 \\left\\{ \\sum_{i=1}^N x_i^2 - \\bar{x} \\sum_{i=1}^N x_i \\right\\} + \\left\\{ \\bar{y} \\sum_{i=1}^N x_i - \\sum_{i=1}^N x_i y_i \\right\\} \\right] = 0 \\\\\n",
    "& \\hat{\\beta}_1 = \\frac{-\\left( \\bar{y} \\sum_{i=1}^N x_i - \\sum_{i=1}^N x_i y_i \\right)}{\\sum_{i=1}^N x_i^2 - \\bar{x}\\sum_{i=1}^N x_i} \\\\\n",
    "&= \\frac{\\sum_{i=1}^N x_i y_i - \\bar{y} \\sum_{i=1}^N x_i}{\\sum_{i=1}^N x_i^2 - \\bar{x} \\sum_{i=1}^N x_i} \\\\\n",
    "& \\boxed{\\hat{\\beta}_1 = \\frac{\\sum_{i=1}^N x_i y_i - \\bar{x}\\bar{y}n}{\\sum_{i=1}^N x_i^2 - n \\bar{x}^2}}\n",
    "\\end{align}\n",
    "$"
   ]
  },
  {
   "cell_type": "markdown",
   "metadata": {},
   "source": [
    "The solution can be written in compact matrix notation as\n",
    "\n",
    "$$\\hat\\beta =  (X^T X)^{-1}X^T Y$$ \n",
    "\n",
    "We wanted to show you this in case you remember linear algebra, in order for this solution to exist we need $X^T X$ to be invertible. Of course this requires a few extra assumptions, $X$ must be full rank so that $X^T X$ is invertible, etc. Basically, $X^T X$ is full rank if all rows and columns are linearly independent. This has a loose relationship to variables and observations being independent respective. **This is important for us because this means that having redundant features in our regression models will lead to poorly fitting (and unstable) models.** We'll see an implementation of this in the extra linear regression example."
   ]
  },
  {
   "cell_type": "markdown",
   "metadata": {},
   "source": [
    "***\n",
    "# Part 2: Exploratory Data Analysis for Linear Relationships\n",
    "\n",
    "The [Boston Housing data set](https://archive.ics.uci.edu/ml/datasets/Housing) contains information about the housing values in suburbs of Boston.  This dataset was originally taken from the StatLib library which is maintained at Carnegie Mellon University and is now available on the UCI Machine Learning Repository. \n",
    "\n",
    "\n",
    "## Load the Boston Housing data set from `sklearn`\n",
    "***\n",
    "\n",
    "This data set is available in the [sklearn](http://scikit-learn.org/stable/modules/generated/sklearn.datasets.load_boston.html#sklearn.datasets.load_boston) python module which is how we will access it today.  "
   ]
  },
  {
   "cell_type": "code",
   "execution_count": 3,
   "metadata": {},
   "outputs": [],
   "source": [
    "from sklearn.datasets import load_boston\n",
    "import pandas as pd\n",
    "\n",
    "boston = load_boston()"
   ]
  },
  {
   "cell_type": "code",
   "execution_count": 4,
   "metadata": {},
   "outputs": [
    {
     "data": {
      "text/plain": [
       "dict_keys(['data', 'target', 'feature_names', 'DESCR'])"
      ]
     },
     "execution_count": 4,
     "metadata": {},
     "output_type": "execute_result"
    }
   ],
   "source": [
    "boston.keys()"
   ]
  },
  {
   "cell_type": "code",
   "execution_count": 5,
   "metadata": {},
   "outputs": [
    {
     "data": {
      "text/plain": [
       "(506, 13)"
      ]
     },
     "execution_count": 5,
     "metadata": {},
     "output_type": "execute_result"
    }
   ],
   "source": [
    "boston.data.shape"
   ]
  },
  {
   "cell_type": "code",
   "execution_count": 6,
   "metadata": {},
   "outputs": [
    {
     "name": "stdout",
     "output_type": "stream",
     "text": [
      "['CRIM' 'ZN' 'INDUS' 'CHAS' 'NOX' 'RM' 'AGE' 'DIS' 'RAD' 'TAX' 'PTRATIO'\n",
      " 'B' 'LSTAT']\n"
     ]
    }
   ],
   "source": [
    "# Print column names\n",
    "print(boston.feature_names)"
   ]
  },
  {
   "cell_type": "code",
   "execution_count": 7,
   "metadata": {},
   "outputs": [
    {
     "name": "stdout",
     "output_type": "stream",
     "text": [
      "Boston House Prices dataset\n",
      "===========================\n",
      "\n",
      "Notes\n",
      "------\n",
      "Data Set Characteristics:  \n",
      "\n",
      "    :Number of Instances: 506 \n",
      "\n",
      "    :Number of Attributes: 13 numeric/categorical predictive\n",
      "    \n",
      "    :Median Value (attribute 14) is usually the target\n",
      "\n",
      "    :Attribute Information (in order):\n",
      "        - CRIM     per capita crime rate by town\n",
      "        - ZN       proportion of residential land zoned for lots over 25,000 sq.ft.\n",
      "        - INDUS    proportion of non-retail business acres per town\n",
      "        - CHAS     Charles River dummy variable (= 1 if tract bounds river; 0 otherwise)\n",
      "        - NOX      nitric oxides concentration (parts per 10 million)\n",
      "        - RM       average number of rooms per dwelling\n",
      "        - AGE      proportion of owner-occupied units built prior to 1940\n",
      "        - DIS      weighted distances to five Boston employment centres\n",
      "        - RAD      index of accessibility to radial highways\n",
      "        - TAX      full-value property-tax rate per $10,000\n",
      "        - PTRATIO  pupil-teacher ratio by town\n",
      "        - B        1000(Bk - 0.63)^2 where Bk is the proportion of blacks by town\n",
      "        - LSTAT    % lower status of the population\n",
      "        - MEDV     Median value of owner-occupied homes in $1000's\n",
      "\n",
      "    :Missing Attribute Values: None\n",
      "\n",
      "    :Creator: Harrison, D. and Rubinfeld, D.L.\n",
      "\n",
      "This is a copy of UCI ML housing dataset.\n",
      "http://archive.ics.uci.edu/ml/datasets/Housing\n",
      "\n",
      "\n",
      "This dataset was taken from the StatLib library which is maintained at Carnegie Mellon University.\n",
      "\n",
      "The Boston house-price data of Harrison, D. and Rubinfeld, D.L. 'Hedonic\n",
      "prices and the demand for clean air', J. Environ. Economics & Management,\n",
      "vol.5, 81-102, 1978.   Used in Belsley, Kuh & Welsch, 'Regression diagnostics\n",
      "...', Wiley, 1980.   N.B. Various transformations are used in the table on\n",
      "pages 244-261 of the latter.\n",
      "\n",
      "The Boston house-price data has been used in many machine learning papers that address regression\n",
      "problems.   \n",
      "     \n",
      "**References**\n",
      "\n",
      "   - Belsley, Kuh & Welsch, 'Regression diagnostics: Identifying Influential Data and Sources of Collinearity', Wiley, 1980. 244-261.\n",
      "   - Quinlan,R. (1993). Combining Instance-Based and Model-Based Learning. In Proceedings on the Tenth International Conference of Machine Learning, 236-243, University of Massachusetts, Amherst. Morgan Kaufmann.\n",
      "   - many more! (see http://archive.ics.uci.edu/ml/datasets/Housing)\n",
      "\n"
     ]
    }
   ],
   "source": [
    "# Print description of Boston housing data set\n",
    "print(boston.DESCR)"
   ]
  },
  {
   "cell_type": "markdown",
   "metadata": {},
   "source": [
    "Now let's explore the data set itself. "
   ]
  },
  {
   "cell_type": "code",
   "execution_count": 8,
   "metadata": {},
   "outputs": [
    {
     "data": {
      "text/html": [
       "<div>\n",
       "<style scoped>\n",
       "    .dataframe tbody tr th:only-of-type {\n",
       "        vertical-align: middle;\n",
       "    }\n",
       "\n",
       "    .dataframe tbody tr th {\n",
       "        vertical-align: top;\n",
       "    }\n",
       "\n",
       "    .dataframe thead th {\n",
       "        text-align: right;\n",
       "    }\n",
       "</style>\n",
       "<table border=\"1\" class=\"dataframe\">\n",
       "  <thead>\n",
       "    <tr style=\"text-align: right;\">\n",
       "      <th></th>\n",
       "      <th>0</th>\n",
       "      <th>1</th>\n",
       "      <th>2</th>\n",
       "      <th>3</th>\n",
       "      <th>4</th>\n",
       "      <th>5</th>\n",
       "      <th>6</th>\n",
       "      <th>7</th>\n",
       "      <th>8</th>\n",
       "      <th>9</th>\n",
       "      <th>10</th>\n",
       "      <th>11</th>\n",
       "      <th>12</th>\n",
       "    </tr>\n",
       "  </thead>\n",
       "  <tbody>\n",
       "    <tr>\n",
       "      <th>0</th>\n",
       "      <td>0.00632</td>\n",
       "      <td>18.0</td>\n",
       "      <td>2.31</td>\n",
       "      <td>0.0</td>\n",
       "      <td>0.538</td>\n",
       "      <td>6.575</td>\n",
       "      <td>65.2</td>\n",
       "      <td>4.0900</td>\n",
       "      <td>1.0</td>\n",
       "      <td>296.0</td>\n",
       "      <td>15.3</td>\n",
       "      <td>396.90</td>\n",
       "      <td>4.98</td>\n",
       "    </tr>\n",
       "    <tr>\n",
       "      <th>1</th>\n",
       "      <td>0.02731</td>\n",
       "      <td>0.0</td>\n",
       "      <td>7.07</td>\n",
       "      <td>0.0</td>\n",
       "      <td>0.469</td>\n",
       "      <td>6.421</td>\n",
       "      <td>78.9</td>\n",
       "      <td>4.9671</td>\n",
       "      <td>2.0</td>\n",
       "      <td>242.0</td>\n",
       "      <td>17.8</td>\n",
       "      <td>396.90</td>\n",
       "      <td>9.14</td>\n",
       "    </tr>\n",
       "    <tr>\n",
       "      <th>2</th>\n",
       "      <td>0.02729</td>\n",
       "      <td>0.0</td>\n",
       "      <td>7.07</td>\n",
       "      <td>0.0</td>\n",
       "      <td>0.469</td>\n",
       "      <td>7.185</td>\n",
       "      <td>61.1</td>\n",
       "      <td>4.9671</td>\n",
       "      <td>2.0</td>\n",
       "      <td>242.0</td>\n",
       "      <td>17.8</td>\n",
       "      <td>392.83</td>\n",
       "      <td>4.03</td>\n",
       "    </tr>\n",
       "    <tr>\n",
       "      <th>3</th>\n",
       "      <td>0.03237</td>\n",
       "      <td>0.0</td>\n",
       "      <td>2.18</td>\n",
       "      <td>0.0</td>\n",
       "      <td>0.458</td>\n",
       "      <td>6.998</td>\n",
       "      <td>45.8</td>\n",
       "      <td>6.0622</td>\n",
       "      <td>3.0</td>\n",
       "      <td>222.0</td>\n",
       "      <td>18.7</td>\n",
       "      <td>394.63</td>\n",
       "      <td>2.94</td>\n",
       "    </tr>\n",
       "    <tr>\n",
       "      <th>4</th>\n",
       "      <td>0.06905</td>\n",
       "      <td>0.0</td>\n",
       "      <td>2.18</td>\n",
       "      <td>0.0</td>\n",
       "      <td>0.458</td>\n",
       "      <td>7.147</td>\n",
       "      <td>54.2</td>\n",
       "      <td>6.0622</td>\n",
       "      <td>3.0</td>\n",
       "      <td>222.0</td>\n",
       "      <td>18.7</td>\n",
       "      <td>396.90</td>\n",
       "      <td>5.33</td>\n",
       "    </tr>\n",
       "  </tbody>\n",
       "</table>\n",
       "</div>"
      ],
      "text/plain": [
       "        0     1     2    3      4      5     6       7    8      9     10  \\\n",
       "0  0.00632  18.0  2.31  0.0  0.538  6.575  65.2  4.0900  1.0  296.0  15.3   \n",
       "1  0.02731   0.0  7.07  0.0  0.469  6.421  78.9  4.9671  2.0  242.0  17.8   \n",
       "2  0.02729   0.0  7.07  0.0  0.469  7.185  61.1  4.9671  2.0  242.0  17.8   \n",
       "3  0.03237   0.0  2.18  0.0  0.458  6.998  45.8  6.0622  3.0  222.0  18.7   \n",
       "4  0.06905   0.0  2.18  0.0  0.458  7.147  54.2  6.0622  3.0  222.0  18.7   \n",
       "\n",
       "       11    12  \n",
       "0  396.90  4.98  \n",
       "1  396.90  9.14  \n",
       "2  392.83  4.03  \n",
       "3  394.63  2.94  \n",
       "4  396.90  5.33  "
      ]
     },
     "execution_count": 8,
     "metadata": {},
     "output_type": "execute_result"
    }
   ],
   "source": [
    "bos = pd.DataFrame(boston.data)\n",
    "bos.head()"
   ]
  },
  {
   "cell_type": "markdown",
   "metadata": {},
   "source": [
    "There are no column names in the DataFrame. Let's add those. "
   ]
  },
  {
   "cell_type": "code",
   "execution_count": 9,
   "metadata": {},
   "outputs": [
    {
     "data": {
      "text/html": [
       "<div>\n",
       "<style scoped>\n",
       "    .dataframe tbody tr th:only-of-type {\n",
       "        vertical-align: middle;\n",
       "    }\n",
       "\n",
       "    .dataframe tbody tr th {\n",
       "        vertical-align: top;\n",
       "    }\n",
       "\n",
       "    .dataframe thead th {\n",
       "        text-align: right;\n",
       "    }\n",
       "</style>\n",
       "<table border=\"1\" class=\"dataframe\">\n",
       "  <thead>\n",
       "    <tr style=\"text-align: right;\">\n",
       "      <th></th>\n",
       "      <th>CRIM</th>\n",
       "      <th>ZN</th>\n",
       "      <th>INDUS</th>\n",
       "      <th>CHAS</th>\n",
       "      <th>NOX</th>\n",
       "      <th>RM</th>\n",
       "      <th>AGE</th>\n",
       "      <th>DIS</th>\n",
       "      <th>RAD</th>\n",
       "      <th>TAX</th>\n",
       "      <th>PTRATIO</th>\n",
       "      <th>B</th>\n",
       "      <th>LSTAT</th>\n",
       "    </tr>\n",
       "  </thead>\n",
       "  <tbody>\n",
       "    <tr>\n",
       "      <th>0</th>\n",
       "      <td>0.00632</td>\n",
       "      <td>18.0</td>\n",
       "      <td>2.31</td>\n",
       "      <td>0.0</td>\n",
       "      <td>0.538</td>\n",
       "      <td>6.575</td>\n",
       "      <td>65.2</td>\n",
       "      <td>4.0900</td>\n",
       "      <td>1.0</td>\n",
       "      <td>296.0</td>\n",
       "      <td>15.3</td>\n",
       "      <td>396.90</td>\n",
       "      <td>4.98</td>\n",
       "    </tr>\n",
       "    <tr>\n",
       "      <th>1</th>\n",
       "      <td>0.02731</td>\n",
       "      <td>0.0</td>\n",
       "      <td>7.07</td>\n",
       "      <td>0.0</td>\n",
       "      <td>0.469</td>\n",
       "      <td>6.421</td>\n",
       "      <td>78.9</td>\n",
       "      <td>4.9671</td>\n",
       "      <td>2.0</td>\n",
       "      <td>242.0</td>\n",
       "      <td>17.8</td>\n",
       "      <td>396.90</td>\n",
       "      <td>9.14</td>\n",
       "    </tr>\n",
       "    <tr>\n",
       "      <th>2</th>\n",
       "      <td>0.02729</td>\n",
       "      <td>0.0</td>\n",
       "      <td>7.07</td>\n",
       "      <td>0.0</td>\n",
       "      <td>0.469</td>\n",
       "      <td>7.185</td>\n",
       "      <td>61.1</td>\n",
       "      <td>4.9671</td>\n",
       "      <td>2.0</td>\n",
       "      <td>242.0</td>\n",
       "      <td>17.8</td>\n",
       "      <td>392.83</td>\n",
       "      <td>4.03</td>\n",
       "    </tr>\n",
       "    <tr>\n",
       "      <th>3</th>\n",
       "      <td>0.03237</td>\n",
       "      <td>0.0</td>\n",
       "      <td>2.18</td>\n",
       "      <td>0.0</td>\n",
       "      <td>0.458</td>\n",
       "      <td>6.998</td>\n",
       "      <td>45.8</td>\n",
       "      <td>6.0622</td>\n",
       "      <td>3.0</td>\n",
       "      <td>222.0</td>\n",
       "      <td>18.7</td>\n",
       "      <td>394.63</td>\n",
       "      <td>2.94</td>\n",
       "    </tr>\n",
       "    <tr>\n",
       "      <th>4</th>\n",
       "      <td>0.06905</td>\n",
       "      <td>0.0</td>\n",
       "      <td>2.18</td>\n",
       "      <td>0.0</td>\n",
       "      <td>0.458</td>\n",
       "      <td>7.147</td>\n",
       "      <td>54.2</td>\n",
       "      <td>6.0622</td>\n",
       "      <td>3.0</td>\n",
       "      <td>222.0</td>\n",
       "      <td>18.7</td>\n",
       "      <td>396.90</td>\n",
       "      <td>5.33</td>\n",
       "    </tr>\n",
       "  </tbody>\n",
       "</table>\n",
       "</div>"
      ],
      "text/plain": [
       "      CRIM    ZN  INDUS  CHAS    NOX     RM   AGE     DIS  RAD    TAX  \\\n",
       "0  0.00632  18.0   2.31   0.0  0.538  6.575  65.2  4.0900  1.0  296.0   \n",
       "1  0.02731   0.0   7.07   0.0  0.469  6.421  78.9  4.9671  2.0  242.0   \n",
       "2  0.02729   0.0   7.07   0.0  0.469  7.185  61.1  4.9671  2.0  242.0   \n",
       "3  0.03237   0.0   2.18   0.0  0.458  6.998  45.8  6.0622  3.0  222.0   \n",
       "4  0.06905   0.0   2.18   0.0  0.458  7.147  54.2  6.0622  3.0  222.0   \n",
       "\n",
       "   PTRATIO       B  LSTAT  \n",
       "0     15.3  396.90   4.98  \n",
       "1     17.8  396.90   9.14  \n",
       "2     17.8  392.83   4.03  \n",
       "3     18.7  394.63   2.94  \n",
       "4     18.7  396.90   5.33  "
      ]
     },
     "execution_count": 9,
     "metadata": {},
     "output_type": "execute_result"
    }
   ],
   "source": [
    "bos.columns = boston.feature_names\n",
    "bos.head()"
   ]
  },
  {
   "cell_type": "markdown",
   "metadata": {},
   "source": [
    "Now we have a pandas DataFrame called `bos` containing all the data we want to use to predict Boston Housing prices.  Let's create a variable called `PRICE` which will contain the prices. This information is contained in the `target` data. "
   ]
  },
  {
   "cell_type": "code",
   "execution_count": 10,
   "metadata": {},
   "outputs": [
    {
     "name": "stdout",
     "output_type": "stream",
     "text": [
      "(506,)\n"
     ]
    }
   ],
   "source": [
    "print(boston.target.shape)"
   ]
  },
  {
   "cell_type": "code",
   "execution_count": 11,
   "metadata": {},
   "outputs": [
    {
     "data": {
      "text/html": [
       "<div>\n",
       "<style scoped>\n",
       "    .dataframe tbody tr th:only-of-type {\n",
       "        vertical-align: middle;\n",
       "    }\n",
       "\n",
       "    .dataframe tbody tr th {\n",
       "        vertical-align: top;\n",
       "    }\n",
       "\n",
       "    .dataframe thead th {\n",
       "        text-align: right;\n",
       "    }\n",
       "</style>\n",
       "<table border=\"1\" class=\"dataframe\">\n",
       "  <thead>\n",
       "    <tr style=\"text-align: right;\">\n",
       "      <th></th>\n",
       "      <th>CRIM</th>\n",
       "      <th>ZN</th>\n",
       "      <th>INDUS</th>\n",
       "      <th>CHAS</th>\n",
       "      <th>NOX</th>\n",
       "      <th>RM</th>\n",
       "      <th>AGE</th>\n",
       "      <th>DIS</th>\n",
       "      <th>RAD</th>\n",
       "      <th>TAX</th>\n",
       "      <th>PTRATIO</th>\n",
       "      <th>B</th>\n",
       "      <th>LSTAT</th>\n",
       "      <th>PRICE</th>\n",
       "    </tr>\n",
       "  </thead>\n",
       "  <tbody>\n",
       "    <tr>\n",
       "      <th>0</th>\n",
       "      <td>0.00632</td>\n",
       "      <td>18.0</td>\n",
       "      <td>2.31</td>\n",
       "      <td>0.0</td>\n",
       "      <td>0.538</td>\n",
       "      <td>6.575</td>\n",
       "      <td>65.2</td>\n",
       "      <td>4.0900</td>\n",
       "      <td>1.0</td>\n",
       "      <td>296.0</td>\n",
       "      <td>15.3</td>\n",
       "      <td>396.90</td>\n",
       "      <td>4.98</td>\n",
       "      <td>24.0</td>\n",
       "    </tr>\n",
       "    <tr>\n",
       "      <th>1</th>\n",
       "      <td>0.02731</td>\n",
       "      <td>0.0</td>\n",
       "      <td>7.07</td>\n",
       "      <td>0.0</td>\n",
       "      <td>0.469</td>\n",
       "      <td>6.421</td>\n",
       "      <td>78.9</td>\n",
       "      <td>4.9671</td>\n",
       "      <td>2.0</td>\n",
       "      <td>242.0</td>\n",
       "      <td>17.8</td>\n",
       "      <td>396.90</td>\n",
       "      <td>9.14</td>\n",
       "      <td>21.6</td>\n",
       "    </tr>\n",
       "    <tr>\n",
       "      <th>2</th>\n",
       "      <td>0.02729</td>\n",
       "      <td>0.0</td>\n",
       "      <td>7.07</td>\n",
       "      <td>0.0</td>\n",
       "      <td>0.469</td>\n",
       "      <td>7.185</td>\n",
       "      <td>61.1</td>\n",
       "      <td>4.9671</td>\n",
       "      <td>2.0</td>\n",
       "      <td>242.0</td>\n",
       "      <td>17.8</td>\n",
       "      <td>392.83</td>\n",
       "      <td>4.03</td>\n",
       "      <td>34.7</td>\n",
       "    </tr>\n",
       "    <tr>\n",
       "      <th>3</th>\n",
       "      <td>0.03237</td>\n",
       "      <td>0.0</td>\n",
       "      <td>2.18</td>\n",
       "      <td>0.0</td>\n",
       "      <td>0.458</td>\n",
       "      <td>6.998</td>\n",
       "      <td>45.8</td>\n",
       "      <td>6.0622</td>\n",
       "      <td>3.0</td>\n",
       "      <td>222.0</td>\n",
       "      <td>18.7</td>\n",
       "      <td>394.63</td>\n",
       "      <td>2.94</td>\n",
       "      <td>33.4</td>\n",
       "    </tr>\n",
       "    <tr>\n",
       "      <th>4</th>\n",
       "      <td>0.06905</td>\n",
       "      <td>0.0</td>\n",
       "      <td>2.18</td>\n",
       "      <td>0.0</td>\n",
       "      <td>0.458</td>\n",
       "      <td>7.147</td>\n",
       "      <td>54.2</td>\n",
       "      <td>6.0622</td>\n",
       "      <td>3.0</td>\n",
       "      <td>222.0</td>\n",
       "      <td>18.7</td>\n",
       "      <td>396.90</td>\n",
       "      <td>5.33</td>\n",
       "      <td>36.2</td>\n",
       "    </tr>\n",
       "  </tbody>\n",
       "</table>\n",
       "</div>"
      ],
      "text/plain": [
       "      CRIM    ZN  INDUS  CHAS    NOX     RM   AGE     DIS  RAD    TAX  \\\n",
       "0  0.00632  18.0   2.31   0.0  0.538  6.575  65.2  4.0900  1.0  296.0   \n",
       "1  0.02731   0.0   7.07   0.0  0.469  6.421  78.9  4.9671  2.0  242.0   \n",
       "2  0.02729   0.0   7.07   0.0  0.469  7.185  61.1  4.9671  2.0  242.0   \n",
       "3  0.03237   0.0   2.18   0.0  0.458  6.998  45.8  6.0622  3.0  222.0   \n",
       "4  0.06905   0.0   2.18   0.0  0.458  7.147  54.2  6.0622  3.0  222.0   \n",
       "\n",
       "   PTRATIO       B  LSTAT  PRICE  \n",
       "0     15.3  396.90   4.98   24.0  \n",
       "1     17.8  396.90   9.14   21.6  \n",
       "2     17.8  392.83   4.03   34.7  \n",
       "3     18.7  394.63   2.94   33.4  \n",
       "4     18.7  396.90   5.33   36.2  "
      ]
     },
     "execution_count": 11,
     "metadata": {},
     "output_type": "execute_result"
    }
   ],
   "source": [
    "bos['PRICE'] = boston.target\n",
    "bos.head()"
   ]
  },
  {
   "cell_type": "markdown",
   "metadata": {},
   "source": [
    "## EDA and Summary Statistics\n",
    "***\n",
    "\n",
    "Let's explore this data set.  First we use `describe()` to get basic summary statistics for each of the columns. "
   ]
  },
  {
   "cell_type": "code",
   "execution_count": 12,
   "metadata": {},
   "outputs": [
    {
     "data": {
      "text/html": [
       "<div>\n",
       "<style scoped>\n",
       "    .dataframe tbody tr th:only-of-type {\n",
       "        vertical-align: middle;\n",
       "    }\n",
       "\n",
       "    .dataframe tbody tr th {\n",
       "        vertical-align: top;\n",
       "    }\n",
       "\n",
       "    .dataframe thead th {\n",
       "        text-align: right;\n",
       "    }\n",
       "</style>\n",
       "<table border=\"1\" class=\"dataframe\">\n",
       "  <thead>\n",
       "    <tr style=\"text-align: right;\">\n",
       "      <th></th>\n",
       "      <th>CRIM</th>\n",
       "      <th>ZN</th>\n",
       "      <th>INDUS</th>\n",
       "      <th>CHAS</th>\n",
       "      <th>NOX</th>\n",
       "      <th>RM</th>\n",
       "      <th>AGE</th>\n",
       "      <th>DIS</th>\n",
       "      <th>RAD</th>\n",
       "      <th>TAX</th>\n",
       "      <th>PTRATIO</th>\n",
       "      <th>B</th>\n",
       "      <th>LSTAT</th>\n",
       "      <th>PRICE</th>\n",
       "    </tr>\n",
       "  </thead>\n",
       "  <tbody>\n",
       "    <tr>\n",
       "      <th>count</th>\n",
       "      <td>506.000000</td>\n",
       "      <td>506.000000</td>\n",
       "      <td>506.000000</td>\n",
       "      <td>506.000000</td>\n",
       "      <td>506.000000</td>\n",
       "      <td>506.000000</td>\n",
       "      <td>506.000000</td>\n",
       "      <td>506.000000</td>\n",
       "      <td>506.000000</td>\n",
       "      <td>506.000000</td>\n",
       "      <td>506.000000</td>\n",
       "      <td>506.000000</td>\n",
       "      <td>506.000000</td>\n",
       "      <td>506.000000</td>\n",
       "    </tr>\n",
       "    <tr>\n",
       "      <th>mean</th>\n",
       "      <td>3.593761</td>\n",
       "      <td>11.363636</td>\n",
       "      <td>11.136779</td>\n",
       "      <td>0.069170</td>\n",
       "      <td>0.554695</td>\n",
       "      <td>6.284634</td>\n",
       "      <td>68.574901</td>\n",
       "      <td>3.795043</td>\n",
       "      <td>9.549407</td>\n",
       "      <td>408.237154</td>\n",
       "      <td>18.455534</td>\n",
       "      <td>356.674032</td>\n",
       "      <td>12.653063</td>\n",
       "      <td>22.532806</td>\n",
       "    </tr>\n",
       "    <tr>\n",
       "      <th>std</th>\n",
       "      <td>8.596783</td>\n",
       "      <td>23.322453</td>\n",
       "      <td>6.860353</td>\n",
       "      <td>0.253994</td>\n",
       "      <td>0.115878</td>\n",
       "      <td>0.702617</td>\n",
       "      <td>28.148861</td>\n",
       "      <td>2.105710</td>\n",
       "      <td>8.707259</td>\n",
       "      <td>168.537116</td>\n",
       "      <td>2.164946</td>\n",
       "      <td>91.294864</td>\n",
       "      <td>7.141062</td>\n",
       "      <td>9.197104</td>\n",
       "    </tr>\n",
       "    <tr>\n",
       "      <th>min</th>\n",
       "      <td>0.006320</td>\n",
       "      <td>0.000000</td>\n",
       "      <td>0.460000</td>\n",
       "      <td>0.000000</td>\n",
       "      <td>0.385000</td>\n",
       "      <td>3.561000</td>\n",
       "      <td>2.900000</td>\n",
       "      <td>1.129600</td>\n",
       "      <td>1.000000</td>\n",
       "      <td>187.000000</td>\n",
       "      <td>12.600000</td>\n",
       "      <td>0.320000</td>\n",
       "      <td>1.730000</td>\n",
       "      <td>5.000000</td>\n",
       "    </tr>\n",
       "    <tr>\n",
       "      <th>25%</th>\n",
       "      <td>0.082045</td>\n",
       "      <td>0.000000</td>\n",
       "      <td>5.190000</td>\n",
       "      <td>0.000000</td>\n",
       "      <td>0.449000</td>\n",
       "      <td>5.885500</td>\n",
       "      <td>45.025000</td>\n",
       "      <td>2.100175</td>\n",
       "      <td>4.000000</td>\n",
       "      <td>279.000000</td>\n",
       "      <td>17.400000</td>\n",
       "      <td>375.377500</td>\n",
       "      <td>6.950000</td>\n",
       "      <td>17.025000</td>\n",
       "    </tr>\n",
       "    <tr>\n",
       "      <th>50%</th>\n",
       "      <td>0.256510</td>\n",
       "      <td>0.000000</td>\n",
       "      <td>9.690000</td>\n",
       "      <td>0.000000</td>\n",
       "      <td>0.538000</td>\n",
       "      <td>6.208500</td>\n",
       "      <td>77.500000</td>\n",
       "      <td>3.207450</td>\n",
       "      <td>5.000000</td>\n",
       "      <td>330.000000</td>\n",
       "      <td>19.050000</td>\n",
       "      <td>391.440000</td>\n",
       "      <td>11.360000</td>\n",
       "      <td>21.200000</td>\n",
       "    </tr>\n",
       "    <tr>\n",
       "      <th>75%</th>\n",
       "      <td>3.647423</td>\n",
       "      <td>12.500000</td>\n",
       "      <td>18.100000</td>\n",
       "      <td>0.000000</td>\n",
       "      <td>0.624000</td>\n",
       "      <td>6.623500</td>\n",
       "      <td>94.075000</td>\n",
       "      <td>5.188425</td>\n",
       "      <td>24.000000</td>\n",
       "      <td>666.000000</td>\n",
       "      <td>20.200000</td>\n",
       "      <td>396.225000</td>\n",
       "      <td>16.955000</td>\n",
       "      <td>25.000000</td>\n",
       "    </tr>\n",
       "    <tr>\n",
       "      <th>max</th>\n",
       "      <td>88.976200</td>\n",
       "      <td>100.000000</td>\n",
       "      <td>27.740000</td>\n",
       "      <td>1.000000</td>\n",
       "      <td>0.871000</td>\n",
       "      <td>8.780000</td>\n",
       "      <td>100.000000</td>\n",
       "      <td>12.126500</td>\n",
       "      <td>24.000000</td>\n",
       "      <td>711.000000</td>\n",
       "      <td>22.000000</td>\n",
       "      <td>396.900000</td>\n",
       "      <td>37.970000</td>\n",
       "      <td>50.000000</td>\n",
       "    </tr>\n",
       "  </tbody>\n",
       "</table>\n",
       "</div>"
      ],
      "text/plain": [
       "             CRIM          ZN       INDUS        CHAS         NOX          RM  \\\n",
       "count  506.000000  506.000000  506.000000  506.000000  506.000000  506.000000   \n",
       "mean     3.593761   11.363636   11.136779    0.069170    0.554695    6.284634   \n",
       "std      8.596783   23.322453    6.860353    0.253994    0.115878    0.702617   \n",
       "min      0.006320    0.000000    0.460000    0.000000    0.385000    3.561000   \n",
       "25%      0.082045    0.000000    5.190000    0.000000    0.449000    5.885500   \n",
       "50%      0.256510    0.000000    9.690000    0.000000    0.538000    6.208500   \n",
       "75%      3.647423   12.500000   18.100000    0.000000    0.624000    6.623500   \n",
       "max     88.976200  100.000000   27.740000    1.000000    0.871000    8.780000   \n",
       "\n",
       "              AGE         DIS         RAD         TAX     PTRATIO           B  \\\n",
       "count  506.000000  506.000000  506.000000  506.000000  506.000000  506.000000   \n",
       "mean    68.574901    3.795043    9.549407  408.237154   18.455534  356.674032   \n",
       "std     28.148861    2.105710    8.707259  168.537116    2.164946   91.294864   \n",
       "min      2.900000    1.129600    1.000000  187.000000   12.600000    0.320000   \n",
       "25%     45.025000    2.100175    4.000000  279.000000   17.400000  375.377500   \n",
       "50%     77.500000    3.207450    5.000000  330.000000   19.050000  391.440000   \n",
       "75%     94.075000    5.188425   24.000000  666.000000   20.200000  396.225000   \n",
       "max    100.000000   12.126500   24.000000  711.000000   22.000000  396.900000   \n",
       "\n",
       "            LSTAT       PRICE  \n",
       "count  506.000000  506.000000  \n",
       "mean    12.653063   22.532806  \n",
       "std      7.141062    9.197104  \n",
       "min      1.730000    5.000000  \n",
       "25%      6.950000   17.025000  \n",
       "50%     11.360000   21.200000  \n",
       "75%     16.955000   25.000000  \n",
       "max     37.970000   50.000000  "
      ]
     },
     "execution_count": 12,
     "metadata": {},
     "output_type": "execute_result"
    }
   ],
   "source": [
    "bos.describe()"
   ]
  },
  {
   "cell_type": "markdown",
   "metadata": {},
   "source": [
    "### Scatterplots\n",
    "***\n",
    "\n",
    "Let's look at some scatter plots for three variables: 'CRIM' (per capita crime rate), 'RM' (number of rooms) and 'PTRATIO' (pupil-to-teacher ratio in schools).  "
   ]
  },
  {
   "cell_type": "code",
   "execution_count": 13,
   "metadata": {},
   "outputs": [
    {
     "data": {
      "image/png": "[encoded data removed]",
      "text/plain": [
       "<matplotlib.figure.Figure at 0x194c0a0eeb8>"
      ]
     },
     "metadata": {
      "needs_background": "light"
     },
     "output_type": "display_data"
    }
   ],
   "source": [
    "plt.figure(figsize=(10, 8))\n",
    "plt.scatter(bos.CRIM, bos.PRICE)\n",
    "plt.xlabel(\"Per capita crime rate by town (CRIM)\")\n",
    "plt.ylabel(\"Housing Price\")\n",
    "plt.title(\"Relationship between CRIM and Price\")\n",
    "plt.show()"
   ]
  },
  {
   "cell_type": "markdown",
   "metadata": {
    "collapsed": true
   },
   "source": [
    "**What kind of relationship do you see? e.g. positive, negative? linear? non-linear? Is there anything else strange or interesting about the data? What about outliers?**\n",
    "\n",
    "From the scatter plot we can observe that mostly house price varies **negative**ly with the crime rate. This relationship is very clear when the crime rate is higher. However, in the low crime area, house prices varies significantly, which introduces outliers. Most of the house price ranges between 10 to 30 units, which means people are more interested in safer but cost-efficient houses. Overall, house price decreases exponentially(**non-linear**ly) with the increase of the crime rate."
   ]
  },
  {
   "cell_type": "markdown",
   "metadata": {},
   "source": [
    "<div class=\"span5 alert alert-info\">\n",
    "<h3>Part 2 Checkup Exercise Set I</h3>\n",
    "\n",
    "<p><b>Exercise:</b> What kind of relationship do you see? e.g. positive, negative?  linear? non-linear? Is there anything else strange or interesting about the data? What about outliers?</p>\n",
    "\n",
    "\n",
    "<p><b>Exercise:</b> Create scatter plots between *RM* and *PRICE*, and *PTRATIO* and *PRICE*. Label your axes appropriately using human readable labels. Tell a story about what you see.</p>\n",
    "\n",
    "<p><b>Exercise:</b> What are some other numeric variables of interest? Why do you think they are interesting? Plot scatterplots with these variables and *PRICE* (house price) and tell a story about what you see.</p>\n",
    "\n",
    "</div>"
   ]
  },
  {
   "cell_type": "code",
   "execution_count": 14,
   "metadata": {},
   "outputs": [
    {
     "data": {
      "image/png": "[encoded data removed]",
      "text/plain": [
       "<matplotlib.figure.Figure at 0x194c45db588>"
      ]
     },
     "metadata": {
      "needs_background": "light"
     },
     "output_type": "display_data"
    }
   ],
   "source": [
    "# scatter plot between *RM* and *PRICE*\n",
    "plt.figure(figsize=(10, 8))\n",
    "plt.scatter(bos.RM, bos.PRICE)\n",
    "plt.xlabel(\"Average number of rooms per dwelling\")\n",
    "plt.ylabel(\"Housing Price\")\n",
    "plt.title(\"Relationship between RM and Price\")\n",
    "plt.show()"
   ]
  },
  {
   "cell_type": "code",
   "execution_count": 15,
   "metadata": {},
   "outputs": [
    {
     "data": {
      "image/png": "[encoded data removed]",
      "text/plain": [
       "<matplotlib.figure.Figure at 0x194c467d208>"
      ]
     },
     "metadata": {
      "needs_background": "light"
     },
     "output_type": "display_data"
    }
   ],
   "source": [
    "# scatter plot between *PTRATIO* and *PRICE*\n",
    "plt.figure(figsize=(10, 8))\n",
    "plt.scatter(bos.PTRATIO, bos.PRICE)\n",
    "plt.xlabel(\"Pupil-teacher ratio by town\")\n",
    "plt.ylabel(\"Housing Price\")\n",
    "plt.title(\"Relationship between PTRATIO and Price\")\n",
    "plt.show()"
   ]
  },
  {
   "cell_type": "code",
   "execution_count": 16,
   "metadata": {},
   "outputs": [
    {
     "data": {
      "text/html": [
       "<div>\n",
       "<style scoped>\n",
       "    .dataframe tbody tr th:only-of-type {\n",
       "        vertical-align: middle;\n",
       "    }\n",
       "\n",
       "    .dataframe tbody tr th {\n",
       "        vertical-align: top;\n",
       "    }\n",
       "\n",
       "    .dataframe thead th {\n",
       "        text-align: right;\n",
       "    }\n",
       "</style>\n",
       "<table border=\"1\" class=\"dataframe\">\n",
       "  <thead>\n",
       "    <tr style=\"text-align: right;\">\n",
       "      <th></th>\n",
       "      <th>CRIM</th>\n",
       "      <th>ZN</th>\n",
       "      <th>INDUS</th>\n",
       "      <th>CHAS</th>\n",
       "      <th>NOX</th>\n",
       "      <th>RM</th>\n",
       "      <th>AGE</th>\n",
       "      <th>DIS</th>\n",
       "      <th>RAD</th>\n",
       "      <th>TAX</th>\n",
       "      <th>PTRATIO</th>\n",
       "      <th>B</th>\n",
       "      <th>LSTAT</th>\n",
       "      <th>PRICE</th>\n",
       "    </tr>\n",
       "  </thead>\n",
       "  <tbody>\n",
       "    <tr>\n",
       "      <th>CRIM</th>\n",
       "      <td>1.000000</td>\n",
       "      <td>-0.199458</td>\n",
       "      <td>0.404471</td>\n",
       "      <td>-0.055295</td>\n",
       "      <td>0.417521</td>\n",
       "      <td>-0.219940</td>\n",
       "      <td>0.350784</td>\n",
       "      <td>-0.377904</td>\n",
       "      <td>0.622029</td>\n",
       "      <td>0.579564</td>\n",
       "      <td>0.288250</td>\n",
       "      <td>-0.377365</td>\n",
       "      <td>0.452220</td>\n",
       "      <td>-0.385832</td>\n",
       "    </tr>\n",
       "    <tr>\n",
       "      <th>ZN</th>\n",
       "      <td>-0.199458</td>\n",
       "      <td>1.000000</td>\n",
       "      <td>-0.533828</td>\n",
       "      <td>-0.042697</td>\n",
       "      <td>-0.516604</td>\n",
       "      <td>0.311991</td>\n",
       "      <td>-0.569537</td>\n",
       "      <td>0.664408</td>\n",
       "      <td>-0.311948</td>\n",
       "      <td>-0.314563</td>\n",
       "      <td>-0.391679</td>\n",
       "      <td>0.175520</td>\n",
       "      <td>-0.412995</td>\n",
       "      <td>0.360445</td>\n",
       "    </tr>\n",
       "    <tr>\n",
       "      <th>INDUS</th>\n",
       "      <td>0.404471</td>\n",
       "      <td>-0.533828</td>\n",
       "      <td>1.000000</td>\n",
       "      <td>0.062938</td>\n",
       "      <td>0.763651</td>\n",
       "      <td>-0.391676</td>\n",
       "      <td>0.644779</td>\n",
       "      <td>-0.708027</td>\n",
       "      <td>0.595129</td>\n",
       "      <td>0.720760</td>\n",
       "      <td>0.383248</td>\n",
       "      <td>-0.356977</td>\n",
       "      <td>0.603800</td>\n",
       "      <td>-0.483725</td>\n",
       "    </tr>\n",
       "    <tr>\n",
       "      <th>CHAS</th>\n",
       "      <td>-0.055295</td>\n",
       "      <td>-0.042697</td>\n",
       "      <td>0.062938</td>\n",
       "      <td>1.000000</td>\n",
       "      <td>0.091203</td>\n",
       "      <td>0.091251</td>\n",
       "      <td>0.086518</td>\n",
       "      <td>-0.099176</td>\n",
       "      <td>-0.007368</td>\n",
       "      <td>-0.035587</td>\n",
       "      <td>-0.121515</td>\n",
       "      <td>0.048788</td>\n",
       "      <td>-0.053929</td>\n",
       "      <td>0.175260</td>\n",
       "    </tr>\n",
       "    <tr>\n",
       "      <th>NOX</th>\n",
       "      <td>0.417521</td>\n",
       "      <td>-0.516604</td>\n",
       "      <td>0.763651</td>\n",
       "      <td>0.091203</td>\n",
       "      <td>1.000000</td>\n",
       "      <td>-0.302188</td>\n",
       "      <td>0.731470</td>\n",
       "      <td>-0.769230</td>\n",
       "      <td>0.611441</td>\n",
       "      <td>0.668023</td>\n",
       "      <td>0.188933</td>\n",
       "      <td>-0.380051</td>\n",
       "      <td>0.590879</td>\n",
       "      <td>-0.427321</td>\n",
       "    </tr>\n",
       "    <tr>\n",
       "      <th>RM</th>\n",
       "      <td>-0.219940</td>\n",
       "      <td>0.311991</td>\n",
       "      <td>-0.391676</td>\n",
       "      <td>0.091251</td>\n",
       "      <td>-0.302188</td>\n",
       "      <td>1.000000</td>\n",
       "      <td>-0.240265</td>\n",
       "      <td>0.205246</td>\n",
       "      <td>-0.209847</td>\n",
       "      <td>-0.292048</td>\n",
       "      <td>-0.355501</td>\n",
       "      <td>0.128069</td>\n",
       "      <td>-0.613808</td>\n",
       "      <td>0.695360</td>\n",
       "    </tr>\n",
       "    <tr>\n",
       "      <th>AGE</th>\n",
       "      <td>0.350784</td>\n",
       "      <td>-0.569537</td>\n",
       "      <td>0.644779</td>\n",
       "      <td>0.086518</td>\n",
       "      <td>0.731470</td>\n",
       "      <td>-0.240265</td>\n",
       "      <td>1.000000</td>\n",
       "      <td>-0.747881</td>\n",
       "      <td>0.456022</td>\n",
       "      <td>0.506456</td>\n",
       "      <td>0.261515</td>\n",
       "      <td>-0.273534</td>\n",
       "      <td>0.602339</td>\n",
       "      <td>-0.376955</td>\n",
       "    </tr>\n",
       "    <tr>\n",
       "      <th>DIS</th>\n",
       "      <td>-0.377904</td>\n",
       "      <td>0.664408</td>\n",
       "      <td>-0.708027</td>\n",
       "      <td>-0.099176</td>\n",
       "      <td>-0.769230</td>\n",
       "      <td>0.205246</td>\n",
       "      <td>-0.747881</td>\n",
       "      <td>1.000000</td>\n",
       "      <td>-0.494588</td>\n",
       "      <td>-0.534432</td>\n",
       "      <td>-0.232471</td>\n",
       "      <td>0.291512</td>\n",
       "      <td>-0.496996</td>\n",
       "      <td>0.249929</td>\n",
       "    </tr>\n",
       "    <tr>\n",
       "      <th>RAD</th>\n",
       "      <td>0.622029</td>\n",
       "      <td>-0.311948</td>\n",
       "      <td>0.595129</td>\n",
       "      <td>-0.007368</td>\n",
       "      <td>0.611441</td>\n",
       "      <td>-0.209847</td>\n",
       "      <td>0.456022</td>\n",
       "      <td>-0.494588</td>\n",
       "      <td>1.000000</td>\n",
       "      <td>0.910228</td>\n",
       "      <td>0.464741</td>\n",
       "      <td>-0.444413</td>\n",
       "      <td>0.488676</td>\n",
       "      <td>-0.381626</td>\n",
       "    </tr>\n",
       "    <tr>\n",
       "      <th>TAX</th>\n",
       "      <td>0.579564</td>\n",
       "      <td>-0.314563</td>\n",
       "      <td>0.720760</td>\n",
       "      <td>-0.035587</td>\n",
       "      <td>0.668023</td>\n",
       "      <td>-0.292048</td>\n",
       "      <td>0.506456</td>\n",
       "      <td>-0.534432</td>\n",
       "      <td>0.910228</td>\n",
       "      <td>1.000000</td>\n",
       "      <td>0.460853</td>\n",
       "      <td>-0.441808</td>\n",
       "      <td>0.543993</td>\n",
       "      <td>-0.468536</td>\n",
       "    </tr>\n",
       "    <tr>\n",
       "      <th>PTRATIO</th>\n",
       "      <td>0.288250</td>\n",
       "      <td>-0.391679</td>\n",
       "      <td>0.383248</td>\n",
       "      <td>-0.121515</td>\n",
       "      <td>0.188933</td>\n",
       "      <td>-0.355501</td>\n",
       "      <td>0.261515</td>\n",
       "      <td>-0.232471</td>\n",
       "      <td>0.464741</td>\n",
       "      <td>0.460853</td>\n",
       "      <td>1.000000</td>\n",
       "      <td>-0.177383</td>\n",
       "      <td>0.374044</td>\n",
       "      <td>-0.507787</td>\n",
       "    </tr>\n",
       "    <tr>\n",
       "      <th>B</th>\n",
       "      <td>-0.377365</td>\n",
       "      <td>0.175520</td>\n",
       "      <td>-0.356977</td>\n",
       "      <td>0.048788</td>\n",
       "      <td>-0.380051</td>\n",
       "      <td>0.128069</td>\n",
       "      <td>-0.273534</td>\n",
       "      <td>0.291512</td>\n",
       "      <td>-0.444413</td>\n",
       "      <td>-0.441808</td>\n",
       "      <td>-0.177383</td>\n",
       "      <td>1.000000</td>\n",
       "      <td>-0.366087</td>\n",
       "      <td>0.333461</td>\n",
       "    </tr>\n",
       "    <tr>\n",
       "      <th>LSTAT</th>\n",
       "      <td>0.452220</td>\n",
       "      <td>-0.412995</td>\n",
       "      <td>0.603800</td>\n",
       "      <td>-0.053929</td>\n",
       "      <td>0.590879</td>\n",
       "      <td>-0.613808</td>\n",
       "      <td>0.602339</td>\n",
       "      <td>-0.496996</td>\n",
       "      <td>0.488676</td>\n",
       "      <td>0.543993</td>\n",
       "      <td>0.374044</td>\n",
       "      <td>-0.366087</td>\n",
       "      <td>1.000000</td>\n",
       "      <td>-0.737663</td>\n",
       "    </tr>\n",
       "    <tr>\n",
       "      <th>PRICE</th>\n",
       "      <td>-0.385832</td>\n",
       "      <td>0.360445</td>\n",
       "      <td>-0.483725</td>\n",
       "      <td>0.175260</td>\n",
       "      <td>-0.427321</td>\n",
       "      <td>0.695360</td>\n",
       "      <td>-0.376955</td>\n",
       "      <td>0.249929</td>\n",
       "      <td>-0.381626</td>\n",
       "      <td>-0.468536</td>\n",
       "      <td>-0.507787</td>\n",
       "      <td>0.333461</td>\n",
       "      <td>-0.737663</td>\n",
       "      <td>1.000000</td>\n",
       "    </tr>\n",
       "  </tbody>\n",
       "</table>\n",
       "</div>"
      ],
      "text/plain": [
       "             CRIM        ZN     INDUS      CHAS       NOX        RM       AGE  \\\n",
       "CRIM     1.000000 -0.199458  0.404471 -0.055295  0.417521 -0.219940  0.350784   \n",
       "ZN      -0.199458  1.000000 -0.533828 -0.042697 -0.516604  0.311991 -0.569537   \n",
       "INDUS    0.404471 -0.533828  1.000000  0.062938  0.763651 -0.391676  0.644779   \n",
       "CHAS    -0.055295 -0.042697  0.062938  1.000000  0.091203  0.091251  0.086518   \n",
       "NOX      0.417521 -0.516604  0.763651  0.091203  1.000000 -0.302188  0.731470   \n",
       "RM      -0.219940  0.311991 -0.391676  0.091251 -0.302188  1.000000 -0.240265   \n",
       "AGE      0.350784 -0.569537  0.644779  0.086518  0.731470 -0.240265  1.000000   \n",
       "DIS     -0.377904  0.664408 -0.708027 -0.099176 -0.769230  0.205246 -0.747881   \n",
       "RAD      0.622029 -0.311948  0.595129 -0.007368  0.611441 -0.209847  0.456022   \n",
       "TAX      0.579564 -0.314563  0.720760 -0.035587  0.668023 -0.292048  0.506456   \n",
       "PTRATIO  0.288250 -0.391679  0.383248 -0.121515  0.188933 -0.355501  0.261515   \n",
       "B       -0.377365  0.175520 -0.356977  0.048788 -0.380051  0.128069 -0.273534   \n",
       "LSTAT    0.452220 -0.412995  0.603800 -0.053929  0.590879 -0.613808  0.602339   \n",
       "PRICE   -0.385832  0.360445 -0.483725  0.175260 -0.427321  0.695360 -0.376955   \n",
       "\n",
       "              DIS       RAD       TAX   PTRATIO         B     LSTAT     PRICE  \n",
       "CRIM    -0.377904  0.622029  0.579564  0.288250 -0.377365  0.452220 -0.385832  \n",
       "ZN       0.664408 -0.311948 -0.314563 -0.391679  0.175520 -0.412995  0.360445  \n",
       "INDUS   -0.708027  0.595129  0.720760  0.383248 -0.356977  0.603800 -0.483725  \n",
       "CHAS    -0.099176 -0.007368 -0.035587 -0.121515  0.048788 -0.053929  0.175260  \n",
       "NOX     -0.769230  0.611441  0.668023  0.188933 -0.380051  0.590879 -0.427321  \n",
       "RM       0.205246 -0.209847 -0.292048 -0.355501  0.128069 -0.613808  0.695360  \n",
       "AGE     -0.747881  0.456022  0.506456  0.261515 -0.273534  0.602339 -0.376955  \n",
       "DIS      1.000000 -0.494588 -0.534432 -0.232471  0.291512 -0.496996  0.249929  \n",
       "RAD     -0.494588  1.000000  0.910228  0.464741 -0.444413  0.488676 -0.381626  \n",
       "TAX     -0.534432  0.910228  1.000000  0.460853 -0.441808  0.543993 -0.468536  \n",
       "PTRATIO -0.232471  0.464741  0.460853  1.000000 -0.177383  0.374044 -0.507787  \n",
       "B        0.291512 -0.444413 -0.441808 -0.177383  1.000000 -0.366087  0.333461  \n",
       "LSTAT   -0.496996  0.488676  0.543993  0.374044 -0.366087  1.000000 -0.737663  \n",
       "PRICE    0.249929 -0.381626 -0.468536 -0.507787  0.333461 -0.737663  1.000000  "
      ]
     },
     "execution_count": 16,
     "metadata": {},
     "output_type": "execute_result"
    }
   ],
   "source": [
    "# Correlation coefficient between price and other columns\n",
    "bos.corr()"
   ]
  },
  {
   "cell_type": "markdown",
   "metadata": {},
   "source": [
    "**Plots Using Ipython Widgets**"
   ]
  },
  {
   "cell_type": "code",
   "execution_count": 17,
   "metadata": {},
   "outputs": [],
   "source": [
    "# !pip install ipywidgets\n",
    "from ipywidgets import interact, interactive, fixed, interact_manual\n",
    "import ipywidgets as widgets"
   ]
  },
  {
   "cell_type": "code",
   "execution_count": 44,
   "metadata": {},
   "outputs": [
    {
     "data": {
      "application/vnd.jupyter.widget-view+json": {
       "model_id": "f0d8abf4da34411d8bb92883bf79b856",
       "version_major": 2,
       "version_minor": 0
      },
      "text/html": [
       "<p>Failed to display Jupyter Widget of type <code>interactive</code>.</p>\n",
       "<p>\n",
       "  If you're reading this message in the Jupyter Notebook or JupyterLab Notebook, it may mean\n",
       "  that the widgets JavaScript is still loading. If this message persists, it\n",
       "  likely means that the widgets JavaScript library is either not installed or\n",
       "  not enabled. See the <a href=\"https://ipywidgets.readthedocs.io/en/stable/user_install.html\">Jupyter\n",
       "  Widgets Documentation</a> for setup instructions.\n",
       "</p>\n",
       "<p>\n",
       "  If you're reading this message in another frontend (for example, a static\n",
       "  rendering on GitHub or <a href=\"https://nbviewer.jupyter.org/\">NBViewer</a>),\n",
       "  it may mean that your frontend doesn't currently support widgets.\n",
       "</p>\n"
      ],
      "text/plain": [
       "interactive(children=(Dropdown(description='x', options=('ZN', 'INDUS', 'NOX', 'AGE', 'DIS', 'RAD', 'TAX', 'B', 'LSTAT'), value='ZN'), Output()), _dom_classes=('widget-interact',))"
      ]
     },
     "metadata": {},
     "output_type": "display_data"
    },
    {
     "data": {
      "text/plain": [
       "<function __main__.make_plot>"
      ]
     },
     "execution_count": 44,
     "metadata": {},
     "output_type": "execute_result"
    }
   ],
   "source": [
    "# define a fuction to make plots\n",
    "def make_plot(x):\n",
    "    plt.figure(figsize=(10, 8))\n",
    "    plt.scatter(bos[x], bos.PRICE)\n",
    "    plt.xlabel(labels[x])\n",
    "    plt.ylabel(\"Housing Price\")\n",
    "    plt.title(\"Relationship between %s and Price\"%x)\n",
    "    plt.show()\n",
    "    \n",
    "# labels and indexs for the plots\n",
    "labels = {'ZN' : 'proportion of residential land zoned for lots over 25,000 sq.ft.',\n",
    "              'INDUS' : 'proportion of non-retail business acres per town',\n",
    "              'NOX' : 'nitric oxides concentration (parts per 10 million)',\n",
    "              'AGE' : 'proportion of owner-occupied units built prior to 1940',\n",
    "              'DIS' : 'weighted distances to five Boston employment centres',\n",
    "              'RAD' : 'index of accessibility to radial highways',\n",
    "              'TAX' : 'full-value property-tax rate per $10,000',\n",
    "              'B'   : '1000(Bk - 0.63)^2 where Bk is the proportion of blacks by town',\n",
    "              'LSTAT' : '% lower status of the population'}  \n",
    "options=['ZN', 'INDUS', 'NOX', 'AGE', 'DIS', 'RAD', 'TAX','B', 'LSTAT']\n",
    "\n",
    "# the drop-down widgets to have multiple plots\n",
    "interact(make_plot, x = options)"
   ]
  },
  {
   "cell_type": "markdown",
   "metadata": {},
   "source": [
    "#### Plots using bokeh ####"
   ]
  },
  {
   "cell_type": "code",
   "execution_count": 19,
   "metadata": {},
   "outputs": [],
   "source": [
    "from bokeh.models import  CategoricalColorMapper, Select, Slider, CustomJS\n",
    "from bokeh.plotting import figure, ColumnDataSource\n",
    "from bokeh.layouts import row, column, widgetbox\n",
    "from bokeh.io import show, output_notebook"
   ]
  },
  {
   "cell_type": "code",
   "execution_count": 20,
   "metadata": {},
   "outputs": [],
   "source": [
    "# the sources for the interactive bokeh plots\n",
    "source = ColumnDataSource(data = {\n",
    "        'x'       : bos['ZN'],\n",
    "        'y'       : bos['PRICE']\n",
    "    })\n",
    "\n",
    "x_axis_dict = dict()\n",
    "for x in options:\n",
    "    x_axis_dict[x] = bos[x]\n",
    "df_source = ColumnDataSource(data= x_axis_dict)"
   ]
  },
  {
   "cell_type": "code",
   "execution_count": 73,
   "metadata": {
    "scrolled": false
   },
   "outputs": [
    {
     "data": {
      "application/javascript": [
       "\n",
       "(function(root) {\n",
       "  function now() {\n",
       "    return new Date();\n",
       "  }\n",
       "\n",
       "  var force = true;\n",
       "\n",
       "  if (typeof (root._bokeh_onload_callbacks) === \"undefined\" || force === true) {\n",
       "    root._bokeh_onload_callbacks = [];\n",
       "    root._bokeh_is_loading = undefined;\n",
       "  }\n",
       "\n",
       "  var JS_MIME_TYPE = 'application/javascript';\n",
       "  var HTML_MIME_TYPE = 'text/html';\n",
       "  var EXEC_MIME_TYPE = 'application/vnd.bokehjs_exec.v0+json';\n",
       "  var CLASS_NAME = 'output_bokeh rendered_html';\n",
       "\n",
       "  /**\n",
       "   * Render data to the DOM node\n",
       "   */\n",
       "  function render(props, node) {\n",
       "    var script = document.createElement(\"script\");\n",
       "    node.appendChild(script);\n",
       "  }\n",
       "\n",
       "  /**\n",
       "   * Handle when an output is cleared or removed\n",
       "   */\n",
       "  function handleClearOutput(event, handle) {\n",
       "    var cell = handle.cell;\n",
       "\n",
       "    var id = cell.output_area._bokeh_element_id;\n",
       "    var server_id = cell.output_area._bokeh_server_id;\n",
       "    // Clean up Bokeh references\n",
       "    if (id !== undefined) {\n",
       "      Bokeh.index[id].model.document.clear();\n",
       "      delete Bokeh.index[id];\n",
       "    }\n",
       "\n",
       "    if (server_id !== undefined) {\n",
       "      // Clean up Bokeh references\n",
       "      var cmd = \"from bokeh.io.state import curstate; print(curstate().uuid_to_server['\" + server_id + \"'].get_sessions()[0].document.roots[0]._id)\";\n",
       "      cell.notebook.kernel.execute(cmd, {\n",
       "        iopub: {\n",
       "          output: function(msg) {\n",
       "            var element_id = msg.content.text.trim();\n",
       "            Bokeh.index[element_id].model.document.clear();\n",
       "            delete Bokeh.index[element_id];\n",
       "          }\n",
       "        }\n",
       "      });\n",
       "      // Destroy server and session\n",
       "      var cmd = \"import bokeh.io.notebook as ion; ion.destroy_server('\" + server_id + \"')\";\n",
       "      cell.notebook.kernel.execute(cmd);\n",
       "    }\n",
       "  }\n",
       "\n",
       "  /**\n",
       "   * Handle when a new output is added\n",
       "   */\n",
       "  function handleAddOutput(event, handle) {\n",
       "    var output_area = handle.output_area;\n",
       "    var output = handle.output;\n",
       "\n",
       "    // limit handleAddOutput to display_data with EXEC_MIME_TYPE content only\n",
       "    if ((output.output_type != \"display_data\") || (!output.data.hasOwnProperty(EXEC_MIME_TYPE))) {\n",
       "      return\n",
       "    }\n",
       "\n",
       "    var toinsert = output_area.element.find(\".\" + CLASS_NAME.split(' ')[0]);\n",
       "\n",
       "    if (output.metadata[EXEC_MIME_TYPE][\"id\"] !== undefined) {\n",
       "      toinsert[0].firstChild.textContent = output.data[JS_MIME_TYPE];\n",
       "      // store reference to embed id on output_area\n",
       "      output_area._bokeh_element_id = output.metadata[EXEC_MIME_TYPE][\"id\"];\n",
       "    }\n",
       "    if (output.metadata[EXEC_MIME_TYPE][\"server_id\"] !== undefined) {\n",
       "      var bk_div = document.createElement(\"div\");\n",
       "      bk_div.innerHTML = output.data[HTML_MIME_TYPE];\n",
       "      var script_attrs = bk_div.children[0].attributes;\n",
       "      for (var i = 0; i < script_attrs.length; i++) {\n",
       "        toinsert[0].firstChild.setAttribute(script_attrs[i].name, script_attrs[i].value);\n",
       "      }\n",
       "      // store reference to server id on output_area\n",
       "      output_area._bokeh_server_id = output.metadata[EXEC_MIME_TYPE][\"server_id\"];\n",
       "    }\n",
       "  }\n",
       "\n",
       "  function register_renderer(events, OutputArea) {\n",
       "\n",
       "    function append_mime(data, metadata, element) {\n",
       "      // create a DOM node to render to\n",
       "      var toinsert = this.create_output_subarea(\n",
       "        metadata,\n",
       "        CLASS_NAME,\n",
       "        EXEC_MIME_TYPE\n",
       "      );\n",
       "      this.keyboard_manager.register_events(toinsert);\n",
       "      // Render to node\n",
       "      var props = {data: data, metadata: metadata[EXEC_MIME_TYPE]};\n",
       "      render(props, toinsert[0]);\n",
       "      element.append(toinsert);\n",
       "      return toinsert\n",
       "    }\n",
       "\n",
       "    /* Handle when an output is cleared or removed */\n",
       "    events.on('clear_output.CodeCell', handleClearOutput);\n",
       "    events.on('delete.Cell', handleClearOutput);\n",
       "\n",
       "    /* Handle when a new output is added */\n",
       "    events.on('output_added.OutputArea', handleAddOutput);\n",
       "\n",
       "    /**\n",
       "     * Register the mime type and append_mime function with output_area\n",
       "     */\n",
       "    OutputArea.prototype.register_mime_type(EXEC_MIME_TYPE, append_mime, {\n",
       "      /* Is output safe? */\n",
       "      safe: true,\n",
       "      /* Index of renderer in `output_area.display_order` */\n",
       "      index: 0\n",
       "    });\n",
       "  }\n",
       "\n",
       "  // register the mime type if in Jupyter Notebook environment and previously unregistered\n",
       "  if (root.Jupyter !== undefined) {\n",
       "    var events = require('base/js/events');\n",
       "    var OutputArea = require('notebook/js/outputarea').OutputArea;\n",
       "\n",
       "    if (OutputArea.prototype.mime_types().indexOf(EXEC_MIME_TYPE) == -1) {\n",
       "      register_renderer(events, OutputArea);\n",
       "    }\n",
       "  }\n",
       "\n",
       "  \n",
       "  if (typeof (root._bokeh_timeout) === \"undefined\" || force === true) {\n",
       "    root._bokeh_timeout = Date.now() + 5000;\n",
       "    root._bokeh_failed_load = false;\n",
       "  }\n",
       "\n",
       "  var NB_LOAD_WARNING = {'data': {'text/html':\n",
       "     \"<div style='background-color: #fdd'>\\n\"+\n",
       "     \"<p>\\n\"+\n",
       "     \"BokehJS does not appear to have successfully loaded. If loading BokehJS from CDN, this \\n\"+\n",
       "     \"may be due to a slow or bad network connection. Possible fixes:\\n\"+\n",
       "     \"</p>\\n\"+\n",
       "     \"<ul>\\n\"+\n",
       "     \"<li>re-rerun `output_notebook()` to attempt to load from CDN again, or</li>\\n\"+\n",
       "     \"<li>use INLINE resources instead, as so:</li>\\n\"+\n",
       "     \"</ul>\\n\"+\n",
       "     \"<code>\\n\"+\n",
       "     \"from bokeh.resources import INLINE\\n\"+\n",
       "     \"output_notebook(resources=INLINE)\\n\"+\n",
       "     \"</code>\\n\"+\n",
       "     \"</div>\"}};\n",
       "\n",
       "  function display_loaded() {\n",
       "    var el = document.getElementById(null);\n",
       "    if (el != null) {\n",
       "      el.textContent = \"BokehJS is loading...\";\n",
       "    }\n",
       "    if (root.Bokeh !== undefined) {\n",
       "      if (el != null) {\n",
       "        el.textContent = \"BokehJS \" + root.Bokeh.version + \" successfully loaded.\";\n",
       "      }\n",
       "    } else if (Date.now() < root._bokeh_timeout) {\n",
       "      setTimeout(display_loaded, 100)\n",
       "    }\n",
       "  }\n",
       "\n",
       "\n",
       "  function run_callbacks() {\n",
       "    try {\n",
       "      root._bokeh_onload_callbacks.forEach(function(callback) { callback() });\n",
       "    }\n",
       "    finally {\n",
       "      delete root._bokeh_onload_callbacks\n",
       "    }\n",
       "    console.info(\"Bokeh: all callbacks have finished\");\n",
       "  }\n",
       "\n",
       "  function load_libs(js_urls, callback) {\n",
       "    root._bokeh_onload_callbacks.push(callback);\n",
       "    if (root._bokeh_is_loading > 0) {\n",
       "      console.log(\"Bokeh: BokehJS is being loaded, scheduling callback at\", now());\n",
       "      return null;\n",
       "    }\n",
       "    if (js_urls == null || js_urls.length === 0) {\n",
       "      run_callbacks();\n",
       "      return null;\n",
       "    }\n",
       "    console.log(\"Bokeh: BokehJS not loaded, scheduling load and callback at\", now());\n",
       "    root._bokeh_is_loading = js_urls.length;\n",
       "    for (var i = 0; i < js_urls.length; i++) {\n",
       "      var url = js_urls[i];\n",
       "      var s = document.createElement('script');\n",
       "      s.src = url;\n",
       "      s.async = false;\n",
       "      s.onreadystatechange = s.onload = function() {\n",
       "        root._bokeh_is_loading--;\n",
       "        if (root._bokeh_is_loading === 0) {\n",
       "          console.log(\"Bokeh: all BokehJS libraries loaded\");\n",
       "          run_callbacks()\n",
       "        }\n",
       "      };\n",
       "      s.onerror = function() {\n",
       "        console.warn(\"failed to load library \" + url);\n",
       "      };\n",
       "      console.log(\"Bokeh: injecting script tag for BokehJS library: \", url);\n",
       "      document.getElementsByTagName(\"head\")[0].appendChild(s);\n",
       "    }\n",
       "  };\n",
       "\n",
       "  var js_urls = [\"https://cdn.pydata.org/bokeh/release/bokeh-0.12.13.min.js\", \"https://cdn.pydata.org/bokeh/release/bokeh-widgets-0.12.13.min.js\", \"https://cdn.pydata.org/bokeh/release/bokeh-tables-0.12.13.min.js\", \"https://cdn.pydata.org/bokeh/release/bokeh-gl-0.12.13.min.js\"];\n",
       "\n",
       "  var inline_js = [\n",
       "    function(Bokeh) {\n",
       "      Bokeh.set_log_level(\"info\");\n",
       "    },\n",
       "    \n",
       "    function(Bokeh) {\n",
       "      \n",
       "    },\n",
       "    function(Bokeh) {\n",
       "      console.log(\"Bokeh: injecting CSS: https://cdn.pydata.org/bokeh/release/bokeh-0.12.13.min.css\");\n",
       "      Bokeh.embed.inject_css(\"https://cdn.pydata.org/bokeh/release/bokeh-0.12.13.min.css\");\n",
       "      console.log(\"Bokeh: injecting CSS: https://cdn.pydata.org/bokeh/release/bokeh-widgets-0.12.13.min.css\");\n",
       "      Bokeh.embed.inject_css(\"https://cdn.pydata.org/bokeh/release/bokeh-widgets-0.12.13.min.css\");\n",
       "      console.log(\"Bokeh: injecting CSS: https://cdn.pydata.org/bokeh/release/bokeh-tables-0.12.13.min.css\");\n",
       "      Bokeh.embed.inject_css(\"https://cdn.pydata.org/bokeh/release/bokeh-tables-0.12.13.min.css\");\n",
       "    }\n",
       "  ];\n",
       "\n",
       "  function run_inline_js() {\n",
       "    \n",
       "    if ((root.Bokeh !== undefined) || (force === true)) {\n",
       "      for (var i = 0; i < inline_js.length; i++) {\n",
       "        inline_js[i].call(root, root.Bokeh);\n",
       "      }} else if (Date.now() < root._bokeh_timeout) {\n",
       "      setTimeout(run_inline_js, 100);\n",
       "    } else if (!root._bokeh_failed_load) {\n",
       "      console.log(\"Bokeh: BokehJS failed to load within specified timeout.\");\n",
       "      root._bokeh_failed_load = true;\n",
       "    } else if (force !== true) {\n",
       "      var cell = $(document.getElementById(null)).parents('.cell').data().cell;\n",
       "      cell.output_area.append_execute_result(NB_LOAD_WARNING)\n",
       "    }\n",
       "\n",
       "  }\n",
       "\n",
       "  if (root._bokeh_is_loading === 0) {\n",
       "    console.log(\"Bokeh: BokehJS loaded, going straight to plotting\");\n",
       "    run_inline_js();\n",
       "  } else {\n",
       "    load_libs(js_urls, function() {\n",
       "      console.log(\"Bokeh: BokehJS plotting callback run at\", now());\n",
       "      run_inline_js();\n",
       "    });\n",
       "  }\n",
       "}(window));"
      ],
      "application/vnd.bokehjs_load.v0+json": "\n(function(root) {\n  function now() {\n    return new Date();\n  }\n\n  var force = true;\n\n  if (typeof (root._bokeh_onload_callbacks) === \"undefined\" || force === true) {\n    root._bokeh_onload_callbacks = [];\n    root._bokeh_is_loading = undefined;\n  }\n\n  \n\n  \n  if (typeof (root._bokeh_timeout) === \"undefined\" || force === true) {\n    root._bokeh_timeout = Date.now() + 5000;\n    root._bokeh_failed_load = false;\n  }\n\n  var NB_LOAD_WARNING = {'data': {'text/html':\n     \"<div style='background-color: #fdd'>\\n\"+\n     \"<p>\\n\"+\n     \"BokehJS does not appear to have successfully loaded. If loading BokehJS from CDN, this \\n\"+\n     \"may be due to a slow or bad network connection. Possible fixes:\\n\"+\n     \"</p>\\n\"+\n     \"<ul>\\n\"+\n     \"<li>re-rerun `output_notebook()` to attempt to load from CDN again, or</li>\\n\"+\n     \"<li>use INLINE resources instead, as so:</li>\\n\"+\n     \"</ul>\\n\"+\n     \"<code>\\n\"+\n     \"from bokeh.resources import INLINE\\n\"+\n     \"output_notebook(resources=INLINE)\\n\"+\n     \"</code>\\n\"+\n     \"</div>\"}};\n\n  function display_loaded() {\n    var el = document.getElementById(null);\n    if (el != null) {\n      el.textContent = \"BokehJS is loading...\";\n    }\n    if (root.Bokeh !== undefined) {\n      if (el != null) {\n        el.textContent = \"BokehJS \" + root.Bokeh.version + \" successfully loaded.\";\n      }\n    } else if (Date.now() < root._bokeh_timeout) {\n      setTimeout(display_loaded, 100)\n    }\n  }\n\n\n  function run_callbacks() {\n    try {\n      root._bokeh_onload_callbacks.forEach(function(callback) { callback() });\n    }\n    finally {\n      delete root._bokeh_onload_callbacks\n    }\n    console.info(\"Bokeh: all callbacks have finished\");\n  }\n\n  function load_libs(js_urls, callback) {\n    root._bokeh_onload_callbacks.push(callback);\n    if (root._bokeh_is_loading > 0) {\n      console.log(\"Bokeh: BokehJS is being loaded, scheduling callback at\", now());\n      return null;\n    }\n    if (js_urls == null || js_urls.length === 0) {\n      run_callbacks();\n      return null;\n    }\n    console.log(\"Bokeh: BokehJS not loaded, scheduling load and callback at\", now());\n    root._bokeh_is_loading = js_urls.length;\n    for (var i = 0; i < js_urls.length; i++) {\n      var url = js_urls[i];\n      var s = document.createElement('script');\n      s.src = url;\n      s.async = false;\n      s.onreadystatechange = s.onload = function() {\n        root._bokeh_is_loading--;\n        if (root._bokeh_is_loading === 0) {\n          console.log(\"Bokeh: all BokehJS libraries loaded\");\n          run_callbacks()\n        }\n      };\n      s.onerror = function() {\n        console.warn(\"failed to load library \" + url);\n      };\n      console.log(\"Bokeh: injecting script tag for BokehJS library: \", url);\n      document.getElementsByTagName(\"head\")[0].appendChild(s);\n    }\n  };\n\n  var js_urls = [\"https://cdn.pydata.org/bokeh/release/bokeh-0.12.13.min.js\", \"https://cdn.pydata.org/bokeh/release/bokeh-widgets-0.12.13.min.js\", \"https://cdn.pydata.org/bokeh/release/bokeh-tables-0.12.13.min.js\", \"https://cdn.pydata.org/bokeh/release/bokeh-gl-0.12.13.min.js\"];\n\n  var inline_js = [\n    function(Bokeh) {\n      Bokeh.set_log_level(\"info\");\n    },\n    \n    function(Bokeh) {\n      \n    },\n    function(Bokeh) {\n      console.log(\"Bokeh: injecting CSS: https://cdn.pydata.org/bokeh/release/bokeh-0.12.13.min.css\");\n      Bokeh.embed.inject_css(\"https://cdn.pydata.org/bokeh/release/bokeh-0.12.13.min.css\");\n      console.log(\"Bokeh: injecting CSS: https://cdn.pydata.org/bokeh/release/bokeh-widgets-0.12.13.min.css\");\n      Bokeh.embed.inject_css(\"https://cdn.pydata.org/bokeh/release/bokeh-widgets-0.12.13.min.css\");\n      console.log(\"Bokeh: injecting CSS: https://cdn.pydata.org/bokeh/release/bokeh-tables-0.12.13.min.css\");\n      Bokeh.embed.inject_css(\"https://cdn.pydata.org/bokeh/release/bokeh-tables-0.12.13.min.css\");\n    }\n  ];\n\n  function run_inline_js() {\n    \n    if ((root.Bokeh !== undefined) || (force === true)) {\n      for (var i = 0; i < inline_js.length; i++) {\n        inline_js[i].call(root, root.Bokeh);\n      }} else if (Date.now() < root._bokeh_timeout) {\n      setTimeout(run_inline_js, 100);\n    } else if (!root._bokeh_failed_load) {\n      console.log(\"Bokeh: BokehJS failed to load within specified timeout.\");\n      root._bokeh_failed_load = true;\n    } else if (force !== true) {\n      var cell = $(document.getElementById(null)).parents('.cell').data().cell;\n      cell.output_area.append_execute_result(NB_LOAD_WARNING)\n    }\n\n  }\n\n  if (root._bokeh_is_loading === 0) {\n    console.log(\"Bokeh: BokehJS loaded, going straight to plotting\");\n    run_inline_js();\n  } else {\n    load_libs(js_urls, function() {\n      console.log(\"Bokeh: BokehJS plotting callback run at\", now());\n      run_inline_js();\n    });\n  }\n}(window));"
     },
     "metadata": {},
     "output_type": "display_data"
    },
    {
     "data": {
      "text/html": [
       "\n",
       "<div class=\"bk-root\">\n",
       "    <div class=\"bk-plotdiv\" id=\"abc74fc0-e1a5-49a5-853f-5e0dd7c4d4be\"></div>\n",
       "</div>"
      ]
     },
     "metadata": {},
     "output_type": "display_data"
    },
    {
     "data": {
      "application/javascript": [
       "(function(root) {\n",
       "  function embed_document(root) {\n",
       "    \n",
       "  var docs_json = {\"9e48093a-92d4-4bcd-9fbd-e5e469258a01\":{\"roots\":{\"references\":[{\"attributes\":{},\"id\":\"014a7fa6-7063-4402-92b3-3245b6144128\",\"type\":\"WheelZoomTool\"},{\"attributes\":{\"args\":{\"axis\":{\"id\":\"8c96bd40-19a6-49eb-b667-8d22dde69bfe\",\"type\":\"LinearAxis\"},\"df_source\":{\"id\":\"3f21912d-ca04-4118-8120-f037e0e2258e\",\"type\":\"ColumnDataSource\"},\"select\":{\"id\":\"5ce9153e-e742-4953-b8da-e9900021b4d4\",\"type\":\"Select\"},\"source\":{\"id\":\"5bc9bbc8-802a-44f4-be37-14f6e1783d19\",\"type\":\"ColumnDataSource\"},\"title\":{\"id\":\"e700ce0b-309f-4f14-946a-6eb82b93a4f4\",\"type\":\"Title\"}},\"code\":\"\\n    var data = source.data;\\n    var f = select.value;\\n    var dat = df_source.data\\n    x = data['x']\\n    y = data['y']\\n    z = dat[f]\\n    for (i = 0; i < x.length; i++) {\\n        x[i] = z[i]\\n    }\\n    title.text = \\\"Relationship between \\\" +f +\\\" and PRICE\\\"\\n    axis.axis_label = f\\n    // necessary becasue we mutated source.data in-place\\n    source.change.emit();\\n\"},\"id\":\"0eba5d8a-24b8-4c3b-8d51-6cc6583c82a2\",\"type\":\"CustomJS\"},{\"attributes\":{\"fill_alpha\":{\"value\":0.6},\"fill_color\":{\"value\":\"#1f77b4\"},\"line_alpha\":{\"value\":0.6},\"line_color\":{\"value\":\"#1f77b4\"},\"x\":{\"field\":\"x\"},\"y\":{\"field\":\"y\"}},\"id\":\"1e667e99-fc83-400c-ab7e-0e76d5094f58\",\"type\":\"Circle\"},{\"attributes\":{\"overlay\":{\"id\":\"db3240b0-b325-469e-9b22-2fc9630ef6be\",\"type\":\"BoxAnnotation\"}},\"id\":\"dc5f0637-b8dd-4730-a989-bad0fe2c433e\",\"type\":\"BoxZoomTool\"},{\"attributes\":{\"callback\":null},\"id\":\"bfe6903f-af6f-4e1e-b6bd-dfc7565aad5b\",\"type\":\"DataRange1d\"},{\"attributes\":{},\"id\":\"6efd2a65-29bc-4121-a128-3ea61410a7b6\",\"type\":\"BasicTicker\"},{\"attributes\":{\"callback\":null,\"js_property_callbacks\":{\"change:value\":[{\"id\":\"0eba5d8a-24b8-4c3b-8d51-6cc6583c82a2\",\"type\":\"CustomJS\"}]},\"options\":[\"ZN\",\"INDUS\",\"NOX\",\"AGE\",\"DIS\",\"RAD\",\"TAX\",\"B\",\"LSTAT\"],\"title\":\"Relationship Between Price and \",\"value\":\"ZN\"},\"id\":\"5ce9153e-e742-4953-b8da-e9900021b4d4\",\"type\":\"Select\"},{\"attributes\":{},\"id\":\"a8fd6404-dbd7-496d-be95-4825db97c073\",\"type\":\"LinearScale\"},{\"attributes\":{\"data_source\":{\"id\":\"5bc9bbc8-802a-44f4-be37-14f6e1783d19\",\"type\":\"ColumnDataSource\"},\"glyph\":{\"id\":\"1e667e99-fc83-400c-ab7e-0e76d5094f58\",\"type\":\"Circle\"},\"hover_glyph\":null,\"muted_glyph\":null,\"nonselection_glyph\":{\"id\":\"5607b63b-3984-497f-a0db-5df6ea3eead9\",\"type\":\"Circle\"},\"selection_glyph\":null,\"view\":{\"id\":\"f3a59760-5857-4c6d-bbf5-2e79d4c0f3ca\",\"type\":\"CDSView\"}},\"id\":\"6124179e-a900-44c0-8db8-0a75abac1a1e\",\"type\":\"GlyphRenderer\"},{\"attributes\":{\"plot\":{\"id\":\"ee8b9b62-8f80-44ee-801a-2e1b159640ce\",\"subtype\":\"Figure\",\"type\":\"Plot\"},\"ticker\":{\"id\":\"6f82572e-c773-4058-9bd7-cf7734a07f44\",\"type\":\"BasicTicker\"}},\"id\":\"97d546ec-a7e8-4973-a9bf-56f2af1702e6\",\"type\":\"Grid\"},{\"attributes\":{},\"id\":\"3da66eb8-3a19-4073-b57f-aeb8e225936e\",\"type\":\"PanTool\"},{\"attributes\":{\"callback\":null},\"id\":\"73b14373-71d9-465a-8e86-00ba184c4d83\",\"type\":\"DataRange1d\"},{\"attributes\":{\"source\":{\"id\":\"5bc9bbc8-802a-44f4-be37-14f6e1783d19\",\"type\":\"ColumnDataSource\"}},\"id\":\"f3a59760-5857-4c6d-bbf5-2e79d4c0f3ca\",\"type\":\"CDSView\"},{\"attributes\":{},\"id\":\"d6f1681b-48be-428b-aceb-d3753c6cc7c1\",\"type\":\"BasicTickFormatter\"},{\"attributes\":{\"axis_label\":\"proportion of residential land zoned for lots over 25,000 sq.ft.\",\"formatter\":{\"id\":\"d6f1681b-48be-428b-aceb-d3753c6cc7c1\",\"type\":\"BasicTickFormatter\"},\"plot\":{\"id\":\"ee8b9b62-8f80-44ee-801a-2e1b159640ce\",\"subtype\":\"Figure\",\"type\":\"Plot\"},\"ticker\":{\"id\":\"6f82572e-c773-4058-9bd7-cf7734a07f44\",\"type\":\"BasicTicker\"}},\"id\":\"8c96bd40-19a6-49eb-b667-8d22dde69bfe\",\"type\":\"LinearAxis\"},{\"attributes\":{},\"id\":\"45a02b91-51c3-469a-b188-896bf9ccf98c\",\"type\":\"BasicTickFormatter\"},{\"attributes\":{},\"id\":\"6f82572e-c773-4058-9bd7-cf7734a07f44\",\"type\":\"BasicTicker\"},{\"attributes\":{\"children\":[{\"id\":\"5ce9153e-e742-4953-b8da-e9900021b4d4\",\"type\":\"Select\"}]},\"id\":\"fb020303-2af3-40f2-96c5-3cf3cc1c59cf\",\"type\":\"WidgetBox\"},{\"attributes\":{},\"id\":\"0c1b714c-8d5d-40e8-99e1-e578f657d77c\",\"type\":\"LinearScale\"},{\"attributes\":{\"callback\":null,\"column_names\":[\"ZN\",\"INDUS\",\"NOX\",\"AGE\",\"DIS\",\"RAD\",\"TAX\",\"B\",\"LSTAT\"],\"data\":{\"AGE\":{\"__ndarray__\":\"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\",\"dtype\":\"float64\",\"shape\":[506]},\"B\":{\"__ndarray__\":\"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\",\"dtype\":\"float64\",\"shape\":[506]},\"DIS\":{\"__ndarray__\":\"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\",\"dtype\":\"float64\",\"shape\":[506]},\"INDUS\":{\"__ndarray__\":\"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\",\"dtype\":\"float64\",\"shape\":[506]},\"LSTAT\":{\"__ndarray__\":\"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\",\"dtype\":\"float64\",\"shape\":[506]},\"NOX\":{\"__ndarray__\":\"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\",\"dtype\":\"float64\",\"shape\":[506]},\"RAD\":{\"__ndarray__\":\"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\",\"dtype\":\"float64\",\"shape\":[506]},\"TAX\":{\"__ndarray__\":\"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\",\"dtype\":\"float64\",\"shape\":[506]},\"ZN\":{\"__ndarray__\":\"AAAAAAAAMkAAAAAAAAAAAAAAAAAAAAAAAAAAAAAAAAAAAAAAAAAAAAAAAAAAAAAAAAAAAAAAKUAAAAAAAAApQAAAAAAAAClAAAAAAAAAKUAAAAAAAAApQAAAAAAAAClAAAAAAAAAKUAAAAAAAAAAAAAAAAAAAAAAAAAAAAAAAAAAAAAAAAAAAAAAAAAAAAAAAAAAAAAAAAAAAAAAAAAAAAAAAAAAAAAAAAAAAAAAAAAAAAAAAAAAAAAAAAAAAAAAAAAAAAAAAAAAAAAAAAAAAAAAAAAAAAAAAAAAAAAAAAAAAAAAAAAAAAAAAAAAAAAAAAAAAAAAAAAAAAAAAAAAAAAAAAAAAAAAAAAAAAAAAAAAAAAAAAAAAAAAAAAAAAAAAAAAAAAAAAAAAAAAAAAAAAAAAAAAAAAAAAAAAADAUkAAAAAAAMBSQAAAAAAAAAAAAAAAAAAAAAAAAAAAAAAAAAAAAAAAAAAAAAAAAAAAAAAAAAAAAAAAAAAAAAAAAAAAAAAAAAAAAAAAAAAAAAAAAAAAAAAAADVAAAAAAAAANUAAAAAAAAA1QAAAAAAAADVAAAAAAADAUkAAAAAAAIBWQAAAAAAAQFVAAAAAAAAAWUAAAAAAAAA5QAAAAAAAADlAAAAAAAAAOUAAAAAAAAA5QAAAAAAAADlAAAAAAAAAOUAAAAAAAIAxQAAAAAAAAFRAAAAAAAAAVEAAAAAAAAApQAAAAAAAAClAAAAAAAAAKUAAAAAAAAAAAAAAAAAAAAAAAAAAAAAAAAAAAAAAAAAAAAAAAAAAAAAAAAAAAAAAAAAAAAAAAAAAAAAAAAAAAAAAAAAAAAAAAAAAAAAAAAAAAAAAAAAAADlAAAAAAAAAOUAAAAAAAAA5QAAAAAAAADlAAAAAAAAAAAAAAAAAAAAAAAAAAAAAAAAAAAAAAAAAAAAAAAAAAAAAAAAAAAAAAAAAAAAAAAAAAAAAAAAAAAAAAAAAAAAAADxAAAAAAAAAPEAAAAAAAAA8QAAAAAAAAAAAAAAAAAAAAAAAAAAAAAAAAAAAAAAAAAAAAAAAAAAAAAAAAAAAAAAAAAAAAAAAAAAAAAAAAAAAAAAAAAAAAAAAAAAAAAAAAAAAAAAAAAAAAAAAAAAAAAAAAAAAAAAAAAAAAAAAAAAAAAAAAAAAAAAAAAAAAAAAAAAAAAAAAAAAAAAAAAAAAAAAAAAAAAAAAAAAAAAAAAAAAAAAAAAAAAAAAAAAAAAAAAAAAAAAAAAAAAAAAAAAAAAAAAAAAAAAAAAAAAAAAAAAAAAAAAAAAAAAAAAAAAAAAAAAAAAAAAAAAAAAAAAAAAAAAAAAAAAAAAAAAAAAAAAAAAAAAAAAAAAAAAAAAAAAAAAAAAAAAAAAAAAAAAAAAAAAAAAAAAAAAAAAAAAAAAAAAAAAAAAAAAAAAAAAAAAAAAAAAAAAAAAAAAAAAAAAAAAAAAAAAAAAAAAAAAAAAAAAAAAAAAAAAAAAAAAAAAAAAAAAAAAAAAAAAAAAAAAAAAAAAAAAAAAAAAAAAAAAAAAAAAAAAAAAAAAAAAAAAAAAAAAAAAAAAAAAAAAAAAAAAAAAAAAAAAAAAAAAAAAAAAAAAAAAAAAAAAAAAAAAAAAAAAAAAAAAAAAAAAAAAAAAAAAAAAAAAAAAAAAAAAAAAAAAAAAAAAAAAAAAAAAAAAAAAAAAAAAAAAAAAAAAAAAAAAAAAAAAAAAAAAAAAAAAAAAAAAAAAAAAAAAAAAAAAAAAAAAAAAAAAAAAAAAAAAAAAAAAAAAAAAAAAAAAAAAAAAAAAAAAAAAAAAAAAAAAAAAAAAAAAAAAAAAAAAAAAAAAAAAAAAAAAAAAAAAAAAAAAAAAAAAAAAAAAAAAAAAAAAAAAAAAAAAAAAAAAAAAAAAAAAAAAAAAAAAAAAAAAAAAAAAAAAAAAAAAAAAAAAAAAAAAAAAAAAAAAAAAAAAAAAAAAAAAAAAAAAAAAAAAAAAAAAAAAAAAAAAAAIBGQAAAAAAAgEZAAAAAAACARkAAAAAAAIBGQAAAAAAAgEZAAAAAAACARkAAAAAAAABOQAAAAAAAAE5AAAAAAAAAVEAAAAAAAABUQAAAAAAAAFRAAAAAAAAAVEAAAAAAAMBXQAAAAAAAwFdAAAAAAACgVEAAAAAAAKBUQAAAAAAAwFdAAAAAAADAV0AAAAAAAAAAAAAAAAAAAAAAAAAAAAAAAAAAAAAAAAAAAAAAAAAAAAAAAAAAAAAAAAAAAAAAAAAAAAAAAAAAAAAAAAAAAAAAAAAAAAAAAAAAAAAAAAAAAAAAAAAAAAAAAAAAAAAAAAAAAAAAAAAAAAAAAAAAAAAAAAAAAAAAAAAAAAAAAAAAAAAAAAAAAAAAAAAAAAAAAAAAAAAAAAAAAAAAAAAAAAAAAAAAAAAAAAAAAAAAAAAAAAAAAAAAAAAAAAAAAAAAAAAAAAAAAAAAAAAAAAAAAAAAAAAAAAAAAAAAAAAAAAAAAAAAAAAAAAAAAAAAAAAAAAAAAAAAAAAAAAAAAAAAAAAAAAAAAAAAAAA+QAAAAAAAAD5AAAAAAAAAPkAAAAAAAAA+QAAAAAAAAD5AAAAAAAAAPkAAAAAAAAA2QAAAAAAAADZAAAAAAAAANkAAAAAAAAA2QAAAAAAAADZAAAAAAAAANkAAAAAAAAA2QAAAAAAAADZAAAAAAAAANkAAAAAAAAA2QAAAAAAAAFRAAAAAAAAAVEAAAAAAAIBWQAAAAAAAADRAAAAAAAAANEAAAAAAAAA0QAAAAAAAADRAAAAAAAAANEAAAAAAAAA0QAAAAAAAADRAAAAAAAAANEAAAAAAAAA0QAAAAAAAADRAAAAAAAAANEAAAAAAAAA0QAAAAAAAADRAAAAAAAAANEAAAAAAAAA0QAAAAAAAADRAAAAAAAAANEAAAAAAAABEQAAAAAAAAERAAAAAAAAAREAAAAAAAABEQAAAAAAAAERAAAAAAAAANEAAAAAAAAA0QAAAAAAAADRAAAAAAAAANEAAAAAAAIBWQAAAAAAAgFZAAAAAAACAS0AAAAAAAABUQAAAAAAAQEpAAAAAAABASkAAAAAAAEBKQAAAAAAAAFRAAAAAAAAAVEAAAAAAAABUQAAAAAAAAAAAAAAAAAAAAAAAAAAAAAAAAAAAAAAAAAAAAAAAAAAAAAAAAAAAAIBRQAAAAAAAgFFAAAAAAACAUUAAAAAAAABBQAAAAAAAAEFAAAAAAAAAQUAAAAAAAIBAQAAAAAAAgEBAAAAAAACAQEAAAAAAAIBAQAAAAAAAAAAAAAAAAAAAAAAAAAAAAAAAAAAAAAAAAAAAAAAAAAAAAAAAAAAAAAAAAAAAAAAAAAAAAAAAAAAAAAAAAAAAAAAAAAAAAAAAAAAAAAAAAAAAAAAAAAAAAAAAAAAAAAAAAAAAAAAAAAAAAAAAAAAAAAAAAAAAAAAAAAAAAAAAAAAAAAAAAAAAAAAAAAAAAAAAAAAAAAAAAAAAAAAAAAAAAAAAAAAAAAAAAAAAAAAAAAAAAAAAAAAAAIBBQAAAAAAAgEFAAAAAAAAAAAAAAAAAAAAAAAAAAAAAAAAAAAAAAAAAAAAAAAAAAAAAAAAAAAAAAAAAAAAAAAAAAAAAAAAAAAAAAAAAAAAAgEFAAAAAAAAAAAAAAAAAAIBLQAAAAAAAgEtAAAAAAAAAAAAAAAAAAAAAAAAAAAAAQFVAAAAAAAAAVEAAAAAAAABEQAAAAAAAAERAAAAAAAAATkAAAAAAAABOQAAAAAAAgFZAAAAAAAAAVEAAAAAAAABUQAAAAAAAAAAAAAAAAAAAAAAAAAAAAAAAAAAAAAAAAAAAAAAAAAAAAAAAAAAAAAAAAAAAAAAAAAAAAAAAAAAAAAAAAAAAAAAAAAAAAAAAAAAAAAAAAAAAAAAAAAAAAAAAAAAAAAAAAAAAAAAAAAAAAAAAAAAAAAAAAAAAAAAAAAAAAAAAAAAAAAAAAAAAAAAAAAAAAAAAAAAAAAAAAAAAAAAAAAAAAAAAAAAAAAAAAAAAAAAAAAAAAAAAAAAAAAAAAAAAAAAAAAAAAAAAAAAAAAAAAAAAAAAAAAAAAAAAAAAAAAAAAAAAAAAAAAAAAAAAAAAAAAAAAAAAAAAAAAAAAAAAAAAAAAAAAAAAAAAAAAAAAAAAAAAAAAAAAAAAAAAAAAAAAAAAAAAAAAAAAAAAAAAAAAAAAAAAAAAAAAAAAAAAAAAAAAAAAAAAAAAAAAAAAAAAAAAAAAAAAAAAAAAAAAAAAAAAAAAAAAAAAAAAAAAAAAAAAAAAAAAAAAAAAAAAAAAAAAAAAAAAAAAAAAAAAAAAAAAAAAAAAAAAAAAAAAAAAAAAAAAAAAAAAAAAAAAAAAAAAAAAAAAAAAAAAAAAAAAAAAAAAAAAAAAAAAAAAAAAAAAAAAAAAAAAAAAAAAAAAAAAAAAAAAAAAAAAAAAAAAAAAAAAAAAAAAAAAAAAAAAAAAAAAAAAAAAAAAAAAAAAAAAAAAAAAAAAAAAAAAAAAAAAAAAAAAAAAAAAAAAAAAAAAAAAAAAAAAAAAAAAAAAAAAAAAAAAAAAAAAAAAAAAAAAAAAAAAAAAAAAAAAAAAAAAAAAAAAAAAAAAAAAAAAAAAAAAAAAAAAAAAAAAAAAAAAAAAAAAAAAAAAAAAAAAAAAAAAAAAAAAAAAAAAAAAAAAAAAAAAAAAAAAAAAAAAAAAAAAAAAAAAAAAAAAAAAAAAAAAAAAAAAAAAAAAAAAAAAAAAAAAAAAAAAAAAAAAAAAAAAAAAAAAAAAAAAAAAAAAAAAAAAAAAAAAAAAAAAAAAAAAAAAAAAAAAAAAAAAAAAAAAAAAAAAAAAAAAAAAAAAAAAAAAAAAAAAAAAAAAAAAAAAAAAAAAAAAAAAAAAAAAAAAAAAAAAAAAAAAAAAAAAAAAAAAAAAAAAAAAAAAAAAAAAAAAAAAAAAAAAAAAAAAAAAAAAAAAAAAAAAAAAAAAAAAAAAAAAAAAAAAAAAAAAAAAAAAAAAAAAAAAAAAAAAAAAAAAAAAAAAAAAAAAAAAAAAAAAAAAAAAAAAAAAAAAAAAAAAAAAAAAAAAAAAAAAAAAAAAAAAAAAAAAAAAAAAAAAAAAAAAAAAAAAAAAAAAAAAAAAAAAAAAAAAAAAAAAAAAAAAAAAAAAAAAAAAAAAAAAAAAAAAAAAAAAAAAAAAAAAAAAAAAAAAAAAAAAAAAAAAAAAAAAAAAAAAAAAAAAAAAAAAAAAAAAAAAAAAAAAAAAAAAAAAAAAAAAAAAAAAAAAAAAAAAAAAAAAAAAAAAAAAAAAAAAAAAAAAAAAAAAAAAAAAAAAAAAAAAAAAAAAAAAAAAAAAAAAAAAAAAAAAAAAAAAAAAAAAAAAAAAAAAAAAAAAAAAAAAA==\",\"dtype\":\"float64\",\"shape\":[506]}}},\"id\":\"3f21912d-ca04-4118-8120-f037e0e2258e\",\"type\":\"ColumnDataSource\"},{\"attributes\":{\"axis_label\":\"Hoursing Price\",\"formatter\":{\"id\":\"45a02b91-51c3-469a-b188-896bf9ccf98c\",\"type\":\"BasicTickFormatter\"},\"plot\":{\"id\":\"ee8b9b62-8f80-44ee-801a-2e1b159640ce\",\"subtype\":\"Figure\",\"type\":\"Plot\"},\"ticker\":{\"id\":\"6efd2a65-29bc-4121-a128-3ea61410a7b6\",\"type\":\"BasicTicker\"}},\"id\":\"11be29fc-1043-437f-b647-a9da7ad5c516\",\"type\":\"LinearAxis\"},{\"attributes\":{\"plot\":null,\"text\":\"Relationship between ZN and PRICE\"},\"id\":\"e700ce0b-309f-4f14-946a-6eb82b93a4f4\",\"type\":\"Title\"},{\"attributes\":{\"callback\":null,\"column_names\":[\"x\",\"y\"],\"data\":{\"x\":{\"__ndarray__\":\"AAAAAAAAMkAAAAAAAAAAAAAAAAAAAAAAAAAAAAAAAAAAAAAAAAAAAAAAAAAAAAAAAAAAAAAAKUAAAAAAAAApQAAAAAAAAClAAAAAAAAAKUAAAAAAAAApQAAAAAAAAClAAAAAAAAAKUAAAAAAAAAAAAAAAAAAAAAAAAAAAAAAAAAAAAAAAAAAAAAAAAAAAAAAAAAAAAAAAAAAAAAAAAAAAAAAAAAAAAAAAAAAAAAAAAAAAAAAAAAAAAAAAAAAAAAAAAAAAAAAAAAAAAAAAAAAAAAAAAAAAAAAAAAAAAAAAAAAAAAAAAAAAAAAAAAAAAAAAAAAAAAAAAAAAAAAAAAAAAAAAAAAAAAAAAAAAAAAAAAAAAAAAAAAAAAAAAAAAAAAAAAAAAAAAAAAAAAAAAAAAAAAAAAAAAAAAAAAAADAUkAAAAAAAMBSQAAAAAAAAAAAAAAAAAAAAAAAAAAAAAAAAAAAAAAAAAAAAAAAAAAAAAAAAAAAAAAAAAAAAAAAAAAAAAAAAAAAAAAAAAAAAAAAAAAAAAAAADVAAAAAAAAANUAAAAAAAAA1QAAAAAAAADVAAAAAAADAUkAAAAAAAIBWQAAAAAAAQFVAAAAAAAAAWUAAAAAAAAA5QAAAAAAAADlAAAAAAAAAOUAAAAAAAAA5QAAAAAAAADlAAAAAAAAAOUAAAAAAAIAxQAAAAAAAAFRAAAAAAAAAVEAAAAAAAAApQAAAAAAAAClAAAAAAAAAKUAAAAAAAAAAAAAAAAAAAAAAAAAAAAAAAAAAAAAAAAAAAAAAAAAAAAAAAAAAAAAAAAAAAAAAAAAAAAAAAAAAAAAAAAAAAAAAAAAAAAAAAAAAAAAAAAAAADlAAAAAAAAAOUAAAAAAAAA5QAAAAAAAADlAAAAAAAAAAAAAAAAAAAAAAAAAAAAAAAAAAAAAAAAAAAAAAAAAAAAAAAAAAAAAAAAAAAAAAAAAAAAAAAAAAAAAAAAAAAAAADxAAAAAAAAAPEAAAAAAAAA8QAAAAAAAAAAAAAAAAAAAAAAAAAAAAAAAAAAAAAAAAAAAAAAAAAAAAAAAAAAAAAAAAAAAAAAAAAAAAAAAAAAAAAAAAAAAAAAAAAAAAAAAAAAAAAAAAAAAAAAAAAAAAAAAAAAAAAAAAAAAAAAAAAAAAAAAAAAAAAAAAAAAAAAAAAAAAAAAAAAAAAAAAAAAAAAAAAAAAAAAAAAAAAAAAAAAAAAAAAAAAAAAAAAAAAAAAAAAAAAAAAAAAAAAAAAAAAAAAAAAAAAAAAAAAAAAAAAAAAAAAAAAAAAAAAAAAAAAAAAAAAAAAAAAAAAAAAAAAAAAAAAAAAAAAAAAAAAAAAAAAAAAAAAAAAAAAAAAAAAAAAAAAAAAAAAAAAAAAAAAAAAAAAAAAAAAAAAAAAAAAAAAAAAAAAAAAAAAAAAAAAAAAAAAAAAAAAAAAAAAAAAAAAAAAAAAAAAAAAAAAAAAAAAAAAAAAAAAAAAAAAAAAAAAAAAAAAAAAAAAAAAAAAAAAAAAAAAAAAAAAAAAAAAAAAAAAAAAAAAAAAAAAAAAAAAAAAAAAAAAAAAAAAAAAAAAAAAAAAAAAAAAAAAAAAAAAAAAAAAAAAAAAAAAAAAAAAAAAAAAAAAAAAAAAAAAAAAAAAAAAAAAAAAAAAAAAAAAAAAAAAAAAAAAAAAAAAAAAAAAAAAAAAAAAAAAAAAAAAAAAAAAAAAAAAAAAAAAAAAAAAAAAAAAAAAAAAAAAAAAAAAAAAAAAAAAAAAAAAAAAAAAAAAAAAAAAAAAAAAAAAAAAAAAAAAAAAAAAAAAAAAAAAAAAAAAAAAAAAAAAAAAAAAAAAAAAAAAAAAAAAAAAAAAAAAAAAAAAAAAAAAAAAAAAAAAAAAAAAAAAAAAAAAAAAAAAAAAAAAAAAAAAAAAAAAAAAAAAAAAAAAAAAAAAAAAAAAAAAAAAAAAAAAAAAAAAAAAAAAAAAAAAAAAAAAAAAAAAAAAAAAAAAAAAIBGQAAAAAAAgEZAAAAAAACARkAAAAAAAIBGQAAAAAAAgEZAAAAAAACARkAAAAAAAABOQAAAAAAAAE5AAAAAAAAAVEAAAAAAAABUQAAAAAAAAFRAAAAAAAAAVEAAAAAAAMBXQAAAAAAAwFdAAAAAAACgVEAAAAAAAKBUQAAAAAAAwFdAAAAAAADAV0AAAAAAAAAAAAAAAAAAAAAAAAAAAAAAAAAAAAAAAAAAAAAAAAAAAAAAAAAAAAAAAAAAAAAAAAAAAAAAAAAAAAAAAAAAAAAAAAAAAAAAAAAAAAAAAAAAAAAAAAAAAAAAAAAAAAAAAAAAAAAAAAAAAAAAAAAAAAAAAAAAAAAAAAAAAAAAAAAAAAAAAAAAAAAAAAAAAAAAAAAAAAAAAAAAAAAAAAAAAAAAAAAAAAAAAAAAAAAAAAAAAAAAAAAAAAAAAAAAAAAAAAAAAAAAAAAAAAAAAAAAAAAAAAAAAAAAAAAAAAAAAAAAAAAAAAAAAAAAAAAAAAAAAAAAAAAAAAAAAAAAAAAAAAAAAAAAAAAAAAA+QAAAAAAAAD5AAAAAAAAAPkAAAAAAAAA+QAAAAAAAAD5AAAAAAAAAPkAAAAAAAAA2QAAAAAAAADZAAAAAAAAANkAAAAAAAAA2QAAAAAAAADZAAAAAAAAANkAAAAAAAAA2QAAAAAAAADZAAAAAAAAANkAAAAAAAAA2QAAAAAAAAFRAAAAAAAAAVEAAAAAAAIBWQAAAAAAAADRAAAAAAAAANEAAAAAAAAA0QAAAAAAAADRAAAAAAAAANEAAAAAAAAA0QAAAAAAAADRAAAAAAAAANEAAAAAAAAA0QAAAAAAAADRAAAAAAAAANEAAAAAAAAA0QAAAAAAAADRAAAAAAAAANEAAAAAAAAA0QAAAAAAAADRAAAAAAAAANEAAAAAAAABEQAAAAAAAAERAAAAAAAAAREAAAAAAAABEQAAAAAAAAERAAAAAAAAANEAAAAAAAAA0QAAAAAAAADRAAAAAAAAANEAAAAAAAIBWQAAAAAAAgFZAAAAAAACAS0AAAAAAAABUQAAAAAAAQEpAAAAAAABASkAAAAAAAEBKQAAAAAAAAFRAAAAAAAAAVEAAAAAAAABUQAAAAAAAAAAAAAAAAAAAAAAAAAAAAAAAAAAAAAAAAAAAAAAAAAAAAAAAAAAAAIBRQAAAAAAAgFFAAAAAAACAUUAAAAAAAABBQAAAAAAAAEFAAAAAAAAAQUAAAAAAAIBAQAAAAAAAgEBAAAAAAACAQEAAAAAAAIBAQAAAAAAAAAAAAAAAAAAAAAAAAAAAAAAAAAAAAAAAAAAAAAAAAAAAAAAAAAAAAAAAAAAAAAAAAAAAAAAAAAAAAAAAAAAAAAAAAAAAAAAAAAAAAAAAAAAAAAAAAAAAAAAAAAAAAAAAAAAAAAAAAAAAAAAAAAAAAAAAAAAAAAAAAAAAAAAAAAAAAAAAAAAAAAAAAAAAAAAAAAAAAAAAAAAAAAAAAAAAAAAAAAAAAAAAAAAAAAAAAAAAAAAAAAAAAIBBQAAAAAAAgEFAAAAAAAAAAAAAAAAAAAAAAAAAAAAAAAAAAAAAAAAAAAAAAAAAAAAAAAAAAAAAAAAAAAAAAAAAAAAAAAAAAAAAAAAAAAAAgEFAAAAAAAAAAAAAAAAAAIBLQAAAAAAAgEtAAAAAAAAAAAAAAAAAAAAAAAAAAAAAQFVAAAAAAAAAVEAAAAAAAABEQAAAAAAAAERAAAAAAAAATkAAAAAAAABOQAAAAAAAgFZAAAAAAAAAVEAAAAAAAABUQAAAAAAAAAAAAAAAAAAAAAAAAAAAAAAAAAAAAAAAAAAAAAAAAAAAAAAAAAAAAAAAAAAAAAAAAAAAAAAAAAAAAAAAAAAAAAAAAAAAAAAAAAAAAAAAAAAAAAAAAAAAAAAAAAAAAAAAAAAAAAAAAAAAAAAAAAAAAAAAAAAAAAAAAAAAAAAAAAAAAAAAAAAAAAAAAAAAAAAAAAAAAAAAAAAAAAAAAAAAAAAAAAAAAAAAAAAAAAAAAAAAAAAAAAAAAAAAAAAAAAAAAAAAAAAAAAAAAAAAAAAAAAAAAAAAAAAAAAAAAAAAAAAAAAAAAAAAAAAAAAAAAAAAAAAAAAAAAAAAAAAAAAAAAAAAAAAAAAAAAAAAAAAAAAAAAAAAAAAAAAAAAAAAAAAAAAAAAAAAAAAAAAAAAAAAAAAAAAAAAAAAAAAAAAAAAAAAAAAAAAAAAAAAAAAAAAAAAAAAAAAAAAAAAAAAAAAAAAAAAAAAAAAAAAAAAAAAAAAAAAAAAAAAAAAAAAAAAAAAAAAAAAAAAAAAAAAAAAAAAAAAAAAAAAAAAAAAAAAAAAAAAAAAAAAAAAAAAAAAAAAAAAAAAAAAAAAAAAAAAAAAAAAAAAAAAAAAAAAAAAAAAAAAAAAAAAAAAAAAAAAAAAAAAAAAAAAAAAAAAAAAAAAAAAAAAAAAAAAAAAAAAAAAAAAAAAAAAAAAAAAAAAAAAAAAAAAAAAAAAAAAAAAAAAAAAAAAAAAAAAAAAAAAAAAAAAAAAAAAAAAAAAAAAAAAAAAAAAAAAAAAAAAAAAAAAAAAAAAAAAAAAAAAAAAAAAAAAAAAAAAAAAAAAAAAAAAAAAAAAAAAAAAAAAAAAAAAAAAAAAAAAAAAAAAAAAAAAAAAAAAAAAAAAAAAAAAAAAAAAAAAAAAAAAAAAAAAAAAAAAAAAAAAAAAAAAAAAAAAAAAAAAAAAAAAAAAAAAAAAAAAAAAAAAAAAAAAAAAAAAAAAAAAAAAAAAAAAAAAAAAAAAAAAAAAAAAAAAAAAAAAAAAAAAAAAAAAAAAAAAAAAAAAAAAAAAAAAAAAAAAAAAAAAAAAAAAAAAAAAAAAAAAAAAAAAAAAAAAAAAAAAAAAAAAAAAAAAAAAAAAAAAAAAAAAAAAAAAAAAAAAAAAAAAAAAAAAAAAAAAAAAAAAAAAAAAAAAAAAAAAAAAAAAAAAAAAAAAAAAAAAAAAAAAAAAAAAAAAAAAAAAAAAAAAAAAAAAAAAAAAAAAAAAAAAAAAAAAAAAAAAAAAAAAAAAAAAAAAAAAAAAAAAAAAAAAAAAAAAAAAAAAAAAAAAAAAAAAAAAAAAAAAAAAAAAAAAAAAAAAAAAAAAAAAAAAAAAAAAAAAAAAAAAAAAAAAAAAAAAAAAAAAAAAAAAAAAAAAAAAAAAAAAAAAAAAAAAAAAAAAAAAAAAAAAAAAAAAAAAAAAAAAAAAAAAAAAAAAAAAAAAAAAAAAAAAAAAAAAAAAAAAAAAAAAAAAAAAAAAAAAAAAAAAAAAAAAAAAAAAAAAAAAAAAAAAAAAAAAAAAAAAAAAAAAAAAAAAAAAAAAAAAAAAAAAAAAAAAAAAAAAAAAAAAAAAAAAAAAAA==\",\"dtype\":\"float64\",\"shape\":[506]},\"y\":{\"__ndarray__\":\"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\",\"dtype\":\"float64\",\"shape\":[506]}}},\"id\":\"5bc9bbc8-802a-44f4-be37-14f6e1783d19\",\"type\":\"ColumnDataSource\"},{\"attributes\":{},\"id\":\"92fc7ebd-d135-494a-9bbf-3ca16d92595c\",\"type\":\"SaveTool\"},{\"attributes\":{\"fill_alpha\":{\"value\":0.1},\"fill_color\":{\"value\":\"#1f77b4\"},\"line_alpha\":{\"value\":0.1},\"line_color\":{\"value\":\"#1f77b4\"},\"x\":{\"field\":\"x\"},\"y\":{\"field\":\"y\"}},\"id\":\"5607b63b-3984-497f-a0db-5df6ea3eead9\",\"type\":\"Circle\"},{\"attributes\":{},\"id\":\"12ad2a79-d003-4471-b5c5-ab2be19f6916\",\"type\":\"ResetTool\"},{\"attributes\":{},\"id\":\"6696edc1-7dbc-44db-a5be-9fb0fd07ec42\",\"type\":\"HelpTool\"},{\"attributes\":{\"children\":[{\"id\":\"fb020303-2af3-40f2-96c5-3cf3cc1c59cf\",\"type\":\"WidgetBox\"},{\"id\":\"ee8b9b62-8f80-44ee-801a-2e1b159640ce\",\"subtype\":\"Figure\",\"type\":\"Plot\"}]},\"id\":\"d8aa209a-59dd-4e12-844a-7a4e2288c674\",\"type\":\"Column\"},{\"attributes\":{\"dimension\":1,\"plot\":{\"id\":\"ee8b9b62-8f80-44ee-801a-2e1b159640ce\",\"subtype\":\"Figure\",\"type\":\"Plot\"},\"ticker\":{\"id\":\"6efd2a65-29bc-4121-a128-3ea61410a7b6\",\"type\":\"BasicTicker\"}},\"id\":\"e825df35-e8e2-4bc2-a5d9-3f79d6981e7e\",\"type\":\"Grid\"},{\"attributes\":{\"active_drag\":\"auto\",\"active_inspect\":\"auto\",\"active_scroll\":\"auto\",\"active_tap\":\"auto\",\"tools\":[{\"id\":\"3da66eb8-3a19-4073-b57f-aeb8e225936e\",\"type\":\"PanTool\"},{\"id\":\"014a7fa6-7063-4402-92b3-3245b6144128\",\"type\":\"WheelZoomTool\"},{\"id\":\"dc5f0637-b8dd-4730-a989-bad0fe2c433e\",\"type\":\"BoxZoomTool\"},{\"id\":\"92fc7ebd-d135-494a-9bbf-3ca16d92595c\",\"type\":\"SaveTool\"},{\"id\":\"12ad2a79-d003-4471-b5c5-ab2be19f6916\",\"type\":\"ResetTool\"},{\"id\":\"6696edc1-7dbc-44db-a5be-9fb0fd07ec42\",\"type\":\"HelpTool\"}]},\"id\":\"ef2a24c4-e832-4137-a7a7-47df2bcabaf3\",\"type\":\"Toolbar\"},{\"attributes\":{\"below\":[{\"id\":\"8c96bd40-19a6-49eb-b667-8d22dde69bfe\",\"type\":\"LinearAxis\"}],\"left\":[{\"id\":\"11be29fc-1043-437f-b647-a9da7ad5c516\",\"type\":\"LinearAxis\"}],\"renderers\":[{\"id\":\"8c96bd40-19a6-49eb-b667-8d22dde69bfe\",\"type\":\"LinearAxis\"},{\"id\":\"97d546ec-a7e8-4973-a9bf-56f2af1702e6\",\"type\":\"Grid\"},{\"id\":\"11be29fc-1043-437f-b647-a9da7ad5c516\",\"type\":\"LinearAxis\"},{\"id\":\"e825df35-e8e2-4bc2-a5d9-3f79d6981e7e\",\"type\":\"Grid\"},{\"id\":\"db3240b0-b325-469e-9b22-2fc9630ef6be\",\"type\":\"BoxAnnotation\"},{\"id\":\"6124179e-a900-44c0-8db8-0a75abac1a1e\",\"type\":\"GlyphRenderer\"}],\"title\":{\"id\":\"e700ce0b-309f-4f14-946a-6eb82b93a4f4\",\"type\":\"Title\"},\"toolbar\":{\"id\":\"ef2a24c4-e832-4137-a7a7-47df2bcabaf3\",\"type\":\"Toolbar\"},\"x_range\":{\"id\":\"bfe6903f-af6f-4e1e-b6bd-dfc7565aad5b\",\"type\":\"DataRange1d\"},\"x_scale\":{\"id\":\"0c1b714c-8d5d-40e8-99e1-e578f657d77c\",\"type\":\"LinearScale\"},\"y_range\":{\"id\":\"73b14373-71d9-465a-8e86-00ba184c4d83\",\"type\":\"DataRange1d\"},\"y_scale\":{\"id\":\"a8fd6404-dbd7-496d-be95-4825db97c073\",\"type\":\"LinearScale\"}},\"id\":\"ee8b9b62-8f80-44ee-801a-2e1b159640ce\",\"subtype\":\"Figure\",\"type\":\"Plot\"},{\"attributes\":{\"bottom_units\":\"screen\",\"fill_alpha\":{\"value\":0.5},\"fill_color\":{\"value\":\"lightgrey\"},\"left_units\":\"screen\",\"level\":\"overlay\",\"line_alpha\":{\"value\":1.0},\"line_color\":{\"value\":\"black\"},\"line_dash\":[4,4],\"line_width\":{\"value\":2},\"plot\":null,\"render_mode\":\"css\",\"right_units\":\"screen\",\"top_units\":\"screen\"},\"id\":\"db3240b0-b325-469e-9b22-2fc9630ef6be\",\"type\":\"BoxAnnotation\"}],\"root_ids\":[\"d8aa209a-59dd-4e12-844a-7a4e2288c674\"]},\"title\":\"Bokeh Application\",\"version\":\"0.12.13\"}};\n",
       "  var render_items = [{\"docid\":\"9e48093a-92d4-4bcd-9fbd-e5e469258a01\",\"elementid\":\"abc74fc0-e1a5-49a5-853f-5e0dd7c4d4be\",\"modelid\":\"d8aa209a-59dd-4e12-844a-7a4e2288c674\"}];\n",
       "  root.Bokeh.embed.embed_items_notebook(docs_json, render_items);\n",
       "\n",
       "  }\n",
       "  if (root.Bokeh !== undefined) {\n",
       "    embed_document(root);\n",
       "  } else {\n",
       "    var attempts = 0;\n",
       "    var timer = setInterval(function(root) {\n",
       "      if (root.Bokeh !== undefined) {\n",
       "        embed_document(root);\n",
       "        clearInterval(timer);\n",
       "      }\n",
       "      attempts++;\n",
       "      if (attempts > 100) {\n",
       "        console.log(\"Bokeh: ERROR: Unable to run BokehJS code because BokehJS library is missing\")\n",
       "        clearInterval(timer);\n",
       "      }\n",
       "    }, 10, root)\n",
       "  }\n",
       "})(window);"
      ],
      "application/vnd.bokehjs_exec.v0+json": ""
     },
     "metadata": {
      "application/vnd.bokehjs_exec.v0+json": {
       "id": "d8aa209a-59dd-4e12-844a-7a4e2288c674"
      }
     },
     "output_type": "display_data"
    }
   ],
   "source": [
    "# add a plot \n",
    "plot = figure( y_axis_label = 'Hoursing Price' , x_axis_label = labels[x_select.value], title=\"Relationship between ZN and PRICE\" )\n",
    "plot.circle('x', 'y', source=source, alpha=0.6)\n",
    "\n",
    "# add a drop-drown widget \n",
    "x_select = Select(\n",
    "    options=options,\n",
    "    value='ZN',\n",
    "    title='Relationship Between Price and ',\n",
    ")\n",
    "\n",
    "# define the callback function\n",
    "update_curve = CustomJS(args=dict(source=source, select=x_select, df_source=df_source, title = plot.title, axis = plot.xaxis[0]), code=\"\"\"\n",
    "    var data = source.data;\n",
    "    var f = select.value;\n",
    "    var dat = df_source.data\n",
    "    x = data['x']\n",
    "    y = data['y']\n",
    "    z = dat[f]\n",
    "    for (i = 0; i < x.length; i++) {\n",
    "        x[i] = z[i]\n",
    "    }\n",
    "    title.text = \"Relationship between \" +f +\" and PRICE\"\n",
    "    axis.axis_label = f\n",
    "    // necessary becasue we mutated source.data in-place\n",
    "    source.change.emit();\n",
    "\"\"\")\n",
    "\n",
    "# initiate the callback \n",
    "x_select.js_on_change('value', update_curve)\n",
    "\n",
    "output_notebook(hide_banner=True)\n",
    "show(column(widgetbox(x_select), plot))"
   ]
  },
  {
   "cell_type": "markdown",
   "metadata": {},
   "source": [
    "### Scatterplots using Seaborn\n",
    "***\n",
    "\n",
    "[Seaborn](https://stanford.edu/~mwaskom/software/seaborn/) is a cool Python plotting library built on top of matplotlib. It provides convenient syntax and shortcuts for many common types of plots, along with better-looking defaults.\n",
    "\n",
    "We can also use [seaborn regplot](https://stanford.edu/~mwaskom/software/seaborn/tutorial/regression.html#functions-to-draw-linear-regression-models) for the scatterplot above. This provides automatic linear regression fits (useful for data exploration later on). Here's one example below."
   ]
  },
  {
   "cell_type": "code",
   "execution_count": 22,
   "metadata": {},
   "outputs": [
    {
     "data": {
      "image/png": "[encoded data removed]",
      "text/plain": [
       "<matplotlib.figure.Figure at 0x194c4b8a2b0>"
      ]
     },
     "metadata": {
      "needs_background": "light"
     },
     "output_type": "display_data"
    }
   ],
   "source": [
    "plt.figure(figsize=(10, 8))\n",
    "sns.regplot(y=\"PRICE\", x=\"RM\", data=bos, fit_reg = True)\n",
    "plt.show()"
   ]
  },
  {
   "cell_type": "markdown",
   "metadata": {},
   "source": [
    "### Histograms\n",
    "***\n"
   ]
  },
  {
   "cell_type": "code",
   "execution_count": 81,
   "metadata": {},
   "outputs": [
    {
     "data": {
      "image/png": "[encoded data removed]",
      "text/plain": [
       "<matplotlib.figure.Figure at 0x194c944e518>"
      ]
     },
     "metadata": {
      "needs_background": "light"
     },
     "output_type": "display_data"
    }
   ],
   "source": [
    "plt.figure(figsize=(10, 8))\n",
    "plt.hist(np.log(bos.CRIM))\n",
    "plt.title(\"CRIM\")\n",
    "plt.xlabel(\"Crime rate per capita\")\n",
    "plt.ylabel(\"Frequencey\")\n",
    "plt.show()"
   ]
  },
  {
   "cell_type": "markdown",
   "metadata": {},
   "source": [
    "<div class=\"span5 alert alert-info\">\n",
    "<h3>Part 2 Checkup Exercise Set II</h3>\n",
    "\n",
    "<p><b>Exercise:</b> In the above histogram, we took the logarithm of the crime rate per capita. Repeat this histogram without taking the log. What was the purpose of taking the log? What do we gain by making this transformation? What do you now notice about this variable that is not obvious without making the transformation?\n",
    "\n",
    "<p><b>Exercise:</b> Plot the histogram for *RM* and *PTRATIO* against each other, along with the two variables you picked in the previous section. We are looking for correlations in predictors here.</p>\n",
    "</div>"
   ]
  },
  {
   "cell_type": "code",
   "execution_count": 82,
   "metadata": {},
   "outputs": [
    {
     "data": {
      "image/png": "[encoded data removed]",
      "text/plain": [
       "<matplotlib.figure.Figure at 0x194c95bf550>"
      ]
     },
     "metadata": {
      "needs_background": "light"
     },
     "output_type": "display_data"
    }
   ],
   "source": [
    "#your turn\n",
    "plt.figure(figsize=(10, 8))\n",
    "plt.hist(np.log(bos.RM))\n",
    "plt.title(\"RM\")\n",
    "plt.xlabel('Average number of rooms per dwelling')\n",
    "plt.ylabel(\"Frequencey\")\n",
    "plt.show()"
   ]
  },
  {
   "cell_type": "code",
   "execution_count": 83,
   "metadata": {},
   "outputs": [
    {
     "data": {
      "image/png": "[encoded data removed]",
      "text/plain": [
       "<matplotlib.figure.Figure at 0x194c964f4a8>"
      ]
     },
     "metadata": {
      "needs_background": "light"
     },
     "output_type": "display_data"
    }
   ],
   "source": [
    "plt.figure(figsize=(10, 8))\n",
    "plt.hist(np.log(bos.PTRATIO))\n",
    "plt.title(\"PTRATIO\")\n",
    "plt.xlabel(\"Pupil-teacher ratio by town\")\n",
    "plt.ylabel(\"Frequencey\")\n",
    "plt.show()"
   ]
  },
  {
   "cell_type": "markdown",
   "metadata": {},
   "source": [
    "## Part 3: Linear Regression with Boston Housing Data Example\n",
    "***\n",
    "\n",
    "Here, \n",
    "\n",
    "$Y$ = boston housing prices (called \"target\" data in python, and referred to as the dependent variable or response variable)\n",
    "\n",
    "and\n",
    "\n",
    "$X$ = all the other features (or independent variables, predictors or explanatory variables)\n",
    "\n",
    "which we will use to fit a linear regression model and predict Boston housing prices. We will use the least-squares method to estimate the coefficients.  "
   ]
  },
  {
   "cell_type": "markdown",
   "metadata": {},
   "source": [
    "We'll use two ways of fitting a linear regression. We recommend the first but the second is also powerful in its features."
   ]
  },
  {
   "cell_type": "markdown",
   "metadata": {},
   "source": [
    "### Fitting Linear Regression using `statsmodels`\n",
    "***\n",
    "[Statsmodels](http://statsmodels.sourceforge.net/) is a great Python library for a lot of basic and inferential statistics. It also provides basic regression functions using an R-like syntax, so it's commonly used by statisticians. While we don't cover statsmodels officially in the Data Science Intensive workshop, it's a good library to have in your toolbox. Here's a quick example of what you could do with it. The version of least-squares we will use in statsmodels is called *ordinary least-squares (OLS)*. There are many other versions of least-squares such as [partial least squares (PLS)](https://en.wikipedia.org/wiki/Partial_least_squares_regression) and [weighted least squares (WLS)](https://en.wikipedia.org/wiki/Iteratively_reweighted_least_squares)."
   ]
  },
  {
   "cell_type": "code",
   "execution_count": 25,
   "metadata": {},
   "outputs": [
    {
     "name": "stderr",
     "output_type": "stream",
     "text": [
      "C:\\Users\\Plabon\\Anaconda3\\lib\\site-packages\\statsmodels\\compat\\pandas.py:56: FutureWarning: The pandas.core.datetools module is deprecated and will be removed in a future version. Please use the pandas.tseries module instead.\n",
      "  from pandas.core import datetools\n"
     ]
    }
   ],
   "source": [
    "# Import regression modules\n",
    "import statsmodels.api as sm\n",
    "from statsmodels.formula.api import ols"
   ]
  },
  {
   "cell_type": "code",
   "execution_count": 26,
   "metadata": {},
   "outputs": [
    {
     "name": "stdout",
     "output_type": "stream",
     "text": [
      "                            OLS Regression Results                            \n",
      "==============================================================================\n",
      "Dep. Variable:                  PRICE   R-squared:                       0.484\n",
      "Model:                            OLS   Adj. R-squared:                  0.483\n",
      "Method:                 Least Squares   F-statistic:                     471.8\n",
      "Date:                Mon, 31 Dec 2018   Prob (F-statistic):           2.49e-74\n",
      "Time:                        21:25:43   Log-Likelihood:                -1673.1\n",
      "No. Observations:                 506   AIC:                             3350.\n",
      "Df Residuals:                     504   BIC:                             3359.\n",
      "Df Model:                           1                                         \n",
      "Covariance Type:            nonrobust                                         \n",
      "==============================================================================\n",
      "                 coef    std err          t      P>|t|      [0.025      0.975]\n",
      "------------------------------------------------------------------------------\n",
      "Intercept    -34.6706      2.650    -13.084      0.000     -39.877     -29.465\n",
      "RM             9.1021      0.419     21.722      0.000       8.279       9.925\n",
      "==============================================================================\n",
      "Omnibus:                      102.585   Durbin-Watson:                   0.684\n",
      "Prob(Omnibus):                  0.000   Jarque-Bera (JB):              612.449\n",
      "Skew:                           0.726   Prob(JB):                    1.02e-133\n",
      "Kurtosis:                       8.190   Cond. No.                         58.4\n",
      "==============================================================================\n",
      "\n",
      "Warnings:\n",
      "[1] Standard Errors assume that the covariance matrix of the errors is correctly specified.\n"
     ]
    }
   ],
   "source": [
    "# statsmodels works nicely with pandas dataframes\n",
    "# The thing inside the \"quotes\" is called a formula, a bit on that below\n",
    "m = ols('PRICE ~ RM',bos).fit()\n",
    "print(m.summary())"
   ]
  },
  {
   "cell_type": "markdown",
   "metadata": {},
   "source": [
    "#### Interpreting coefficients\n",
    "\n",
    "There is a ton of information in this output. But we'll concentrate on the coefficient table (middle table). We can interpret the `RM` coefficient (9.1021) by first noticing that the p-value (under `P>|t|`) is so small, basically zero. This means that the number of rooms, `RM`, is a statisticall significant predictor of `PRICE`. The regression coefficient for `RM` of 9.1021 means that *on average, each additional room is associated with an increase of $\\$9,100$ in house price net of the other variables*. The confidence interval gives us a range of plausible values for this average change, about ($\\$8,279, \\$9,925$), definitely not chump change. \n",
    "\n",
    "In general, the $\\hat{\\beta_i}, i > 0$ can be interpreted as the following: \"A one unit increase in $x_i$ is associated with, on average, a $\\hat{\\beta_i}$ increase/decrease in $y$ net of all other variables.\"\n",
    "\n",
    "On the other hand, the interpretation for the intercept, $\\hat{\\beta}_0$ is the average of $y$ given that all of the independent variables $x_i$ are 0."
   ]
  },
  {
   "cell_type": "markdown",
   "metadata": {},
   "source": [
    "####  `statsmodels` formulas\n",
    "***\n",
    "This formula notation will seem familiar to `R` users, but will take some getting used to for people coming from other languages or are new to statistics.\n",
    "\n",
    "The formula gives instruction for a general structure for a regression call. For `statsmodels` (`ols` or `logit`) calls you need to have a Pandas dataframe with column names that you will add to your formula. In the below example you need a pandas data frame that includes the columns named (`Outcome`, `X1`,`X2`, ...), but you don't need to build a new dataframe for every regression. Use the same dataframe with all these things in it. The structure is very simple:\n",
    "\n",
    "`Outcome ~ X1`\n",
    "\n",
    "But of course we want to to be able to handle more complex models, for example multiple regression is doone like this:\n",
    "\n",
    "`Outcome ~ X1 + X2 + X3`\n",
    "\n",
    "In general, a formula for an OLS multiple linear regression is\n",
    "\n",
    "`Y ~ X1 + X2 + ... + Xp`\n",
    "\n",
    "This is the very basic structure but it should be enough to get you through the homework. Things can get much more complex. You can force statsmodels to treat variables as categorical with the `C()` function, call numpy functions to transform data such as `np.log` for extremely-skewed data, or fit a model without an intercept by including `- 1` in the formula. For a quick run-down of further uses see the `statsmodels` [help page](http://statsmodels.sourceforge.net/devel/example_formulas.html).\n"
   ]
  },
  {
   "cell_type": "markdown",
   "metadata": {},
   "source": [
    "Let's see how our model actually fit our data. We can see below that there is a ceiling effect, we should probably look into that. Also, for large values of $Y$ we get underpredictions, most predictions are below the 45-degree gridlines. "
   ]
  },
  {
   "cell_type": "markdown",
   "metadata": {},
   "source": [
    "<div class=\"span5 alert alert-info\">\n",
    "<h3>Part 3 Checkup Exercise Set I</h3>\n",
    "\n",
    "<p><b>Exercise:</b> Create a scatterplot between the predicted prices, available in `m.fittedvalues` (where `m` is the fitted model) and the original prices. How does the plot look? Do you notice anything interesting or weird in the plot? Comment on what you see.</p>\n",
    "</div>"
   ]
  },
  {
   "cell_type": "code",
   "execution_count": 27,
   "metadata": {},
   "outputs": [],
   "source": [
    "# your turn"
   ]
  },
  {
   "cell_type": "markdown",
   "metadata": {},
   "source": [
    "### Fitting Linear Regression using `sklearn`\n"
   ]
  },
  {
   "cell_type": "code",
   "execution_count": 28,
   "metadata": {},
   "outputs": [
    {
     "data": {
      "text/plain": [
       "LinearRegression(copy_X=True, fit_intercept=True, n_jobs=1, normalize=False)"
      ]
     },
     "execution_count": 28,
     "metadata": {},
     "output_type": "execute_result"
    }
   ],
   "source": [
    "from sklearn.linear_model import LinearRegression\n",
    "X = bos.drop('PRICE', axis = 1)\n",
    "\n",
    "# This creates a LinearRegression object\n",
    "lm = LinearRegression()\n",
    "lm"
   ]
  },
  {
   "cell_type": "markdown",
   "metadata": {},
   "source": [
    "#### What can you do with a LinearRegression object? \n",
    "***\n",
    "Check out the scikit-learn [docs here](http://scikit-learn.org/stable/modules/generated/sklearn.linear_model.LinearRegression.html). We have listed the main functions here. Most machine learning models in scikit-learn follow this same API of fitting a model with `fit`, making predictions with `predict` and the appropriate scoring function `score` for each model."
   ]
  },
  {
   "cell_type": "markdown",
   "metadata": {},
   "source": [
    "Main functions | Description\n",
    "--- | --- \n",
    "`lm.fit()` | Fit a linear model\n",
    "`lm.predit()` | Predict Y using the linear model with estimated coefficients\n",
    "`lm.score()` | Returns the coefficient of determination (R^2). *A measure of how well observed outcomes are replicated by the model, as the proportion of total variation of outcomes explained by the model*"
   ]
  },
  {
   "cell_type": "markdown",
   "metadata": {},
   "source": [
    "#### What output can you get?"
   ]
  },
  {
   "cell_type": "code",
   "execution_count": 29,
   "metadata": {},
   "outputs": [],
   "source": [
    "# Look inside lm object\n",
    "# lm.<tab>"
   ]
  },
  {
   "cell_type": "markdown",
   "metadata": {},
   "source": [
    "Output | Description\n",
    "--- | --- \n",
    "`lm.coef_` | Estimated coefficients\n",
    "`lm.intercept_` | Estimated intercept "
   ]
  },
  {
   "cell_type": "markdown",
   "metadata": {},
   "source": [
    "### Fit a linear model\n",
    "***\n",
    "\n",
    "The `lm.fit()` function estimates the coefficients the linear regression using least squares. "
   ]
  },
  {
   "cell_type": "code",
   "execution_count": 30,
   "metadata": {},
   "outputs": [
    {
     "data": {
      "text/plain": [
       "LinearRegression(copy_X=True, fit_intercept=True, n_jobs=1, normalize=False)"
      ]
     },
     "execution_count": 30,
     "metadata": {},
     "output_type": "execute_result"
    }
   ],
   "source": [
    "# Use all 13 predictors to fit linear regression model\n",
    "lm.fit(X, bos.PRICE)"
   ]
  },
  {
   "cell_type": "markdown",
   "metadata": {},
   "source": [
    "<div class=\"span5 alert alert-info\">\n",
    "<h3>Part 3 Checkup Exercise Set II</h3>\n",
    "\n",
    "<p><b>Exercise:</b> How would you change the model to not fit an intercept term? Would you recommend not having an intercept? Why or why not? For more information on why to include or exclude an intercept, look [here](https://stats.idre.ucla.edu/other/mult-pkg/faq/general/faq-what-is-regression-through-the-origin/).</p>\n",
    "\n",
    "<p><b>Exercise:</b> One of the assumptions of the linear model is that the residuals must be i.i.d. (independently and identically distributed). To satisfy this, is it enough that the residuals are normally distributed? Explain your answer.</p>\n",
    "\n",
    "<p><b>Exercise:</b> True or false. To use linear regression, $Y$ must be normally distributed. Explain your answer.</p>\n",
    "</div>\n"
   ]
  },
  {
   "cell_type": "code",
   "execution_count": 31,
   "metadata": {},
   "outputs": [],
   "source": [
    "# your turn\n"
   ]
  },
  {
   "cell_type": "markdown",
   "metadata": {},
   "source": [
    "### Estimated intercept and coefficients\n",
    "\n",
    "Let's look at the estimated coefficients from the linear model using `1m.intercept_` and `lm.coef_`.  \n",
    "\n",
    "After we have fit our linear regression model using the least squares method, we want to see what are the estimates of our coefficients $\\beta_0$, $\\beta_1$, ..., $\\beta_{13}$: \n",
    "\n",
    "$$ \\hat{\\beta}_0, \\hat{\\beta}_1, \\ldots, \\hat{\\beta}_{13} $$\n",
    "\n"
   ]
  },
  {
   "cell_type": "code",
   "execution_count": 32,
   "metadata": {},
   "outputs": [
    {
     "name": "stdout",
     "output_type": "stream",
     "text": [
      "Estimated intercept coefficient: 36.491103280364015\n"
     ]
    }
   ],
   "source": [
    "print('Estimated intercept coefficient: {}'.format(lm.intercept_))"
   ]
  },
  {
   "cell_type": "code",
   "execution_count": 33,
   "metadata": {},
   "outputs": [
    {
     "name": "stdout",
     "output_type": "stream",
     "text": [
      "Number of coefficients: 13\n"
     ]
    }
   ],
   "source": [
    "print('Number of coefficients: {}'.format(len(lm.coef_)))"
   ]
  },
  {
   "cell_type": "code",
   "execution_count": 34,
   "metadata": {},
   "outputs": [
    {
     "data": {
      "text/html": [
       "<div>\n",
       "<style scoped>\n",
       "    .dataframe tbody tr th:only-of-type {\n",
       "        vertical-align: middle;\n",
       "    }\n",
       "\n",
       "    .dataframe tbody tr th {\n",
       "        vertical-align: top;\n",
       "    }\n",
       "\n",
       "    .dataframe thead th {\n",
       "        text-align: right;\n",
       "    }\n",
       "</style>\n",
       "<table border=\"1\" class=\"dataframe\">\n",
       "  <thead>\n",
       "    <tr style=\"text-align: right;\">\n",
       "      <th></th>\n",
       "      <th>features</th>\n",
       "      <th>estimatedCoefficients</th>\n",
       "    </tr>\n",
       "  </thead>\n",
       "  <tbody>\n",
       "    <tr>\n",
       "      <th>0</th>\n",
       "      <td>CRIM</td>\n",
       "      <td>-0.107171</td>\n",
       "    </tr>\n",
       "    <tr>\n",
       "      <th>1</th>\n",
       "      <td>ZN</td>\n",
       "      <td>0.046395</td>\n",
       "    </tr>\n",
       "    <tr>\n",
       "      <th>2</th>\n",
       "      <td>INDUS</td>\n",
       "      <td>0.020860</td>\n",
       "    </tr>\n",
       "    <tr>\n",
       "      <th>3</th>\n",
       "      <td>CHAS</td>\n",
       "      <td>2.688561</td>\n",
       "    </tr>\n",
       "    <tr>\n",
       "      <th>4</th>\n",
       "      <td>NOX</td>\n",
       "      <td>-17.795759</td>\n",
       "    </tr>\n",
       "    <tr>\n",
       "      <th>5</th>\n",
       "      <td>RM</td>\n",
       "      <td>3.804752</td>\n",
       "    </tr>\n",
       "    <tr>\n",
       "      <th>6</th>\n",
       "      <td>AGE</td>\n",
       "      <td>0.000751</td>\n",
       "    </tr>\n",
       "    <tr>\n",
       "      <th>7</th>\n",
       "      <td>DIS</td>\n",
       "      <td>-1.475759</td>\n",
       "    </tr>\n",
       "    <tr>\n",
       "      <th>8</th>\n",
       "      <td>RAD</td>\n",
       "      <td>0.305655</td>\n",
       "    </tr>\n",
       "    <tr>\n",
       "      <th>9</th>\n",
       "      <td>TAX</td>\n",
       "      <td>-0.012329</td>\n",
       "    </tr>\n",
       "    <tr>\n",
       "      <th>10</th>\n",
       "      <td>PTRATIO</td>\n",
       "      <td>-0.953464</td>\n",
       "    </tr>\n",
       "    <tr>\n",
       "      <th>11</th>\n",
       "      <td>B</td>\n",
       "      <td>0.009393</td>\n",
       "    </tr>\n",
       "    <tr>\n",
       "      <th>12</th>\n",
       "      <td>LSTAT</td>\n",
       "      <td>-0.525467</td>\n",
       "    </tr>\n",
       "  </tbody>\n",
       "</table>\n",
       "</div>"
      ],
      "text/plain": [
       "   features  estimatedCoefficients\n",
       "0      CRIM              -0.107171\n",
       "1        ZN               0.046395\n",
       "2     INDUS               0.020860\n",
       "3      CHAS               2.688561\n",
       "4       NOX             -17.795759\n",
       "5        RM               3.804752\n",
       "6       AGE               0.000751\n",
       "7       DIS              -1.475759\n",
       "8       RAD               0.305655\n",
       "9       TAX              -0.012329\n",
       "10  PTRATIO              -0.953464\n",
       "11        B               0.009393\n",
       "12    LSTAT              -0.525467"
      ]
     },
     "execution_count": 34,
     "metadata": {},
     "output_type": "execute_result"
    }
   ],
   "source": [
    "# The coefficients\n",
    "pd.DataFrame({'features': X.columns, 'estimatedCoefficients': lm.coef_})[['features', 'estimatedCoefficients']]"
   ]
  },
  {
   "cell_type": "markdown",
   "metadata": {},
   "source": [
    "### Predict Prices \n",
    "\n",
    "We can calculate the predicted prices ($\\hat{Y}_i$) using `lm.predict`. \n",
    "\n",
    "$$ \\hat{Y}_i = \\hat{\\beta}_0 + \\hat{\\beta}_1 X_1 + \\ldots \\hat{\\beta}_{13} X_{13} $$"
   ]
  },
  {
   "cell_type": "code",
   "execution_count": 35,
   "metadata": {},
   "outputs": [
    {
     "data": {
      "text/plain": [
       "array([30.00821269, 25.0298606 , 30.5702317 , 28.60814055, 27.94288232])"
      ]
     },
     "execution_count": 35,
     "metadata": {},
     "output_type": "execute_result"
    }
   ],
   "source": [
    "# first five predicted prices\n",
    "lm.predict(X)[0:5]"
   ]
  },
  {
   "cell_type": "markdown",
   "metadata": {},
   "source": [
    "<div class=\"span5 alert alert-info\">\n",
    "<h3>Part 3 Checkup Exercise Set III</h3>\n",
    "\n",
    "<p><b>Exercise:</b> Histogram: Plot a histogram of all the predicted prices. Write a story about what you see. Describe the shape, center and spread of the distribution. Are there any outliers? What might be the reason for them? Should we do anything special with them?</p>\n",
    "\n",
    "<p><b>Exercise:</b> Scatterplot: Let's plot the true prices compared to the predicted prices to see they disagree (we did this with `statsmodels` before).</p>\n",
    "\n",
    "<p><b>Exercise:</b> We have looked at fitting a linear model in both `statsmodels` and `scikit-learn`. What are the advantages and disadvantages of each based on your exploration? Based on the information provided by both packages, what advantage does `statsmodels` provide?</p>\n",
    "</div>"
   ]
  },
  {
   "cell_type": "code",
   "execution_count": 36,
   "metadata": {},
   "outputs": [],
   "source": [
    "# your turn\n"
   ]
  },
  {
   "cell_type": "markdown",
   "metadata": {},
   "source": [
    "### Evaluating the Model: Sum-of-Squares\n",
    "\n",
    "The partitioning of the sum-of-squares shows the variance in the predictions explained by the model and the variance that is attributed to error.\n",
    "\n",
    "$$TSS = ESS + RSS$$\n",
    "\n",
    "#### Residual Sum-of-Squares (aka $RSS$)\n",
    "\n",
    "The residual sum-of-squares is one of the basic ways of quantifying how much error exists in the fitted model. We will revisit this in a bit.\n",
    "\n",
    "$$ RSS = \\sum_{i=1}^N r_i^2 = \\sum_{i=1}^N \\left(y_i - \\left(\\beta_0 + \\beta_1 x_i\\right)\\right)^2 $$"
   ]
  },
  {
   "cell_type": "code",
   "execution_count": 37,
   "metadata": {},
   "outputs": [
    {
     "name": "stdout",
     "output_type": "stream",
     "text": [
      "11080.276284149873\n"
     ]
    }
   ],
   "source": [
    "print(np.sum((bos.PRICE - lm.predict(X)) ** 2))"
   ]
  },
  {
   "cell_type": "markdown",
   "metadata": {},
   "source": [
    "#### Explained Sum-of-Squares (aka $ESS$)\n",
    "\n",
    "The explained sum-of-squares measures the variance explained by the regression model.\n",
    "\n",
    "$$ESS = \\sum_{i=1}^N \\left( \\hat{y}_i - \\bar{y} \\right)^2 = \\sum_{i=1}^N \\left( \\left( \\hat{\\beta}_0 + \\hat{\\beta}_1 x_i \\right) - \\bar{y} \\right)^2$$"
   ]
  },
  {
   "cell_type": "code",
   "execution_count": 38,
   "metadata": {},
   "outputs": [
    {
     "name": "stdout",
     "output_type": "stream",
     "text": [
      "5.801896515235221e-23\n"
     ]
    }
   ],
   "source": [
    "print(np.sum(lm.predict(X) - np.mean(bos.PRICE)) ** 2)"
   ]
  },
  {
   "cell_type": "markdown",
   "metadata": {},
   "source": [
    "### Evaluating the Model: The Coefficient of Determination ($R^2$)\n",
    "\n",
    "The coefficient of determination, $R^2$, tells us the percentage of the variance in the response variable $Y$ that can be explained by the linear regression model.\n",
    "\n",
    "$$ R^2 = \\frac{ESS}{TSS} $$\n",
    "\n",
    "The $R^2$ value is one of the most common metrics that people use in describing the quality of a model, but it is important to note that *$R^2$ increases artificially as a side-effect of increasing the number of independent variables.* While $R^2$ is reported in almost all statistical packages, another metric called the *adjusted $R^2$* is also provided as it takes into account the number of variables in the model, and can sometimes even be used for non-linear regression models!\n",
    "\n",
    "$$R_{adj}^2 = 1 - \\left( 1 - R^2 \\right) \\frac{N - 1}{N - K - 1} = R^2 - \\left( 1 - R^2 \\right) \\frac{K}{N - K - 1} = 1 - \\frac{\\frac{RSS}{DF_R}}{\\frac{TSS}{DF_T}}$$\n",
    "\n",
    "where $N$ is the number of observations, $K$ is the number of variables, $DF_R = N - K - 1$ is the degrees of freedom associated with the residual error and $DF_T = N - 1$ is the degrees of the freedom of the total error."
   ]
  },
  {
   "cell_type": "markdown",
   "metadata": {},
   "source": [
    "### Evaluating the Model: Mean Squared Error and the $F$-Statistic\n",
    "***\n",
    "The mean squared errors are just the *averages* of the sum-of-squares errors over their respective degrees of freedom.\n",
    "\n",
    "$$MSE = \\frac{ESS}{K}$$\n",
    "$$MSR = \\frac{RSS}{N-K-1}$$\n",
    "\n",
    "**Remember: ** Notation may vary across resources particularly the use of *R* and *E* in *RSS/ESS* and *MSR/MSE*. In some resources, E = explained and R = residual. In other resources, E = error and R = regression (explained). **This is a very important distinction that requires looking at the formula to determine which naming scheme is being used.**\n",
    "\n",
    "Given the MSR and MSE, we can now determine whether or not the entire model we just fit is even statistically significant. We use an $F$-test for this. The null hypothesis is that all of the $\\beta$ coefficients are zero, that is, none of them have any effect on $Y$. The alternative is that *at least one* $\\beta$ coefficient is nonzero, but it doesn't tell us which one in a multiple regression:\n",
    "\n",
    "$$H_0: \\beta_i = 0, \\mbox{for all $i$} \\\\\n",
    "H_A: \\beta_i > 0, \\mbox{for some $i$}$$ \n",
    "\n",
    "$$F = \\frac{MSR}{MSE} = \\left( \\frac{R^2}{1 - R^2} \\right) \\left( \\frac{N - K - 1}{K} \\right)$$\n",
    " \n",
    "Once we compute the $F$-statistic, we can use the $F$-distribution with $N-K$ and $K-1$ degrees of degrees of freedom to get a p-value.\n",
    "\n",
    "**Warning!** The $F$-statistic mentioned in this section is NOT the same as the F1-measure or F1-value discused in Unit 7."
   ]
  },
  {
   "cell_type": "markdown",
   "metadata": {},
   "source": [
    "<div class=\"span5 alert alert-info\">\n",
    "<h3>Part 3 Checkup Exercise Set IV</h3>\n",
    "\n",
    "<p>Let's look at the relationship between `PTRATIO` and housing price.</p>\n",
    "\n",
    "<p><b>Exercise:</b> Try fitting a linear regression model using only the 'PTRATIO' (pupil-teacher ratio by town) and interpret the intercept and the coefficients.</p>\n",
    "\n",
    "<p><b>Exercise:</b> Calculate (or extract) the $R^2$ value. What does it tell you?</p>\n",
    "\n",
    "<p><b>Exercise:</b> Compute the $F$-statistic. What does it tell you?</p>\n",
    "\n",
    "<p><b>Exercise:</b> Take a close look at the $F$-statistic and the $t$-statistic for the regression coefficient. What relationship do you notice? Note that this relationship only applies in *simple* linear regression models.</p>\n",
    "</div>"
   ]
  },
  {
   "cell_type": "code",
   "execution_count": 39,
   "metadata": {},
   "outputs": [],
   "source": [
    "# your turn\n"
   ]
  },
  {
   "cell_type": "markdown",
   "metadata": {},
   "source": [
    "<div class=\"span5 alert alert-info\">\n",
    "<h3>Part 3 Checkup Exercise Set V</h3>\n",
    "\n",
    "<p>Fit a linear regression model using three independent variables</p>\n",
    "\n",
    "<ol>\n",
    "<li> 'CRIM' (per capita crime rate by town)\n",
    "<li> 'RM' (average number of rooms per dwelling)\n",
    "<li> 'PTRATIO' (pupil-teacher ratio by town)\n",
    "</ol>\n",
    "\n",
    "<p><b>Exercise:</b> Compute or extract the $F$-statistic. What does it tell you about the model?</p>\n",
    "\n",
    "<p><b>Exercise:</b> Compute or extract the $R^2$ statistic. What does it tell you about the model?</p>\n",
    "\n",
    "<p><b>Exercise:</b> Which variables in the model are significant in predicting house price? Write a story that interprets the coefficients.</p>\n",
    "</div>"
   ]
  },
  {
   "cell_type": "code",
   "execution_count": 40,
   "metadata": {},
   "outputs": [],
   "source": [
    "# your turn"
   ]
  },
  {
   "cell_type": "markdown",
   "metadata": {},
   "source": [
    "## Part 4: Comparing Models"
   ]
  },
  {
   "cell_type": "markdown",
   "metadata": {},
   "source": [
    "During modeling, there will be times when we want to compare models to see which one is more predictive or fits the data better. There are many ways to compare models, but we will focus on two."
   ]
  },
  {
   "cell_type": "markdown",
   "metadata": {},
   "source": [
    "### The $F$-Statistic Revisited\n",
    "\n",
    "The $F$-statistic can also be used to compare two *nested* models, that is, two models trained on the same dataset where one of the models contains a *subset* of the variables of the other model. The *full* model contains $K$ variables and the *reduced* model contains a subset of these $K$ variables. This allows us to add additional variables to a base model and then test if adding the variables helped the model fit.\n",
    "\n",
    "$$F = \\frac{\\left( \\frac{RSS_{reduced} - RSS_{full}}{DF_{reduced} - DF_{full}} \\right)}{\\left( \\frac{RSS_{full}}{DF_{full}} \\right)}$$\n",
    "\n",
    "where $DF_x = N - K_x - 1$ where $K_x$ is the number of variables in model $x$."
   ]
  },
  {
   "cell_type": "markdown",
   "metadata": {},
   "source": [
    "### Akaike Information Criterion (AIC)\n",
    "\n",
    "Another statistic for comparing two models is AIC, which is based on the likelihood function and takes into account the number of variables in the model.\n",
    "\n",
    "$$AIC = 2 K - 2 \\log_e{L}$$\n",
    "\n",
    "where $L$ is the likelihood of the model. AIC is meaningless in the absolute sense, and is only meaningful when compared to AIC values from other models. Lower values of AIC indicate better fitting models.\n",
    "\n",
    "`statsmodels` provides the AIC in its output."
   ]
  },
  {
   "cell_type": "markdown",
   "metadata": {},
   "source": [
    "<div class=\"span5 alert alert-info\">\n",
    "<h3>Part 4 Checkup Exercises</h3>\n",
    "\n",
    "<p><b>Exercise:</b> Find another variable (or two) to add to the model we built in Part 3. Compute the $F$-test comparing the two models as well as the AIC. Which model is better?</p>\n",
    "</div>"
   ]
  },
  {
   "cell_type": "markdown",
   "metadata": {},
   "source": [
    "\n",
    "## Part 5: Evaluating the Model via Model Assumptions and Other Issues\n",
    "***\n",
    "Linear regression makes several assumptions. It is always best to check that these assumptions are valid after fitting a linear regression model.\n",
    "\n",
    "<div class=\"span5 alert alert-danger\">\n",
    "<ul>\n",
    "  <li>**Linearity**. The dependent variable $Y$ is a linear combination of the regression coefficients and the independent variables $X$. This can be verified with a scatterplot of each $X$ vs. $Y$ and plotting correlations among $X$. Nonlinearity can sometimes be resolved by [transforming](https://onlinecourses.science.psu.edu/stat501/node/318) one or more independent variables, the dependent variable, or both. In other cases, a [generalized linear model](https://en.wikipedia.org/wiki/Generalized_linear_model) or a [nonlinear model](https://en.wikipedia.org/wiki/Nonlinear_regression) may be warranted.</li>\n",
    "  <li>**Constant standard deviation**. The SD of the dependent variable $Y$ should be constant for different values of X. We can check this by plotting each $X$ against $Y$ and verifying that there is no \"funnel\" shape showing data points fanning out as $X$ increases or decreases. Some techniques for dealing with non-constant variance include weighted least squares (WLS), [robust standard errors](https://en.wikipedia.org/wiki/Heteroscedasticity-consistent_standard_errors), or variance stabilizing transformations.\n",
    "    </li>\n",
    "  <li> **Normal distribution for errors**.  The $\\epsilon$ term we discussed at the beginning are assumed to be normally distributed. This can be verified with a fitted values vs. residuals plot and verifying that there is no pattern, and with a quantile plot.\n",
    "  $$ \\epsilon_i \\sim N(0, \\sigma^2)$$\n",
    "Sometimes the distributions of responses $Y$ may not be normally distributed at any given value of $X$.  e.g. skewed positively or negatively. </li>\n",
    "<li> **Independent errors**.  The observations are assumed to be obtained independently.\n",
    "    <ul>\n",
    "        <li>e.g. Observations across time may be correlated\n",
    "    </ul>\n",
    "</li>\n",
    "</ul>  \n",
    "\n",
    "</div>\n",
    "\n",
    "There are some other issues that are important investigate with linear regression models.\n",
    "\n",
    "<div class=\"span5 alert alert-danger\">\n",
    "<ul>\n",
    "  <li>**Correlated Predictors:** Care should be taken to make sure that the independent variables in a regression model are not too highly correlated. Correlated predictors typically do not majorly affect prediction, but do inflate standard errors of coefficients making interpretation unreliable. Common solutions are dropping the least important variables involved in the correlations, using regularlization, or, when many predictors are highly correlated, considering a dimension reduction technique such as principal component analysis (PCA).\n",
    "  <li>**Influential Points:** Data points that have undue influence on the regression model. These points can be high leverage points or outliers. Such points are typically removed and the regression model rerun.\n",
    "</ul>\n",
    "</div>\n"
   ]
  },
  {
   "cell_type": "markdown",
   "metadata": {},
   "source": [
    "<div class=\"span5 alert alert-info\">\n",
    "<h3>Part 5 Checkup Exercises</h3>\n",
    "\n",
    "<p>Take the reduced model from Part 3 to answer the following exercises. Take a look at [this blog post](http://mpastell.com/2013/04/19/python_regression/) for more information on using statsmodels to construct these plots.</p>\n",
    "    \n",
    "<p><b>Exercise:</b> Construct a fitted values versus residuals plot. What does the plot tell you? Are there any violations of the model assumptions?</p>\n",
    "\n",
    "<p><b>Exercise:</b> Construct a quantile plot of the residuals. What does the plot tell you?</p>\n",
    "\n",
    "<p><b>Exercise:</b> What are some advantages and disadvantages of the fitted vs. residual and quantile plot compared to each other?</p>\n",
    "\n",
    "<p><b>Exercise:</b> Identify any outliers (if any) in your model and write a story describing what these outliers might represent.</p>\n",
    "\n",
    "<p><b>Exercise:</b> Construct a leverage plot and identify high leverage points in the model. Write a story explaining possible reasons for the high leverage points.</p>\n",
    "\n",
    "<p><b>Exercise:</b> Remove the outliers and high leverage points from your model and run the regression again. How do the results change?</p>\n",
    "</div>"
   ]
  },
  {
   "cell_type": "code",
   "execution_count": 41,
   "metadata": {},
   "outputs": [],
   "source": [
    "# Your turn.\n"
   ]
  }
 ],
 "metadata": {
  "kernelspec": {
   "display_name": "Python 3",
   "language": "python",
   "name": "python3"
  },
  "language_info": {
   "codemirror_mode": {
    "name": "ipython",
    "version": 3
   },
   "file_extension": ".py",
   "mimetype": "text/x-python",
   "name": "python",
   "nbconvert_exporter": "python",
   "pygments_lexer": "ipython3",
   "version": "3.6.4"
  }
 },
 "nbformat": 4,
 "nbformat_minor": 1
}
