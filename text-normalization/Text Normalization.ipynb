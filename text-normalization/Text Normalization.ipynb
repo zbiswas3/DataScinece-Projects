{
 "cells": [
  {
   "cell_type": "markdown",
   "metadata": {
    "deletable": true,
    "editable": true
   },
   "source": [
    "# Text Normalization Data\n",
    "\n",
    "Here  is a simple EDA of Text normalization data from Gooodle's kaggle competition. "
   ]
  },
  {
   "cell_type": "code",
   "execution_count": 55,
   "metadata": {
    "collapsed": false,
    "deletable": true,
    "editable": true
   },
   "outputs": [],
   "source": [
    "# import the important libraries/packages\n",
    "import numpy as np\n",
    "import pandas as pd\n",
    "from matplotlib import pyplot as plt\n",
    "%matplotlib inline\n",
    "import nltk\n",
    "import seaborn as sns"
   ]
  },
  {
   "cell_type": "code",
   "execution_count": 95,
   "metadata": {
    "collapsed": false,
    "deletable": true,
    "editable": true
   },
   "outputs": [],
   "source": [
    "# load the train dataset\n",
    "dataset = pd.read_csv('text-normalization\\\\en_train.csv')"
   ]
  },
  {
   "cell_type": "code",
   "execution_count": 96,
   "metadata": {
    "collapsed": true
   },
   "outputs": [],
   "source": [
    "# load the test dataset\n",
    "test_data = pd.read_csv('text-normalization\\\\en_test.csv')"
   ]
  },
  {
   "cell_type": "code",
   "execution_count": 97,
   "metadata": {
    "collapsed": false,
    "deletable": true,
    "editable": true
   },
   "outputs": [
    {
     "data": {
      "text/plain": [
       "9918441"
      ]
     },
     "execution_count": 97,
     "metadata": {},
     "output_type": "execute_result"
    }
   ],
   "source": [
    "len(dataset)"
   ]
  },
  {
   "cell_type": "code",
   "execution_count": 114,
   "metadata": {
    "collapsed": false,
    "deletable": true,
    "editable": true
   },
   "outputs": [
    {
     "name": "stdout",
     "output_type": "stream",
     "text": [
      "<class 'pandas.core.frame.DataFrame'>\n",
      "RangeIndex: 9918441 entries, 0 to 9918440\n",
      "Data columns (total 5 columns):\n",
      "sentence_id    int64\n",
      "token_id       int64\n",
      "class          object\n",
      "before         object\n",
      "after          object\n",
      "dtypes: int64(2), object(3)\n",
      "memory usage: 378.4+ MB\n"
     ]
    }
   ],
   "source": [
    "dataset.info()"
   ]
  },
  {
   "cell_type": "code",
   "execution_count": 115,
   "metadata": {
    "collapsed": false
   },
   "outputs": [
    {
     "name": "stdout",
     "output_type": "stream",
     "text": [
      "<class 'pandas.core.frame.DataFrame'>\n",
      "RangeIndex: 1088564 entries, 0 to 1088563\n",
      "Data columns (total 3 columns):\n",
      "sentence_id    1088564 non-null int64\n",
      "token_id       1088564 non-null int64\n",
      "before         1088556 non-null object\n",
      "dtypes: int64(2), object(1)\n",
      "memory usage: 24.9+ MB\n"
     ]
    }
   ],
   "source": [
    "test_data.info()"
   ]
  },
  {
   "cell_type": "markdown",
   "metadata": {},
   "source": [
    "**NOTE: There is no 'class' and 'after' columns in Test data**"
   ]
  },
  {
   "cell_type": "code",
   "execution_count": 117,
   "metadata": {
    "collapsed": false
   },
   "outputs": [
    {
     "data": {
      "text/plain": [
       "Index(['sentence_id', 'token_id', 'before'], dtype='object')"
      ]
     },
     "execution_count": 117,
     "metadata": {},
     "output_type": "execute_result"
    }
   ],
   "source": [
    "# Columns of the test DATASET\n",
    "test_data.columns"
   ]
  },
  {
   "cell_type": "code",
   "execution_count": 118,
   "metadata": {
    "collapsed": false
   },
   "outputs": [
    {
     "data": {
      "text/plain": [
       "Index(['sentence_id', 'token_id', 'class', 'before', 'after'], dtype='object')"
      ]
     },
     "execution_count": 118,
     "metadata": {},
     "output_type": "execute_result"
    }
   ],
   "source": [
    "# Columns of the Train DATASET\n",
    "dataset.columns"
   ]
  },
  {
   "cell_type": "markdown",
   "metadata": {},
   "source": [
    "**A few other statistics of the datasets**"
   ]
  },
  {
   "cell_type": "code",
   "execution_count": 119,
   "metadata": {
    "collapsed": false,
    "deletable": true,
    "editable": true
   },
   "outputs": [
    {
     "data": {
      "text/html": [
       "<div>\n",
       "<style>\n",
       "    .dataframe thead tr:only-child th {\n",
       "        text-align: right;\n",
       "    }\n",
       "\n",
       "    .dataframe thead th {\n",
       "        text-align: left;\n",
       "    }\n",
       "\n",
       "    .dataframe tbody tr th {\n",
       "        vertical-align: top;\n",
       "    }\n",
       "</style>\n",
       "<table border=\"1\" class=\"dataframe\">\n",
       "  <thead>\n",
       "    <tr style=\"text-align: right;\">\n",
       "      <th></th>\n",
       "      <th>sentence_id</th>\n",
       "      <th>token_id</th>\n",
       "    </tr>\n",
       "  </thead>\n",
       "  <tbody>\n",
       "    <tr>\n",
       "      <th>count</th>\n",
       "      <td>9.918441e+06</td>\n",
       "      <td>9.918441e+06</td>\n",
       "    </tr>\n",
       "    <tr>\n",
       "      <th>mean</th>\n",
       "      <td>3.778565e+05</td>\n",
       "      <td>7.519584e+00</td>\n",
       "    </tr>\n",
       "    <tr>\n",
       "      <th>std</th>\n",
       "      <td>2.151371e+05</td>\n",
       "      <td>6.117934e+00</td>\n",
       "    </tr>\n",
       "    <tr>\n",
       "      <th>min</th>\n",
       "      <td>0.000000e+00</td>\n",
       "      <td>0.000000e+00</td>\n",
       "    </tr>\n",
       "    <tr>\n",
       "      <th>25%</th>\n",
       "      <td>1.925260e+05</td>\n",
       "      <td>3.000000e+00</td>\n",
       "    </tr>\n",
       "    <tr>\n",
       "      <th>50%</th>\n",
       "      <td>3.792590e+05</td>\n",
       "      <td>6.000000e+00</td>\n",
       "    </tr>\n",
       "    <tr>\n",
       "      <th>75%</th>\n",
       "      <td>5.641890e+05</td>\n",
       "      <td>1.100000e+01</td>\n",
       "    </tr>\n",
       "    <tr>\n",
       "      <th>max</th>\n",
       "      <td>7.480650e+05</td>\n",
       "      <td>2.550000e+02</td>\n",
       "    </tr>\n",
       "  </tbody>\n",
       "</table>\n",
       "</div>"
      ],
      "text/plain": [
       "        sentence_id      token_id\n",
       "count  9.918441e+06  9.918441e+06\n",
       "mean   3.778565e+05  7.519584e+00\n",
       "std    2.151371e+05  6.117934e+00\n",
       "min    0.000000e+00  0.000000e+00\n",
       "25%    1.925260e+05  3.000000e+00\n",
       "50%    3.792590e+05  6.000000e+00\n",
       "75%    5.641890e+05  1.100000e+01\n",
       "max    7.480650e+05  2.550000e+02"
      ]
     },
     "execution_count": 119,
     "metadata": {},
     "output_type": "execute_result"
    }
   ],
   "source": [
    "dataset.describe()"
   ]
  },
  {
   "cell_type": "code",
   "execution_count": 120,
   "metadata": {
    "collapsed": false
   },
   "outputs": [
    {
     "data": {
      "text/html": [
       "<div>\n",
       "<style>\n",
       "    .dataframe thead tr:only-child th {\n",
       "        text-align: right;\n",
       "    }\n",
       "\n",
       "    .dataframe thead th {\n",
       "        text-align: left;\n",
       "    }\n",
       "\n",
       "    .dataframe tbody tr th {\n",
       "        vertical-align: top;\n",
       "    }\n",
       "</style>\n",
       "<table border=\"1\" class=\"dataframe\">\n",
       "  <thead>\n",
       "    <tr style=\"text-align: right;\">\n",
       "      <th></th>\n",
       "      <th>sentence_id</th>\n",
       "      <th>token_id</th>\n",
       "    </tr>\n",
       "  </thead>\n",
       "  <tbody>\n",
       "    <tr>\n",
       "      <th>count</th>\n",
       "      <td>1.088564e+06</td>\n",
       "      <td>1.088564e+06</td>\n",
       "    </tr>\n",
       "    <tr>\n",
       "      <th>mean</th>\n",
       "      <td>3.500687e+04</td>\n",
       "      <td>8.343651e+00</td>\n",
       "    </tr>\n",
       "    <tr>\n",
       "      <th>std</th>\n",
       "      <td>2.021462e+04</td>\n",
       "      <td>6.536760e+00</td>\n",
       "    </tr>\n",
       "    <tr>\n",
       "      <th>min</th>\n",
       "      <td>0.000000e+00</td>\n",
       "      <td>0.000000e+00</td>\n",
       "    </tr>\n",
       "    <tr>\n",
       "      <th>25%</th>\n",
       "      <td>1.748800e+04</td>\n",
       "      <td>3.000000e+00</td>\n",
       "    </tr>\n",
       "    <tr>\n",
       "      <th>50%</th>\n",
       "      <td>3.502800e+04</td>\n",
       "      <td>7.000000e+00</td>\n",
       "    </tr>\n",
       "    <tr>\n",
       "      <th>75%</th>\n",
       "      <td>5.252200e+04</td>\n",
       "      <td>1.200000e+01</td>\n",
       "    </tr>\n",
       "    <tr>\n",
       "      <th>max</th>\n",
       "      <td>6.999900e+04</td>\n",
       "      <td>2.480000e+02</td>\n",
       "    </tr>\n",
       "  </tbody>\n",
       "</table>\n",
       "</div>"
      ],
      "text/plain": [
       "        sentence_id      token_id\n",
       "count  1.088564e+06  1.088564e+06\n",
       "mean   3.500687e+04  8.343651e+00\n",
       "std    2.021462e+04  6.536760e+00\n",
       "min    0.000000e+00  0.000000e+00\n",
       "25%    1.748800e+04  3.000000e+00\n",
       "50%    3.502800e+04  7.000000e+00\n",
       "75%    5.252200e+04  1.200000e+01\n",
       "max    6.999900e+04  2.480000e+02"
      ]
     },
     "execution_count": 120,
     "metadata": {},
     "output_type": "execute_result"
    }
   ],
   "source": [
    "test_data.describe()"
   ]
  },
  {
   "cell_type": "code",
   "execution_count": 100,
   "metadata": {
    "collapsed": false,
    "deletable": true,
    "editable": true
   },
   "outputs": [
    {
     "data": {
      "text/html": [
       "<div>\n",
       "<style>\n",
       "    .dataframe thead tr:only-child th {\n",
       "        text-align: right;\n",
       "    }\n",
       "\n",
       "    .dataframe thead th {\n",
       "        text-align: left;\n",
       "    }\n",
       "\n",
       "    .dataframe tbody tr th {\n",
       "        vertical-align: top;\n",
       "    }\n",
       "</style>\n",
       "<table border=\"1\" class=\"dataframe\">\n",
       "  <thead>\n",
       "    <tr style=\"text-align: right;\">\n",
       "      <th></th>\n",
       "      <th>sentence_id</th>\n",
       "      <th>token_id</th>\n",
       "      <th>class</th>\n",
       "      <th>before</th>\n",
       "      <th>after</th>\n",
       "    </tr>\n",
       "  </thead>\n",
       "  <tbody>\n",
       "    <tr>\n",
       "      <th>0</th>\n",
       "      <td>0</td>\n",
       "      <td>0</td>\n",
       "      <td>PLAIN</td>\n",
       "      <td>Brillantaisia</td>\n",
       "      <td>Brillantaisia</td>\n",
       "    </tr>\n",
       "    <tr>\n",
       "      <th>1</th>\n",
       "      <td>0</td>\n",
       "      <td>1</td>\n",
       "      <td>PLAIN</td>\n",
       "      <td>is</td>\n",
       "      <td>is</td>\n",
       "    </tr>\n",
       "    <tr>\n",
       "      <th>2</th>\n",
       "      <td>0</td>\n",
       "      <td>2</td>\n",
       "      <td>PLAIN</td>\n",
       "      <td>a</td>\n",
       "      <td>a</td>\n",
       "    </tr>\n",
       "    <tr>\n",
       "      <th>3</th>\n",
       "      <td>0</td>\n",
       "      <td>3</td>\n",
       "      <td>PLAIN</td>\n",
       "      <td>genus</td>\n",
       "      <td>genus</td>\n",
       "    </tr>\n",
       "    <tr>\n",
       "      <th>4</th>\n",
       "      <td>0</td>\n",
       "      <td>4</td>\n",
       "      <td>PLAIN</td>\n",
       "      <td>of</td>\n",
       "      <td>of</td>\n",
       "    </tr>\n",
       "  </tbody>\n",
       "</table>\n",
       "</div>"
      ],
      "text/plain": [
       "   sentence_id  token_id  class         before          after\n",
       "0            0         0  PLAIN  Brillantaisia  Brillantaisia\n",
       "1            0         1  PLAIN             is             is\n",
       "2            0         2  PLAIN              a              a\n",
       "3            0         3  PLAIN          genus          genus\n",
       "4            0         4  PLAIN             of             of"
      ]
     },
     "execution_count": 100,
     "metadata": {},
     "output_type": "execute_result"
    }
   ],
   "source": [
    "# brief view of TRAIN DATA\n",
    "dataset.head()"
   ]
  },
  {
   "cell_type": "code",
   "execution_count": 109,
   "metadata": {
    "collapsed": false
   },
   "outputs": [
    {
     "data": {
      "text/html": [
       "<div>\n",
       "<style>\n",
       "    .dataframe thead tr:only-child th {\n",
       "        text-align: right;\n",
       "    }\n",
       "\n",
       "    .dataframe thead th {\n",
       "        text-align: left;\n",
       "    }\n",
       "\n",
       "    .dataframe tbody tr th {\n",
       "        vertical-align: top;\n",
       "    }\n",
       "</style>\n",
       "<table border=\"1\" class=\"dataframe\">\n",
       "  <thead>\n",
       "    <tr style=\"text-align: right;\">\n",
       "      <th></th>\n",
       "      <th>sentence_id</th>\n",
       "      <th>token_id</th>\n",
       "      <th>before</th>\n",
       "    </tr>\n",
       "  </thead>\n",
       "  <tbody>\n",
       "    <tr>\n",
       "      <th>0</th>\n",
       "      <td>0</td>\n",
       "      <td>0</td>\n",
       "      <td>Another</td>\n",
       "    </tr>\n",
       "    <tr>\n",
       "      <th>1</th>\n",
       "      <td>0</td>\n",
       "      <td>1</td>\n",
       "      <td>religious</td>\n",
       "    </tr>\n",
       "    <tr>\n",
       "      <th>2</th>\n",
       "      <td>0</td>\n",
       "      <td>2</td>\n",
       "      <td>family</td>\n",
       "    </tr>\n",
       "    <tr>\n",
       "      <th>3</th>\n",
       "      <td>0</td>\n",
       "      <td>3</td>\n",
       "      <td>is</td>\n",
       "    </tr>\n",
       "    <tr>\n",
       "      <th>4</th>\n",
       "      <td>0</td>\n",
       "      <td>4</td>\n",
       "      <td>of</td>\n",
       "    </tr>\n",
       "  </tbody>\n",
       "</table>\n",
       "</div>"
      ],
      "text/plain": [
       "   sentence_id  token_id     before\n",
       "0            0         0    Another\n",
       "1            0         1  religious\n",
       "2            0         2     family\n",
       "3            0         3         is\n",
       "4            0         4         of"
      ]
     },
     "execution_count": 109,
     "metadata": {},
     "output_type": "execute_result"
    }
   ],
   "source": [
    "# brief view of TEST DATA\n",
    "test_data.head()"
   ]
  },
  {
   "cell_type": "markdown",
   "metadata": {},
   "source": [
    "## TRAINING DATASET"
   ]
  },
  {
   "cell_type": "markdown",
   "metadata": {},
   "source": [
    "**There are 16 different classes in the training data**"
   ]
  },
  {
   "cell_type": "code",
   "execution_count": 101,
   "metadata": {
    "collapsed": false,
    "deletable": true,
    "editable": true
   },
   "outputs": [
    {
     "name": "stdout",
     "output_type": "stream",
     "text": [
      "{'PUNCT', 'ORDINAL', 'DATE', 'DIGIT', 'MEASURE', 'VERBATIM', 'PLAIN', 'ADDRESS', 'MONEY', 'TIME', 'FRACTION', 'DECIMAL', 'TELEPHONE', 'CARDINAL', 'LETTERS', 'ELECTRONIC'}\n",
      "Total number of classes:  16\n"
     ]
    }
   ],
   "source": [
    "# CLASSES OF TRAINING DATA\n",
    "print(set(dataset['class']))\n",
    "print(\"Total number of classes: \", len(set(dataset['class'])))"
   ]
  },
  {
   "cell_type": "code",
   "execution_count": 106,
   "metadata": {
    "collapsed": false,
    "deletable": true,
    "editable": true
   },
   "outputs": [
    {
     "data": {
      "text/plain": [
       "97"
      ]
     },
     "execution_count": 106,
     "metadata": {},
     "output_type": "execute_result"
    }
   ],
   "source": [
    "# Missing values in train data\n",
    "dataset.isnull().values.sum()"
   ]
  },
  {
   "cell_type": "code",
   "execution_count": 29,
   "metadata": {
    "collapsed": false,
    "deletable": true,
    "editable": true
   },
   "outputs": [
    {
     "data": {
      "text/plain": [
       "748066"
      ]
     },
     "execution_count": 29,
     "metadata": {},
     "output_type": "execute_result"
    }
   ],
   "source": [
    "# total Number of unique sentences \n",
    "len(dataset.sentence_id.unique())\n"
   ]
  },
  {
   "cell_type": "code",
   "execution_count": 122,
   "metadata": {
    "collapsed": false
   },
   "outputs": [
    {
     "data": {
      "text/plain": [
       "256"
      ]
     },
     "execution_count": 122,
     "metadata": {},
     "output_type": "execute_result"
    }
   ],
   "source": [
    "# total number of unique tokens\n",
    "len(dataset.token_id.unique())"
   ]
  },
  {
   "cell_type": "code",
   "execution_count": 121,
   "metadata": {
    "collapsed": false,
    "scrolled": true
   },
   "outputs": [
    {
     "name": "stdout",
     "output_type": "stream",
     "text": [
      "class\n",
      "PLAIN         7353693\n",
      "PUNCT         1880507\n",
      "DATE           258348\n",
      "LETTERS        152795\n",
      "CARDINAL       133744\n",
      "VERBATIM        78108\n",
      "MEASURE         14783\n",
      "ORDINAL         12703\n",
      "DECIMAL          9821\n",
      "MONEY            6128\n",
      "DIGIT            5442\n",
      "ELECTRONIC       5162\n",
      "TELEPHONE        4024\n",
      "TIME             1465\n",
      "FRACTION         1196\n",
      "ADDRESS           522\n",
      "Name: class, dtype: int64\n"
     ]
    }
   ],
   "source": [
    "# Item counts for each class\n",
    "count_classes = dataset.groupby(\"class\")[\"class\"].count().sort_values(ascending=False)\n",
    "print(count_classes)"
   ]
  },
  {
   "cell_type": "markdown",
   "metadata": {},
   "source": [
    "**Most of the data belong to the plain text class** \n",
    "A visulization of the counts:"
   ]
  },
  {
   "cell_type": "code",
   "execution_count": 56,
   "metadata": {
    "collapsed": false
   },
   "outputs": [
    {
     "data": {
      "image/png": "[encoded data removed]",
      "text/plain": [
       "<matplotlib.figure.Figure at 0x1e6103bb278>"
      ]
     },
     "metadata": {},
     "output_type": "display_data"
    }
   ],
   "source": [
    "fig, ax = plt.subplots(1,1, figsize=(10,12))\n",
    "sns.set_style(\"whitegrid\")\n",
    "count_classes_plot = sns.countplot(\"class\", data=dataset, ax=ax)\n",
    "for item in count_classes_plot.get_xticklabels():\n",
    "    item.set_rotation(45)"
   ]
  },
  {
   "cell_type": "markdown",
   "metadata": {
    "deletable": true,
    "editable": true
   },
   "source": [
    "**Observation** \n",
    "\n",
    "Closely related classes: 'DIGIT', 'DECIMAL', 'CARDINAL', 'FRACTION' \n",
    "\n",
    "There is a chance of overlapping."
   ]
  },
  {
   "cell_type": "markdown",
   "metadata": {},
   "source": [
    "**Few Samples of Different Class Items and Their Frquency**"
   ]
  },
  {
   "cell_type": "code",
   "execution_count": 85,
   "metadata": {
    "collapsed": false
   },
   "outputs": [
    {
     "name": "stdout",
     "output_type": "stream",
     "text": [
      "Most frequent  PUNCT  CLASS Examples: \n",
      "before\n",
      ".    749454\n",
      ",    466876\n",
      "\"    267301\n",
      "Name: before, dtype: int64\n",
      "_______________________________________________\n",
      "Most frequent  ORDINAL  CLASS Examples: \n",
      "before\n",
      "2nd    1020\n",
      "1st     824\n",
      "3rd     668\n",
      "Name: before, dtype: int64\n",
      "_______________________________________________\n",
      "Most frequent  DATE  CLASS Examples: \n",
      "before\n",
      "2010    4629\n",
      "2006    4466\n",
      "2007    4048\n",
      "Name: before, dtype: int64\n",
      "_______________________________________________\n",
      "Most frequent  DIGIT  CLASS Examples: \n",
      "before\n",
      "2    386\n",
      "1    298\n",
      "3    218\n",
      "Name: before, dtype: int64\n",
      "_______________________________________________\n",
      "Most frequent  MEASURE  CLASS Examples: \n",
      "before\n",
      "50%    120\n",
      "80%     91\n",
      "40%     91\n",
      "Name: before, dtype: int64\n",
      "_______________________________________________\n",
      "Most frequent  VERBATIM  CLASS Examples: \n",
      "before\n",
      "-     11889\n",
      "&      9684\n",
      "pp     3932\n",
      "Name: before, dtype: int64\n",
      "_______________________________________________\n",
      "Most frequent  PLAIN  CLASS Examples: \n",
      "before\n",
      "the    370393\n",
      "of     233510\n",
      "in     188689\n",
      "Name: before, dtype: int64\n",
      "_______________________________________________\n",
      "Most frequent  ADDRESS  CLASS Examples: \n",
      "before\n",
      "C1     17\n",
      "C4     14\n",
      "C1     14\n",
      "Name: before, dtype: int64\n",
      "_______________________________________________\n",
      "Most frequent  MONEY  CLASS Examples: \n",
      "before\n",
      "$100,000    54\n",
      "$10,000     44\n",
      "$25,000     40\n",
      "Name: before, dtype: int64\n",
      "_______________________________________________\n",
      "Most frequent  TIME  CLASS Examples: \n",
      "before\n",
      "9pm    10\n",
      "5pm    10\n",
      "6pm     8\n",
      "Name: before, dtype: int64\n",
      "_______________________________________________\n",
      "Most frequent  FRACTION  CLASS Examples: \n",
      "before\n",
      "1/2     26\n",
      "1/4     19\n",
      "24/7    17\n",
      "Name: before, dtype: int64\n",
      "_______________________________________________\n",
      "Most frequent  DECIMAL  CLASS Examples: \n",
      "before\n",
      "2.0    95\n",
      ".1     75\n",
      "1.5    75\n",
      "Name: before, dtype: int64\n",
      "_______________________________________________\n",
      "Most frequent  TELEPHONE  CLASS Examples: \n",
      "before\n",
      "911      22\n",
      "0-4-0    10\n",
      "0-6-0    10\n",
      "Name: before, dtype: int64\n",
      "_______________________________________________\n",
      "Most frequent  CARDINAL  CLASS Examples: \n",
      "before\n",
      "1    7026\n",
      "2    6884\n",
      "3    5373\n",
      "Name: before, dtype: int64\n",
      "_______________________________________________\n",
      "Most frequent  LETTERS  CLASS Examples: \n",
      "before\n",
      "PDF     5605\n",
      "ISBN    3209\n",
      "U.S.    2853\n",
      "Name: before, dtype: int64\n",
      "_______________________________________________\n",
      "Most frequent  ELECTRONIC  CLASS Examples: \n",
      "before\n",
      "::            198\n",
      "Amazon.com     68\n",
      "BioLib.cz      33\n",
      "Name: before, dtype: int64\n",
      "_______________________________________________\n"
     ]
    }
   ],
   "source": [
    "for word in set(dataset[\"class\"]):\n",
    "    print(\"Most frequent \", word,\" CLASS Examples: \")\n",
    "    print(dataset[dataset[\"class\"]== word].groupby(\"before\")[\"before\"].count().sort_values(ascending=False)[:3])\n",
    "    print(\"_______________________________________________\")\n",
    "    "
   ]
  },
  {
   "cell_type": "markdown",
   "metadata": {},
   "source": [
    "**Number of elements changed after the normalization**"
   ]
  },
  {
   "cell_type": "code",
   "execution_count": 135,
   "metadata": {
    "collapsed": false
   },
   "outputs": [
    {
     "data": {
      "text/plain": [
       "659839"
      ]
     },
     "execution_count": 135,
     "metadata": {},
     "output_type": "execute_result"
    }
   ],
   "source": [
    "len(dataset[dataset.before != dataset.after])"
   ]
  },
  {
   "cell_type": "markdown",
   "metadata": {},
   "source": [
    "**Most Changed Words**"
   ]
  },
  {
   "cell_type": "code",
   "execution_count": 137,
   "metadata": {
    "collapsed": false
   },
   "outputs": [
    {
     "data": {
      "text/plain": [
       "<matplotlib.axes._subplots.AxesSubplot at 0x1e6172ec6a0>"
      ]
     },
     "execution_count": 137,
     "metadata": {},
     "output_type": "execute_result"
    },
    {
     "data": {
      "image/png": "[encoded data removed]",
      "text/plain": [
       "<matplotlib.figure.Figure at 0x1e6172d9fd0>"
      ]
     },
     "metadata": {},
     "output_type": "display_data"
    }
   ],
   "source": [
    "most_changed_words = dataset[dataset.before != dataset.after].groupby(\"before\")[\"before\"].count().sort_values(ascending=False).head(20)\n",
    "fig, ax = plt.subplots(1,1,figsize=(15,5))\n",
    "sns.barplot(x=most_changed_words.index, y=most_changed_words.values)"
   ]
  },
  {
   "cell_type": "markdown",
   "metadata": {},
   "source": [
    "**Plot of changes in different classes**"
   ]
  },
  {
   "cell_type": "code",
   "execution_count": 139,
   "metadata": {
    "collapsed": false
   },
   "outputs": [
    {
     "data": {
      "image/png": "[encoded data removed]",
      "text/plain": [
       "<matplotlib.figure.Figure at 0x1e617209978>"
      ]
     },
     "metadata": {},
     "output_type": "display_data"
    }
   ],
   "source": [
    "fig, ax = plt.subplots(1,1,figsize=(15,5))\n",
    "changes_classes_fig = sns.countplot(x=\"class\", data=dataset[dataset.before != dataset.after])\n",
    "for item in changes_classes_fig.get_xticklabels():\n",
    "    item.set_rotation(45)"
   ]
  },
  {
   "cell_type": "code",
   "execution_count": null,
   "metadata": {
    "collapsed": true
   },
   "outputs": [],
   "source": []
  },
  {
   "cell_type": "code",
   "execution_count": null,
   "metadata": {
    "collapsed": true
   },
   "outputs": [],
   "source": []
  }
 ],
 "metadata": {
  "kernelspec": {
   "display_name": "Python 3",
   "language": "python",
   "name": "python3"
  },
  "language_info": {
   "codemirror_mode": {
    "name": "ipython",
    "version": 3
   },
   "file_extension": ".py",
   "mimetype": "text/x-python",
   "name": "python",
   "nbconvert_exporter": "python",
   "pygments_lexer": "ipython3",
   "version": "3.5.2"
  }
 },
 "nbformat": 4,
 "nbformat_minor": 2
}
