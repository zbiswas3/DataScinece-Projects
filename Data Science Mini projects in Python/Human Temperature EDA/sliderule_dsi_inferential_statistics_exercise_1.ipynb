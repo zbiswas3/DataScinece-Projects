{
 "cells": [
  {
   "cell_type": "markdown",
   "metadata": {
    "deletable": true,
    "editable": true
   },
   "source": [
    "# What is the True Normal Human Body Temperature? \n",
    "\n",
    "#### Background\n",
    "\n",
    "The mean normal body temperature was held to be 37$^{\\circ}$C or 98.6$^{\\circ}$F for more than 120 years since it was first conceptualized and reported by Carl Wunderlich in a famous 1868 book. But, is this value statistically correct?"
   ]
  },
  {
   "cell_type": "markdown",
   "metadata": {
    "deletable": true,
    "editable": true
   },
   "source": [
    "<h3>Exercises</h3>\n",
    "\n",
    "<p>In this exercise, you will analyze a dataset of human body temperatures and employ the concepts of hypothesis testing, confidence intervals, and statistical significance.</p>\n",
    "\n",
    "<p>Answer the following questions <b>in this notebook below and submit to your Github account</b>.</p> \n",
    "\n",
    "<ol>\n",
    "<li>  Is the distribution of body temperatures normal? \n",
    "    <ul>\n",
    "    <li> Although this is not a requirement for the Central Limit Theorem to hold (read the introduction on Wikipedia's page about the CLT carefully: https://en.wikipedia.org/wiki/Central_limit_theorem), it gives us some peace of mind that the population may also be normally distributed if we assume that this sample is representative of the population.\n",
    "    <li> Think about the way you're going to check for the normality of the distribution. Graphical methods are usually used first, but there are also other ways: https://en.wikipedia.org/wiki/Normality_test\n",
    "    </ul>\n",
    "<li>  Is the sample size large? Are the observations independent?\n",
    "    <ul>\n",
    "    <li> Remember that this is a condition for the Central Limit Theorem, and hence the statistical tests we are using, to apply.\n",
    "    </ul>\n",
    "<li>  Is the true population mean really 98.6 degrees F?\n",
    "    <ul>\n",
    "    <li> First, try a bootstrap hypothesis test.\n",
    "    <li> Now, let's try frequentist statistical testing. Would you use a one-sample or two-sample test? Why?\n",
    "    <li> In this situation, is it appropriate to use the $t$ or $z$ statistic? \n",
    "    <li> Now try using the other test. How is the result be different? Why?\n",
    "    </ul>\n",
    "<li>  Draw a small sample of size 10 from the data and repeat both frequentist tests. \n",
    "    <ul>\n",
    "    <li> Which one is the correct one to use? \n",
    "    <li> What do you notice? What does this tell you about the difference in application of the $t$ and $z$ statistic?\n",
    "    </ul>\n",
    "<li>  At what temperature should we consider someone's temperature to be \"abnormal\"?\n",
    "    <ul>\n",
    "    <li> As in the previous example, try calculating everything using the boostrap approach, as well as the frequentist approach.\n",
    "    <li> Start by computing the margin of error and confidence interval. When calculating the confidence interval, keep in mind that you should use the appropriate formula for one draw, and not N draws.\n",
    "    </ul>\n",
    "<li>  Is there a significant difference between males and females in normal temperature?\n",
    "    <ul>\n",
    "    <li> What testing approach did you use and why?\n",
    "    <li> Write a story with your conclusion in the context of the original problem.\n",
    "    </ul>\n",
    "</ol>\n",
    "\n",
    "You can include written notes in notebook cells using Markdown: \n",
    "   - In the control panel at the top, choose Cell > Cell Type > Markdown\n",
    "   - Markdown syntax: http://nestacms.com/docs/creating-content/markdown-cheat-sheet\n",
    "\n",
    "#### Resources\n",
    "\n",
    "+ Information and data sources: http://www.amstat.org/publications/jse/datasets/normtemp.txt, http://www.amstat.org/publications/jse/jse_data_archive.htm\n",
    "+ Markdown syntax: http://nestacms.com/docs/creating-content/markdown-cheat-sheet\n",
    "\n",
    "****"
   ]
  },
  {
   "cell_type": "code",
   "execution_count": 1,
   "metadata": {
    "collapsed": true,
    "deletable": true,
    "editable": true
   },
   "outputs": [],
   "source": [
    "import pandas as pd\n",
    "from matplotlib import pyplot as plt\n",
    "import numpy as np\n",
    "from scipy import stats\n",
    "\n",
    "df = pd.read_csv('data/human_body_temperature.csv')"
   ]
  },
  {
   "cell_type": "code",
   "execution_count": 2,
   "metadata": {
    "collapsed": false,
    "deletable": true,
    "editable": true,
    "scrolled": true
   },
   "outputs": [
    {
     "data": {
      "text/html": [
       "<div>\n",
       "<style>\n",
       "    .dataframe thead tr:only-child th {\n",
       "        text-align: right;\n",
       "    }\n",
       "\n",
       "    .dataframe thead th {\n",
       "        text-align: left;\n",
       "    }\n",
       "\n",
       "    .dataframe tbody tr th {\n",
       "        vertical-align: top;\n",
       "    }\n",
       "</style>\n",
       "<table border=\"1\" class=\"dataframe\">\n",
       "  <thead>\n",
       "    <tr style=\"text-align: right;\">\n",
       "      <th></th>\n",
       "      <th>temperature</th>\n",
       "      <th>gender</th>\n",
       "      <th>heart_rate</th>\n",
       "    </tr>\n",
       "  </thead>\n",
       "  <tbody>\n",
       "    <tr>\n",
       "      <th>0</th>\n",
       "      <td>99.3</td>\n",
       "      <td>F</td>\n",
       "      <td>68.0</td>\n",
       "    </tr>\n",
       "    <tr>\n",
       "      <th>1</th>\n",
       "      <td>98.4</td>\n",
       "      <td>F</td>\n",
       "      <td>81.0</td>\n",
       "    </tr>\n",
       "    <tr>\n",
       "      <th>2</th>\n",
       "      <td>97.8</td>\n",
       "      <td>M</td>\n",
       "      <td>73.0</td>\n",
       "    </tr>\n",
       "    <tr>\n",
       "      <th>3</th>\n",
       "      <td>99.2</td>\n",
       "      <td>F</td>\n",
       "      <td>66.0</td>\n",
       "    </tr>\n",
       "    <tr>\n",
       "      <th>4</th>\n",
       "      <td>98.0</td>\n",
       "      <td>F</td>\n",
       "      <td>73.0</td>\n",
       "    </tr>\n",
       "  </tbody>\n",
       "</table>\n",
       "</div>"
      ],
      "text/plain": [
       "   temperature gender  heart_rate\n",
       "0         99.3      F        68.0\n",
       "1         98.4      F        81.0\n",
       "2         97.8      M        73.0\n",
       "3         99.2      F        66.0\n",
       "4         98.0      F        73.0"
      ]
     },
     "execution_count": 2,
     "metadata": {},
     "output_type": "execute_result"
    }
   ],
   "source": [
    "# Your work here.\n",
    "df.head()"
   ]
  },
  {
   "cell_type": "code",
   "execution_count": 3,
   "metadata": {
    "collapsed": false,
    "deletable": true,
    "editable": true
   },
   "outputs": [
    {
     "name": "stdout",
     "output_type": "stream",
     "text": [
      "size:  130\n"
     ]
    }
   ],
   "source": [
    "print(\"size: \",len(df['temperature']))"
   ]
  },
  {
   "cell_type": "code",
   "execution_count": 4,
   "metadata": {
    "collapsed": false,
    "deletable": true,
    "editable": true
   },
   "outputs": [
    {
     "data": {
      "image/png": "[encoded data removed]",
      "text/plain": [
       "<matplotlib.figure.Figure at 0x264f15be3c8>"
      ]
     },
     "metadata": {},
     "output_type": "display_data"
    }
   ],
   "source": [
    "# barplot of male and female readings\n",
    "plt.figure(figsize=(10, 7))\n",
    "df.groupby('gender').count()['temperature'].plot(kind='bar')\n",
    "plt.show()"
   ]
  },
  {
   "cell_type": "markdown",
   "metadata": {
    "deletable": true,
    "editable": true
   },
   "source": [
    "## 1.  Is the distribution of body temperatures normal? ##\n",
    "\n",
    "**1.1 Graphical Ways to test normality**\n",
    "\n",
    "The mean and median of a normal distribution are equal. The density plot of the distribution is symmetric around the mean/median. The quantile-quantile plot of a normal distribution fits on a straight line."
   ]
  },
  {
   "cell_type": "code",
   "execution_count": 5,
   "metadata": {
    "collapsed": false,
    "deletable": true,
    "editable": true,
    "scrolled": false
   },
   "outputs": [
    {
     "data": {
      "image/png": "[encoded data removed]",
      "text/plain": [
       "<matplotlib.figure.Figure at 0x264f198d940>"
      ]
     },
     "metadata": {},
     "output_type": "display_data"
    }
   ],
   "source": [
    "# the density plot and the histogram of the distribution of the body temperature\n",
    "plt.figure(figsize=(10, 7))\n",
    "df.temperature.hist(normed=True)\n",
    "df.temperature.plot(kind = 'kde')\n",
    "plt.xlabel('Body Temperature')\n",
    "plt.ylabel('Normalized Distribution')\n",
    "plt.show()"
   ]
  },
  {
   "cell_type": "code",
   "execution_count": 6,
   "metadata": {
    "collapsed": false,
    "deletable": true,
    "editable": true,
    "scrolled": false
   },
   "outputs": [
    {
     "data": {
      "image/png": "[encoded data removed]",
      "text/plain": [
       "<matplotlib.figure.Figure at 0x264ed1df8d0>"
      ]
     },
     "metadata": {},
     "output_type": "display_data"
    }
   ],
   "source": [
    "# Qunatile-quantile plot of distribution of the body temperatures\n",
    "plt.figure(figsize=(10, 7))\n",
    "stats.probplot(df['temperature'],plot=plt)\n",
    "plt.show()"
   ]
  },
  {
   "cell_type": "code",
   "execution_count": 7,
   "metadata": {
    "collapsed": false,
    "deletable": true,
    "editable": true
   },
   "outputs": [
    {
     "name": "stdout",
     "output_type": "stream",
     "text": [
      "Mean of the distribution is:  98.2492307692  and the Median is  98.3\n"
     ]
    }
   ],
   "source": [
    "print('Mean of the distribution is: ',np.mean(df['temperature']),' and the Median is ',np.median(df['temperature']))"
   ]
  },
  {
   "cell_type": "code",
   "execution_count": 8,
   "metadata": {
    "collapsed": false,
    "deletable": true,
    "editable": true
   },
   "outputs": [
    {
     "data": {
      "image/png": "[encoded data removed]",
      "text/plain": [
       "<matplotlib.figure.Figure at 0x264f1aa8518>"
      ]
     },
     "metadata": {},
     "output_type": "display_data"
    }
   ],
   "source": [
    "# the density plot and the histogram of the distribution of the body temperature for each gender\n",
    "plt.figure(figsize=(10, 7))\n",
    "df.groupby('gender')['temperature'].hist(normed='True', alpha =0.7)\n",
    "df.groupby('gender')['temperature'].plot(kind='kde')\n",
    "plt.legend(set(df.gender))\n",
    "plt.xlabel('Temperature')\n",
    "plt.show()"
   ]
  },
  {
   "cell_type": "markdown",
   "metadata": {
    "deletable": true,
    "editable": true
   },
   "source": [
    "### 1.2 Observation: ###\n",
    "\n",
    "1. The density plot of the distribution of temperature is about symmetrical around 98.3\n",
    "2. The quantile-quantile plot of the distribution almost linear\n",
    "3. The mean and the median of the distributions are equal\n",
    "4. Distribution is approximately normal for each gender too \n",
    "\n",
    "\n",
    "**1.3 Statistical Tests of Normality**\n",
    "\n",
    "***I. Shapiro Wilk Test***\n",
    "\n",
    "The Shapiro-Wilk test evaluates a data sample and quantifies how likely it is that the data distribution is normal. This method was created by Samuel Shapiro and Martin Wilk."
   ]
  },
  {
   "cell_type": "code",
   "execution_count": 9,
   "metadata": {
    "collapsed": false,
    "deletable": true,
    "editable": true
   },
   "outputs": [
    {
     "name": "stdout",
     "output_type": "stream",
     "text": [
      "Distribution of the body temperature is Normal\n"
     ]
    }
   ],
   "source": [
    "stat, p = stats.shapiro(df['temperature'])\n",
    "if(p > 0.05):\n",
    "    print('Distribution of the body temperature is Normal')\n",
    "else:\n",
    "    print('Distribution of the body temperature is not Normal')        "
   ]
  },
  {
   "cell_type": "markdown",
   "metadata": {
    "deletable": true,
    "editable": true
   },
   "source": [
    "***II. D’Agostino’s K-squared Test***\n",
    "\n",
    "The D’Agostino’s K-squared test calculates the kurtosis and skewness to determine if the data distribution departs from the normal distribution. This test was developed by Ralph D’Agostino."
   ]
  },
  {
   "cell_type": "code",
   "execution_count": 10,
   "metadata": {
    "collapsed": false,
    "deletable": true,
    "editable": true
   },
   "outputs": [
    {
     "name": "stdout",
     "output_type": "stream",
     "text": [
      "Distribution of the body temperature is Normal\n"
     ]
    }
   ],
   "source": [
    "skew, kurt = stats.normaltest(df['temperature'])\n",
    "if(kurt > 0.005):\n",
    "    print('Distribution of the body temperature is Normal')\n",
    "else:\n",
    "    print('Distribution of the body temperature is not Normal') "
   ]
  },
  {
   "cell_type": "markdown",
   "metadata": {
    "deletable": true,
    "editable": true
   },
   "source": [
    "## 2. Is the sample size large? Are the observations independent? ##\n",
    "\n",
    "\n",
    "**2.1 Sample Size Consideration**\n",
    "\n",
    "In the classical central limit theorem one of the assumptions is that the sample size n has to be infintely large. In reality this a considerably large sample size is used to meet this requirement. For the practical purpose, we assume the sample size has to be greater than 30 to be considered large enough for the Central limit theorem.\n"
   ]
  },
  {
   "cell_type": "code",
   "execution_count": 11,
   "metadata": {
    "collapsed": false,
    "deletable": true,
    "editable": true
   },
   "outputs": [
    {
     "name": "stdout",
     "output_type": "stream",
     "text": [
      "Sample size is: 130 (i.e. n>30); it is large enough for Central Limit Theorem\n"
     ]
    }
   ],
   "source": [
    "# Check if the sample size, n is greater than 30\n",
    "if len(df) > 30:\n",
    "    print('Sample size is:', len(df),'(i.e. n>30); it is large enough for Central Limit Theorem')\n",
    "else: \n",
    "    print('Sample size is not large enough for Central Limit Theorem')"
   ]
  },
  {
   "cell_type": "markdown",
   "metadata": {
    "deletable": true,
    "editable": true
   },
   "source": [
    "**2.2 Are The observations independant?**\n",
    "\n",
    "The original data are collected from the 148 individuals at different time. The body temperatures varies randomly. Sometimes it may be high and sometimes it may be low. A person with higher body temperature can undoubtedly gain more temperature. It is unpredictable base.Since human body temperature at any time does not affect teperature at a different time, the observations are thus independent of each other."
   ]
  },
  {
   "cell_type": "markdown",
   "metadata": {
    "collapsed": true,
    "deletable": true,
    "editable": true
   },
   "source": [
    "## 3. Is the true population mean really 98.6 degrees F? ##\n",
    "\n",
    "**3.1 Bootstrap Hypothesis Test**"
   ]
  },
  {
   "cell_type": "markdown",
   "metadata": {
    "deletable": true,
    "editable": true
   },
   "source": [
    "Since the distribution to achieve the mean body temperature of 98.6 is unknown, we will shift the distribution of observed body temperature to match the mean of 98.6. Hence, overall shape of the shifted distribution will remain same as the original distribution. \n",
    "\n",
    "Steps for the Hypothesis Testing:\n",
    "\n",
    "Step 1: Set up the Hypotheses:\n",
    "- Null Hypothesis(H0): true mean = 98.6\n",
    "- Alternative Hypothesis(Ha): true mean is not 98.6\n",
    "\n",
    "Step 2: Set significance level = 0.05\n",
    "\n",
    "Step 4: Draw bootstrap means from the shifted distribution\n",
    "\n",
    "Step 3: Set test statistics, p = probability of bootstrap mean is equal or less than the sample mean\n",
    "\n",
    "step 4: compare p >= 0.05\n",
    "\n"
   ]
  },
  {
   "cell_type": "code",
   "execution_count": 12,
   "metadata": {
    "collapsed": false,
    "deletable": true,
    "editable": true
   },
   "outputs": [],
   "source": [
    "def ecdf(data):\n",
    "    \"\"\"Compute ECDF for a one-dimensional array of measurements.\"\"\"\n",
    "    # Number of data points: n\n",
    "    n = len(data)\n",
    "    \n",
    "    # x-data for the ECDF: x\n",
    "    x = np.sort(data)\n",
    "\n",
    "    # y-data for the ECDF: y\n",
    "    y = np.arange(1, n+1) / n\n",
    "\n",
    "    return x, y\n"
   ]
  },
  {
   "cell_type": "code",
   "execution_count": 13,
   "metadata": {
    "collapsed": false,
    "deletable": true,
    "editable": true
   },
   "outputs": [
    {
     "data": {
      "image/png": "[encoded data removed]",
      "text/plain": [
       "<matplotlib.figure.Figure at 0x264f1ba84a8>"
      ]
     },
     "metadata": {},
     "output_type": "display_data"
    }
   ],
   "source": [
    "# shift the distribution of temperature to match the mean 98.6\n",
    "shifted_temperature = df.temperature - np.mean(df.temperature) + 98.6\n",
    "\n",
    "# CDF of the distributions\n",
    "x, y = ecdf(df.temperature)\n",
    "x_shifted, y_shifted = ecdf(shifted_temperature)\n",
    "\n",
    "# plot of the two distribution to compare the shape of overall distribution\n",
    "plt.figure(figsize=(10, 7))\n",
    "plt.plot(x, y)\n",
    "plt.plot(x_shifted, y_shifted)\n",
    "plt.xlabel('Body Temperature')\n",
    "plt.ylabel(' Empirical cumulative distribution')\n",
    "plt.legend(('Observed Temperature', 'Shifted Temperature'), loc='lower right')\n",
    "plt.show()"
   ]
  },
  {
   "cell_type": "code",
   "execution_count": 14,
   "metadata": {
    "collapsed": true,
    "deletable": true,
    "editable": true
   },
   "outputs": [],
   "source": [
    "def draw_bs_reps(data, func, size=1):\n",
    "    \"\"\"Draw bootstrap replicates.\"\"\"\n",
    "\n",
    "    # Initialize array of replicates: bs_replicates\n",
    "    bs_replicates = np.empty(size)\n",
    "\n",
    "    # Generate replicates\n",
    "    for i in range(size):\n",
    "        bs_replicates[i] = func(np.random.choice(data, size=len(data)))\n",
    "    return bs_replicates\n"
   ]
  },
  {
   "cell_type": "code",
   "execution_count": 15,
   "metadata": {
    "collapsed": false,
    "deletable": true,
    "editable": true
   },
   "outputs": [
    {
     "name": "stdout",
     "output_type": "stream",
     "text": [
      "Test Statistics p =  0.0\n",
      "Since the p = 0.0 < 0.05, H0 is rejected. Therefore, the true mean is not 98.6\n"
     ]
    }
   ],
   "source": [
    "# mean of the original distribution\n",
    "df_temperature_mean = np.mean(df.temperature)\n",
    "\n",
    "# boostrapped means of randomly drawn samples\n",
    "bs_temperature_mean = draw_bs_reps(shifted_temperature, np.mean, 10000)\n",
    "\n",
    "# test statistics p\n",
    "p = np.sum(bs_temperature_mean<=df_temperature_mean)/len(bs_temperature_mean)\n",
    "\n",
    "# print the 95% confidence level\n",
    "print(\"Test Statistics p = \", p)\n",
    "print(\"Since the p = {} < 0.05, H0 is rejected. Therefore, the true mean is not 98.6\".format(p))"
   ]
  },
  {
   "cell_type": "markdown",
   "metadata": {
    "collapsed": false,
    "deletable": true,
    "editable": true
   },
   "source": [
    "**3.2 Now, let's try frequentist statistical testing. Would you use a one-sample or two-sample test? Why?**\n",
    "\n",
    "A distribution is required to fulfill three major conditions for statistical inference\n",
    "- Noramlity: \n",
    "    Distribution need to be normal or approximately normal. The provided data-set meet this requirement. Even gender-wise distributions also meet the requirement. \n",
    "- Random: \n",
    "    Individual Observation has to be collected randomly. Original data is collected at a random. Although the provided data sampled selectively, but it resembles the original histogram and distribution. Therefore, we can assume the provided dataset meet this condition too.\n",
    "    \n",
    "- Independent\n",
    "    The observations have to  be independent. The provided dataset does meet this condition.\n",
    "    \n",
    "    \n",
    "**3.3 In this situation, is it appropriate to use the  t  or  z  statistic?**\n",
    "\n",
    "Since The true standard deviation is not known, one sample t statistics would be more appropriate. However, the sample size is large. Z-test would also produce pretty accurate result."
   ]
  },
  {
   "cell_type": "code",
   "execution_count": 16,
   "metadata": {
    "collapsed": false,
    "deletable": true,
    "editable": true
   },
   "outputs": [],
   "source": [
    "# import the models for dependent t-test \n",
    "from scipy.stats import ttest_1samp\n",
    "from statsmodels.stats.weightstats import ztest"
   ]
  },
  {
   "cell_type": "markdown",
   "metadata": {
    "collapsed": true,
    "deletable": true,
    "editable": true
   },
   "source": [
    "**3.4 t-test for one samples**\n",
    "\n",
    "- H0 : mean of the randomly picked temperature samples = 98.6\n",
    "- Ha : mena of the randomly picked temperature samples is not 98.6\n",
    "- In this situation, Type I error--Considering People with 98.6F temperature have abonarmality or disease, when they are not sick, and Type II error--Considering people with 98.6F temperatutre is not sick, when they are truly sick. Hence Type II is more dangerous than Type I scenario. The sigficance level alpha = 0.05 , in stead of somewhat lower like 0.1"
   ]
  },
  {
   "cell_type": "code",
   "execution_count": 17,
   "metadata": {
    "collapsed": false,
    "deletable": true,
    "editable": true
   },
   "outputs": [
    {
     "name": "stdout",
     "output_type": "stream",
     "text": [
      "p value from t-test is 2.4106320415561276e-07\n",
      "Since p value is smaller than the significance level 0.05, the null hypothesis is rejected. True Normal body temperature is not 98.6.\n"
     ]
    }
   ],
   "source": [
    "# calculate p value from the dependent t statistics\n",
    "p_ttest = ttest_1samp(df.temperature, 98.6 )[1]\n",
    "\n",
    "print(\"p value from t-test is {}\".format(p_ttest))\n",
    "if(p_ttest <0.05):\n",
    "    print(\"Since p value is smaller than the significance level 0.05, the null hypothesis is rejected. True Normal body temperature is not 98.6.\")\n",
    "else:\n",
    "    print(\"Since p value is greater than the significance level 0.05, the null hypothesis is not rejected. True normal temperature is  98.6.\")"
   ]
  },
  {
   "cell_type": "markdown",
   "metadata": {
    "deletable": true,
    "editable": true
   },
   "source": [
    "**3.5 Now try using the other test.**\n",
    "\n",
    "**Z-test for one sample**"
   ]
  },
  {
   "cell_type": "code",
   "execution_count": 18,
   "metadata": {
    "collapsed": false,
    "deletable": true,
    "editable": true
   },
   "outputs": [
    {
     "name": "stdout",
     "output_type": "stream",
     "text": [
      "p value from the z-test is 4.9021570141012155e-08\n",
      "Since p value is smaller than the significance level 0.05, the null hypothesis is rejected. True Normal body temperature is not 98.6.\n"
     ]
    }
   ],
   "source": [
    "# calculate p value from the z-statistics\n",
    "p_ztest = ztest(x1=df.temperature, value=98.6)[1]\n",
    "\n",
    "# compare the p value with the significance level\n",
    "print(\"p value from the z-test is {}\".format(p_ztest))\n",
    "if(p_ztest <0.05):\n",
    "    print(\"Since p value is smaller than the significance level 0.05, the null hypothesis is rejected. True Normal body temperature is not 98.6.\")\n",
    "else:\n",
    "    print(\"Since p value is greater than the significance level 0.05, the null hypothesis is not rejected. True normal temperature is  98.6.\")\n",
    "        "
   ]
  },
  {
   "cell_type": "markdown",
   "metadata": {
    "deletable": true,
    "editable": true
   },
   "source": [
    "**3.6 How is the result be different? Why?**\n",
    "\n",
    "Both the t-test and the z-test reject the null hypothesis and proves that the normal body temperature is not 98.6 F. ALthough the p values for the tests are not the same, the difference is very small; close to 0. Since the sample size is large (n >30), both test shows approximately same result. "
   ]
  },
  {
   "cell_type": "markdown",
   "metadata": {
    "deletable": true,
    "editable": true
   },
   "source": [
    "## 4. Draw a small sample of size 10 from the data and repeat both frequentist tests. ##\n"
   ]
  },
  {
   "cell_type": "code",
   "execution_count": 19,
   "metadata": {
    "collapsed": false,
    "deletable": true,
    "editable": true
   },
   "outputs": [
    {
     "data": {
      "image/png": "[encoded data removed]",
      "text/plain": [
       "<matplotlib.figure.Figure at 0x264f1c6c358>"
      ]
     },
     "metadata": {},
     "output_type": "display_data"
    },
    {
     "name": "stdout",
     "output_type": "stream",
     "text": [
      "\n",
      "\n",
      "From the Q-Q plot it's clear that the small sample is normally distributed.\n"
     ]
    }
   ],
   "source": [
    "# draw a small sample of size 10 from the data\n",
    "np.random.seed(42)\n",
    "temperature_dist_10 = np.random.choice(df.temperature, size=10, replace=False)\n",
    "\n",
    "# plot the Q-Q plot of the distribution \n",
    "plt.figure(figsize=(10, 7))\n",
    "stats.probplot(temperature_dist_10, plot=plt)\n",
    "plt.show()\n",
    "\n",
    "print(\"\\n\\nFrom the Q-Q plot it's clear that the small sample is normally distributed.\" )"
   ]
  },
  {
   "cell_type": "markdown",
   "metadata": {
    "deletable": true,
    "editable": true
   },
   "source": [
    "**i. t-test on the small sample**"
   ]
  },
  {
   "cell_type": "code",
   "execution_count": 20,
   "metadata": {
    "collapsed": false,
    "deletable": true,
    "editable": true
   },
   "outputs": [
    {
     "name": "stdout",
     "output_type": "stream",
     "text": [
      "p value from t-test is 0.15304624869561917\n",
      "Since p value is greater than the significance level 0.05, the null hypothesis is not rejected. True normal temperature is  98.6.\n"
     ]
    }
   ],
   "source": [
    "# calculate p value from the dependent t statistics\n",
    "p_ttest_small = ttest_1samp(temperature_dist_10, 98.6 )[1]\n",
    "\n",
    "print(\"p value from t-test is {}\".format(p_ttest_small))\n",
    "if(p_ttest_small <0.05):\n",
    "    print(\"Since p value is smaller than the significance level 0.05, the null hypothesis is rejected. True Normal body temperature is not 98.6.\")\n",
    "else:\n",
    "    print(\"Since p value is greater than the significance level 0.05, the null hypothesis is not rejected. True normal temperature is  98.6.\")\n",
    "  "
   ]
  },
  {
   "cell_type": "markdown",
   "metadata": {
    "deletable": true,
    "editable": true
   },
   "source": [
    "**ii. z-test on the small sample**"
   ]
  },
  {
   "cell_type": "code",
   "execution_count": 21,
   "metadata": {
    "collapsed": false,
    "deletable": true,
    "editable": true
   },
   "outputs": [
    {
     "name": "stdout",
     "output_type": "stream",
     "text": [
      "p value from the z-test is 0.11861362990253162\n",
      "Since p value is greater than the significance level 0.05, the null hypothesis is not rejected. True normal temperature is  98.6.\n"
     ]
    }
   ],
   "source": [
    "# calculate p value from the z-statistics\n",
    "p_ztest_small = ztest(x1=temperature_dist_10, value=98.6)[1]\n",
    "\n",
    "# compare the p value with the significance level\n",
    "print(\"p value from the z-test is {}\".format(p_ztest_small))\n",
    "if(p_ztest_small <0.05):\n",
    "    print(\"Since p value is smaller than the significance level 0.05, the null hypothesis is rejected. True Normal body temperature is not 98.6.\")\n",
    "else:\n",
    "    print(\"Since p value is greater than the significance level 0.05, the null hypothesis is not rejected. True normal temperature is  98.6.\")\n",
    "    "
   ]
  },
  {
   "cell_type": "markdown",
   "metadata": {
    "deletable": true,
    "editable": true
   },
   "source": [
    "**4.1. Which one is the correct one to use?**\n",
    "\n",
    "In case of smaller (n <30) sample like this one, t-test is more correct to use.\n",
    "\n",
    "**4.2. What do you notice?**\n",
    "\n",
    "From the frequintists tests on samples of different sizes, a few changes are noticable:\n",
    "- These tests vary drastically with the sample size. \n",
    "- With smaller sample these tests may produce inaccurate results\n",
    "\n",
    "\n",
    "**4.3.  What does this tell you about the difference in application of the  t  and  z  statistic?**\n",
    "\n",
    "It is also noticable that with large sample size and unknown standard deviation, z-test and t-test results almost same p value. However, for a smaller sample, there is significant difference between the p-values of these two tests. For instance, when the sample size was 130 this difference was approximately to 0, but for a small sample size of 10, the difference is about 0.03.  "
   ]
  },
  {
   "cell_type": "markdown",
   "metadata": {
    "collapsed": true,
    "deletable": true,
    "editable": true
   },
   "source": [
    "## 5. At what temperature should we consider someone's temperature to be \"abnormal\"?\n",
    "- As in the previous example, try calculating everything using the boostrap approach, as well as the frequentist approach.\n",
    "- Start by computing the margin of error and confidence interval. When calculating the confidence interval, keep in mind that you should use the appropriate formula for one draw, and not N draws.\n"
   ]
  },
  {
   "cell_type": "markdown",
   "metadata": {
    "collapsed": false,
    "deletable": true,
    "editable": true
   },
   "source": [
    "**i. Bootstrap method**"
   ]
  },
  {
   "cell_type": "code",
   "execution_count": 22,
   "metadata": {
    "collapsed": false,
    "deletable": true,
    "editable": true
   },
   "outputs": [
    {
     "name": "stdout",
     "output_type": "stream",
     "text": [
      "Anyone with body temperature outside the range of [ 98.12307692  98.37461538] will be considered 'abnormal' \n"
     ]
    }
   ],
   "source": [
    "# Draw 10000 random sample of size 130 and calculate their mean.\n",
    "bootstrap_mean_distribution = draw_bs_reps(data=df.temperature, func=np.mean, size=10000)\n",
    "\n",
    "# find the 95% confidence interval of the distribution of the boostrap mean\n",
    "bs_confidence_interval = np.percentile(bootstrap_mean_distribution, [2.5, 97.5])\n",
    "\n",
    "print(\"Anyone with body temperature outside the range of {} will be considered 'abnormal' \".format(bs_confidence_interval))"
   ]
  },
  {
   "cell_type": "markdown",
   "metadata": {
    "collapsed": true,
    "deletable": true,
    "editable": true
   },
   "source": [
    "**ii. Frequintist Method (T-table)**"
   ]
  },
  {
   "cell_type": "code",
   "execution_count": 23,
   "metadata": {
    "collapsed": false,
    "deletable": true,
    "editable": true
   },
   "outputs": [
    {
     "name": "stdout",
     "output_type": "stream",
     "text": [
      "Margin of error: 0.1272278636227305\n",
      "Anyone with body temperature outside the range of (98.122002905608014, 98.376458632853485) will be considered 'abnormal'.\n"
     ]
    }
   ],
   "source": [
    "# Assuming the the dataset represent the true population data \n",
    "critical_value = stats.t.ppf(q = 0.975, df=len(df.temperature)-1)\n",
    "std_error = df.temperature.std()/np.sqrt(len(df.temperature))\n",
    "margin_of_error = critical_value*std_error\n",
    "confidence_interval = stats.t.interval(alpha=0.95, df=len(df.temperature)-1, loc=df.temperature.mean(), scale= std_error)\n",
    "\n",
    "\n",
    "print(\"Margin of error: {}\".format(margin_of_error))\n",
    "print(\"Anyone with body temperature outside the range of {} will be considered 'abnormal'.\".format(confidence_interval))"
   ]
  },
  {
   "cell_type": "markdown",
   "metadata": {
    "collapsed": true,
    "deletable": true,
    "editable": true
   },
   "source": [
    "## 6. Is there a significant difference between males and females in normal temperature?\n",
    "\n",
    "\n",
    "**Hypothesis Testing** \n",
    "\n",
    "Null Hypothesis, H0: Normal temperature of male -  Normal temperature of Female = 0 \n",
    "\n",
    "Alternate Hypothesis Ha : The temperature difference of male and female is not 0. There is a significant difference in the \n",
    "normal temperature\n",
    "\n",
    "Sigficance level: alpha = 0.05"
   ]
  },
  {
   "cell_type": "code",
   "execution_count": 24,
   "metadata": {
    "collapsed": false,
    "deletable": true,
    "editable": true
   },
   "outputs": [
    {
     "name": "stdout",
     "output_type": "stream",
     "text": [
      "Average temperature among Males : 98.1046153846\n",
      "Average temperature among Females : 98.3938461538\n",
      "\n",
      "\n",
      "Since p value is smaller than the significance level 0.05, the null hypothesis is rejected. There is a significant difference between males and females in normal temperature.\n",
      "\n"
     ]
    }
   ],
   "source": [
    "# Temperature distributions of males and females \n",
    "temperature_dist_male = df.temperature[df.gender=='M']\n",
    "temperature_dist_female = df.temperature[df.gender == 'F']\n",
    "\n",
    "# mean temperatures of male and female\n",
    "print(\"Average temperature among Males :\", temperature_dist_male.mean() )\n",
    "print(\"Average temperature among Females :\", temperature_dist_female.mean())\n",
    "print(\"\\n\")\n",
    "\n",
    "\n",
    "# find the p-value \n",
    "p_value_diff = stats.ttest_ind(a=temperature_dist_male, b=temperature_dist_female)[1]\n",
    "\n",
    "# compare the p value to prove or reject the hypothesis\n",
    "if(p_value_diff <0.05):\n",
    "    print(\"Since p value is smaller than the significance level 0.05, the null hypothesis is rejected. There is a significant difference between males and females in normal temperature.\\n\")\n",
    "else:\n",
    "    print(\"Since p value is greater than the significance level 0.05, the null hypothesis is not rejected. There is no difference in male and female in normal temperature.\\n \")\n",
    "    "
   ]
  },
  {
   "cell_type": "markdown",
   "metadata": {},
   "source": [
    "**6.1. What testing approach did you use and why?**\n",
    "\n",
    "We used a two sample t-testing. The distributions for male and female meets the condisions of frequintist inferencial statistics. However, the true population standard deviation is unknown. Although z-test would also show the same result, independent two sample t-test would perform better in case of unknown standard deviation. \n",
    "\n"
   ]
  },
  {
   "cell_type": "markdown",
   "metadata": {},
   "source": [
    "## Write a story with your conclusion in the context of the original problem. ##\n",
    "\n",
    "It is commonly known that regardless of gender, normal body temperature of 98.6 F. However, in reality sickness cannot be determined with this ideal number. From the data analysis we have seen that the temperature of a group of healthy people varies between 98.1 to 98.4, even though they are not sick. After recording their temperature at different time, it was found that their average normal temperature hardly ever reaches 98.6 F. This result, however, differs with the gender. Surprisingly, unlike the usual assumption, male and female do have different normal body temperature, and for females it is slightly higher than that of males. In conclusion, if the body temperature crosses the range of 98.1F to 98.4F, it is a sign of sickness; and the best option in this case is to consult a doctor. \n"
   ]
  }
 ],
 "metadata": {
  "kernelspec": {
   "display_name": "Python 3",
   "language": "python",
   "name": "python3"
  },
  "language_info": {
   "codemirror_mode": {
    "name": "ipython",
    "version": 3
   },
   "file_extension": ".py",
   "mimetype": "text/x-python",
   "name": "python",
   "nbconvert_exporter": "python",
   "pygments_lexer": "ipython3",
   "version": "3.5.2"
  }
 },
 "nbformat": 4,
 "nbformat_minor": 1
}
